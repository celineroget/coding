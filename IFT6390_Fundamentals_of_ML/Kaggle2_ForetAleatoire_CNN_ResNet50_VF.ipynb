{
  "cells": [
    {
      "cell_type": "markdown",
      "metadata": {
        "id": "KM9XVDmL2SoT"
      },
      "source": [
        "# Kaggle2 - ASCII Sign Language\n"
      ]
    },
    {
      "cell_type": "markdown",
      "metadata": {
        "id": "idTLGjrcugmR"
      },
      "source": [
        "Le but de la compétition est de développer un algorithme ML pour reconnaître les différentes lettres du langage des signes ASL à partir d'images de mains. On dispose d'un jeu de données MNIST ASL donnant pour chaque exemple son label (une lettre de A à Z représentée par un chiffre de 0 à 25) et 784 valeurs de pixels (représentant les 784 pixels de l'image du signe, de taille 28*28, en noir et blanc). Nous devons implémenter un modèle de forêts aléatoires à partir des librairies Numpy et Pandas de Python, puis tester un modèle CNN et d'autres modèles pour tenter d'améliorer la performance de notre classifieur."
      ]
    },
    {
      "cell_type": "markdown",
      "metadata": {
        "id": "xwafc_T22Soe"
      },
      "source": [
        "# I- Preparation des données\n",
        "Nous allons commencer par charger les données (entrainement + test) et séparer les données d'entrainement en ensemble d'entrainement/et de validation."
      ]
    },
    {
      "cell_type": "markdown",
      "metadata": {
        "id": "biKVgD4a-FZB"
      },
      "source": [
        "## I.1 - Importation des données"
      ]
    },
    {
      "cell_type": "code",
      "execution_count": 1,
      "metadata": {
        "colab": {
          "base_uri": "https://localhost:8080/"
        },
        "id": "WlNPne7V2So6",
        "outputId": "5051c1f3-16a1-48b3-ef3e-74afc9fcd28e",
        "scrolled": true
      },
      "outputs": [
        {
          "name": "stdout",
          "output_type": "stream",
          "text": [
            "Mounted at /content/gdrive\n",
            "['label', 'pixel1', 'pixel2', 'pixel3', 'pixel4', 'pixel5', 'pixel6', 'pixel7', 'pixel8', 'pixel9', 'pixel10', 'pixel11', 'pixel12', 'pixel13', 'pixel14', 'pixel15', 'pixel16', 'pixel17', 'pixel18', 'pixel19', 'pixel20', 'pixel21', 'pixel22', 'pixel23', 'pixel24', 'pixel25', 'pixel26', 'pixel27', 'pixel28', 'pixel29', 'pixel30', 'pixel31', 'pixel32', 'pixel33', 'pixel34', 'pixel35', 'pixel36', 'pixel37', 'pixel38', 'pixel39', 'pixel40', 'pixel41', 'pixel42', 'pixel43', 'pixel44', 'pixel45', 'pixel46', 'pixel47', 'pixel48', 'pixel49', 'pixel50', 'pixel51', 'pixel52', 'pixel53', 'pixel54', 'pixel55', 'pixel56', 'pixel57', 'pixel58', 'pixel59', 'pixel60', 'pixel61', 'pixel62', 'pixel63', 'pixel64', 'pixel65', 'pixel66', 'pixel67', 'pixel68', 'pixel69', 'pixel70', 'pixel71', 'pixel72', 'pixel73', 'pixel74', 'pixel75', 'pixel76', 'pixel77', 'pixel78', 'pixel79', 'pixel80', 'pixel81', 'pixel82', 'pixel83', 'pixel84', 'pixel85', 'pixel86', 'pixel87', 'pixel88', 'pixel89', 'pixel90', 'pixel91', 'pixel92', 'pixel93', 'pixel94', 'pixel95', 'pixel96', 'pixel97', 'pixel98', 'pixel99', 'pixel100', 'pixel101', 'pixel102', 'pixel103', 'pixel104', 'pixel105', 'pixel106', 'pixel107', 'pixel108', 'pixel109', 'pixel110', 'pixel111', 'pixel112', 'pixel113', 'pixel114', 'pixel115', 'pixel116', 'pixel117', 'pixel118', 'pixel119', 'pixel120', 'pixel121', 'pixel122', 'pixel123', 'pixel124', 'pixel125', 'pixel126', 'pixel127', 'pixel128', 'pixel129', 'pixel130', 'pixel131', 'pixel132', 'pixel133', 'pixel134', 'pixel135', 'pixel136', 'pixel137', 'pixel138', 'pixel139', 'pixel140', 'pixel141', 'pixel142', 'pixel143', 'pixel144', 'pixel145', 'pixel146', 'pixel147', 'pixel148', 'pixel149', 'pixel150', 'pixel151', 'pixel152', 'pixel153', 'pixel154', 'pixel155', 'pixel156', 'pixel157', 'pixel158', 'pixel159', 'pixel160', 'pixel161', 'pixel162', 'pixel163', 'pixel164', 'pixel165', 'pixel166', 'pixel167', 'pixel168', 'pixel169', 'pixel170', 'pixel171', 'pixel172', 'pixel173', 'pixel174', 'pixel175', 'pixel176', 'pixel177', 'pixel178', 'pixel179', 'pixel180', 'pixel181', 'pixel182', 'pixel183', 'pixel184', 'pixel185', 'pixel186', 'pixel187', 'pixel188', 'pixel189', 'pixel190', 'pixel191', 'pixel192', 'pixel193', 'pixel194', 'pixel195', 'pixel196', 'pixel197', 'pixel198', 'pixel199', 'pixel200', 'pixel201', 'pixel202', 'pixel203', 'pixel204', 'pixel205', 'pixel206', 'pixel207', 'pixel208', 'pixel209', 'pixel210', 'pixel211', 'pixel212', 'pixel213', 'pixel214', 'pixel215', 'pixel216', 'pixel217', 'pixel218', 'pixel219', 'pixel220', 'pixel221', 'pixel222', 'pixel223', 'pixel224', 'pixel225', 'pixel226', 'pixel227', 'pixel228', 'pixel229', 'pixel230', 'pixel231', 'pixel232', 'pixel233', 'pixel234', 'pixel235', 'pixel236', 'pixel237', 'pixel238', 'pixel239', 'pixel240', 'pixel241', 'pixel242', 'pixel243', 'pixel244', 'pixel245', 'pixel246', 'pixel247', 'pixel248', 'pixel249', 'pixel250', 'pixel251', 'pixel252', 'pixel253', 'pixel254', 'pixel255', 'pixel256', 'pixel257', 'pixel258', 'pixel259', 'pixel260', 'pixel261', 'pixel262', 'pixel263', 'pixel264', 'pixel265', 'pixel266', 'pixel267', 'pixel268', 'pixel269', 'pixel270', 'pixel271', 'pixel272', 'pixel273', 'pixel274', 'pixel275', 'pixel276', 'pixel277', 'pixel278', 'pixel279', 'pixel280', 'pixel281', 'pixel282', 'pixel283', 'pixel284', 'pixel285', 'pixel286', 'pixel287', 'pixel288', 'pixel289', 'pixel290', 'pixel291', 'pixel292', 'pixel293', 'pixel294', 'pixel295', 'pixel296', 'pixel297', 'pixel298', 'pixel299', 'pixel300', 'pixel301', 'pixel302', 'pixel303', 'pixel304', 'pixel305', 'pixel306', 'pixel307', 'pixel308', 'pixel309', 'pixel310', 'pixel311', 'pixel312', 'pixel313', 'pixel314', 'pixel315', 'pixel316', 'pixel317', 'pixel318', 'pixel319', 'pixel320', 'pixel321', 'pixel322', 'pixel323', 'pixel324', 'pixel325', 'pixel326', 'pixel327', 'pixel328', 'pixel329', 'pixel330', 'pixel331', 'pixel332', 'pixel333', 'pixel334', 'pixel335', 'pixel336', 'pixel337', 'pixel338', 'pixel339', 'pixel340', 'pixel341', 'pixel342', 'pixel343', 'pixel344', 'pixel345', 'pixel346', 'pixel347', 'pixel348', 'pixel349', 'pixel350', 'pixel351', 'pixel352', 'pixel353', 'pixel354', 'pixel355', 'pixel356', 'pixel357', 'pixel358', 'pixel359', 'pixel360', 'pixel361', 'pixel362', 'pixel363', 'pixel364', 'pixel365', 'pixel366', 'pixel367', 'pixel368', 'pixel369', 'pixel370', 'pixel371', 'pixel372', 'pixel373', 'pixel374', 'pixel375', 'pixel376', 'pixel377', 'pixel378', 'pixel379', 'pixel380', 'pixel381', 'pixel382', 'pixel383', 'pixel384', 'pixel385', 'pixel386', 'pixel387', 'pixel388', 'pixel389', 'pixel390', 'pixel391', 'pixel392', 'pixel393', 'pixel394', 'pixel395', 'pixel396', 'pixel397', 'pixel398', 'pixel399', 'pixel400', 'pixel401', 'pixel402', 'pixel403', 'pixel404', 'pixel405', 'pixel406', 'pixel407', 'pixel408', 'pixel409', 'pixel410', 'pixel411', 'pixel412', 'pixel413', 'pixel414', 'pixel415', 'pixel416', 'pixel417', 'pixel418', 'pixel419', 'pixel420', 'pixel421', 'pixel422', 'pixel423', 'pixel424', 'pixel425', 'pixel426', 'pixel427', 'pixel428', 'pixel429', 'pixel430', 'pixel431', 'pixel432', 'pixel433', 'pixel434', 'pixel435', 'pixel436', 'pixel437', 'pixel438', 'pixel439', 'pixel440', 'pixel441', 'pixel442', 'pixel443', 'pixel444', 'pixel445', 'pixel446', 'pixel447', 'pixel448', 'pixel449', 'pixel450', 'pixel451', 'pixel452', 'pixel453', 'pixel454', 'pixel455', 'pixel456', 'pixel457', 'pixel458', 'pixel459', 'pixel460', 'pixel461', 'pixel462', 'pixel463', 'pixel464', 'pixel465', 'pixel466', 'pixel467', 'pixel468', 'pixel469', 'pixel470', 'pixel471', 'pixel472', 'pixel473', 'pixel474', 'pixel475', 'pixel476', 'pixel477', 'pixel478', 'pixel479', 'pixel480', 'pixel481', 'pixel482', 'pixel483', 'pixel484', 'pixel485', 'pixel486', 'pixel487', 'pixel488', 'pixel489', 'pixel490', 'pixel491', 'pixel492', 'pixel493', 'pixel494', 'pixel495', 'pixel496', 'pixel497', 'pixel498', 'pixel499', 'pixel500', 'pixel501', 'pixel502', 'pixel503', 'pixel504', 'pixel505', 'pixel506', 'pixel507', 'pixel508', 'pixel509', 'pixel510', 'pixel511', 'pixel512', 'pixel513', 'pixel514', 'pixel515', 'pixel516', 'pixel517', 'pixel518', 'pixel519', 'pixel520', 'pixel521', 'pixel522', 'pixel523', 'pixel524', 'pixel525', 'pixel526', 'pixel527', 'pixel528', 'pixel529', 'pixel530', 'pixel531', 'pixel532', 'pixel533', 'pixel534', 'pixel535', 'pixel536', 'pixel537', 'pixel538', 'pixel539', 'pixel540', 'pixel541', 'pixel542', 'pixel543', 'pixel544', 'pixel545', 'pixel546', 'pixel547', 'pixel548', 'pixel549', 'pixel550', 'pixel551', 'pixel552', 'pixel553', 'pixel554', 'pixel555', 'pixel556', 'pixel557', 'pixel558', 'pixel559', 'pixel560', 'pixel561', 'pixel562', 'pixel563', 'pixel564', 'pixel565', 'pixel566', 'pixel567', 'pixel568', 'pixel569', 'pixel570', 'pixel571', 'pixel572', 'pixel573', 'pixel574', 'pixel575', 'pixel576', 'pixel577', 'pixel578', 'pixel579', 'pixel580', 'pixel581', 'pixel582', 'pixel583', 'pixel584', 'pixel585', 'pixel586', 'pixel587', 'pixel588', 'pixel589', 'pixel590', 'pixel591', 'pixel592', 'pixel593', 'pixel594', 'pixel595', 'pixel596', 'pixel597', 'pixel598', 'pixel599', 'pixel600', 'pixel601', 'pixel602', 'pixel603', 'pixel604', 'pixel605', 'pixel606', 'pixel607', 'pixel608', 'pixel609', 'pixel610', 'pixel611', 'pixel612', 'pixel613', 'pixel614', 'pixel615', 'pixel616', 'pixel617', 'pixel618', 'pixel619', 'pixel620', 'pixel621', 'pixel622', 'pixel623', 'pixel624', 'pixel625', 'pixel626', 'pixel627', 'pixel628', 'pixel629', 'pixel630', 'pixel631', 'pixel632', 'pixel633', 'pixel634', 'pixel635', 'pixel636', 'pixel637', 'pixel638', 'pixel639', 'pixel640', 'pixel641', 'pixel642', 'pixel643', 'pixel644', 'pixel645', 'pixel646', 'pixel647', 'pixel648', 'pixel649', 'pixel650', 'pixel651', 'pixel652', 'pixel653', 'pixel654', 'pixel655', 'pixel656', 'pixel657', 'pixel658', 'pixel659', 'pixel660', 'pixel661', 'pixel662', 'pixel663', 'pixel664', 'pixel665', 'pixel666', 'pixel667', 'pixel668', 'pixel669', 'pixel670', 'pixel671', 'pixel672', 'pixel673', 'pixel674', 'pixel675', 'pixel676', 'pixel677', 'pixel678', 'pixel679', 'pixel680', 'pixel681', 'pixel682', 'pixel683', 'pixel684', 'pixel685', 'pixel686', 'pixel687', 'pixel688', 'pixel689', 'pixel690', 'pixel691', 'pixel692', 'pixel693', 'pixel694', 'pixel695', 'pixel696', 'pixel697', 'pixel698', 'pixel699', 'pixel700', 'pixel701', 'pixel702', 'pixel703', 'pixel704', 'pixel705', 'pixel706', 'pixel707', 'pixel708', 'pixel709', 'pixel710', 'pixel711', 'pixel712', 'pixel713', 'pixel714', 'pixel715', 'pixel716', 'pixel717', 'pixel718', 'pixel719', 'pixel720', 'pixel721', 'pixel722', 'pixel723', 'pixel724', 'pixel725', 'pixel726', 'pixel727', 'pixel728', 'pixel729', 'pixel730', 'pixel731', 'pixel732', 'pixel733', 'pixel734', 'pixel735', 'pixel736', 'pixel737', 'pixel738', 'pixel739', 'pixel740', 'pixel741', 'pixel742', 'pixel743', 'pixel744', 'pixel745', 'pixel746', 'pixel747', 'pixel748', 'pixel749', 'pixel750', 'pixel751', 'pixel752', 'pixel753', 'pixel754', 'pixel755', 'pixel756', 'pixel757', 'pixel758', 'pixel759', 'pixel760', 'pixel761', 'pixel762', 'pixel763', 'pixel764', 'pixel765', 'pixel766', 'pixel767', 'pixel768', 'pixel769', 'pixel770', 'pixel771', 'pixel772', 'pixel773', 'pixel774', 'pixel775', 'pixel776', 'pixel777', 'pixel778', 'pixel779', 'pixel780', 'pixel781', 'pixel782', 'pixel783', 'pixel784']\n",
            "(27455, 785)\n",
            "(3000, 1569)\n"
          ]
        }
      ],
      "source": [
        "import sklearn\n",
        "import numpy as np\n",
        "import pandas as pd\n",
        "import matplotlib.pyplot as plt\n",
        "%matplotlib inline\n",
        "from sklearn import datasets\n",
        "# connect to google colab directory where input data is saved\n",
        "from google.colab import drive\n",
        "drive.mount('/content/gdrive')\n",
        "import sys\n",
        "import os\n",
        "import shutil\n",
        "folder = \"/content/gdrive/My Drive/Colab Notebooks/IFT6390/Kaggle2/\" #@param {type:\"string\"}\n",
        "os.chdir(folder)\n",
        "\n",
        "#Training and test sets\n",
        "#load data in pd\n",
        "\n",
        "df = pd.read_csv('sign_mnist_train.csv')\n",
        "dt = pd.read_csv('test.csv')\n",
        "print(list(df))\n",
        "\n",
        "print(df.shape)\n",
        "print(dt.shape)"
      ]
    },
    {
      "cell_type": "code",
      "execution_count": 3,
      "metadata": {
        "colab": {
          "base_uri": "https://localhost:8080/"
        },
        "id": "4pgYHk32hrHd",
        "outputId": "b535c717-a346-41ae-c444-74b1432d3406"
      },
      "outputs": [
        {
          "name": "stdout",
          "output_type": "stream",
          "text": [
            "(27455, 784) (27455,) (3000, 1568)\n"
          ]
        }
      ],
      "source": [
        "dx = df.drop(columns = 'label')\n",
        "dy = df['label']\n",
        "dtest = dt.drop(columns = 'id')\n",
        "print(dx.shape, dy.shape,dtest.shape)\n"
      ]
    },
    {
      "cell_type": "markdown",
      "metadata": {
        "id": "HkYSU7sE-Lce"
      },
      "source": [
        "## I.2 - Entrainement versus Validation"
      ]
    },
    {
      "cell_type": "markdown",
      "metadata": {
        "id": "O6svCMco-Vod"
      },
      "source": [
        "Nous créons ensuite une fonction traintest qui permet de séparer les données en 2 ensembles : entrainement et validation"
      ]
    },
    {
      "cell_type": "code",
      "execution_count": 5,
      "metadata": {
        "id": "oFYZsNcuiKVQ"
      },
      "outputs": [],
      "source": [
        "#split train dataset  into features and label\n",
        "def traintest(x,y, prop, rndseed = 12):\n",
        "# cette fonction prend en entrée :\n",
        "# x: un dataframe contenant les attributs des inputs\n",
        "# y: un dataframe contenant les labels des inputs\n",
        "# prop: Le % des données d'entrée à utiliser pour l'entrainement\n",
        "# rndseed : random seed\n",
        "\n",
        "  #split train dataset into train/validation\n",
        "  split = prop\n",
        "  n = x.shape[0]\n",
        "  n_train = np.int32(n * split)\n",
        "  np.random.seed(rndseed)\n",
        "  idx = list(range(n))\n",
        "  np.random.shuffle(idx)\n",
        "  train_idx = idx[:n_train]\n",
        "  val_idx = idx[n_train:]\n",
        "  x_train = np.array(x)[train_idx,:]\n",
        "  y_train = np.array(y)[train_idx]\n",
        "  x_val = np.array(x)[val_idx,:]\n",
        "  y_val = np.array(y)[val_idx]\n",
        "  return (x_train, y_train, x_val, y_val)\n"
      ]
    },
    {
      "cell_type": "code",
      "execution_count": 4,
      "metadata": {
        "colab": {
          "base_uri": "https://localhost:8080/"
        },
        "id": "FYoOfbvNhoAW",
        "outputId": "71138245-3f3f-445a-f215-dab85a982fc7"
      },
      "outputs": [
        {
          "name": "stdout",
          "output_type": "stream",
          "text": [
            "(21964, 784) (21964,) (5491, 784) (5491,)\n"
          ]
        }
      ],
      "source": [
        "x_train, y_train, x_val, y_val = traintest(dx, dy, 0.8, 12)\n",
        "print(x_train.shape, y_train.shape, x_val.shape, y_val.shape)"
      ]
    },
    {
      "cell_type": "markdown",
      "metadata": {
        "id": "TAfHHR-m_ISL"
      },
      "source": [
        "## I.3 - Fonctions auxiliaires"
      ]
    },
    {
      "cell_type": "markdown",
      "metadata": {
        "id": "bQU9b9j9cdXn"
      },
      "source": [
        "Nous allons aussi créer quelques fonctions support pour transformer l'ensemble de test - qui contient 2 images par lignes initialement - en une seule image par ligne, et pour préparer le fichier de prédictions de test selon les instructions : conversion des 2 lettres prédites en ASCII, somme des 2 nombres ASCII, soustraction de 65, puis reconversion en caractère."
      ]
    },
    {
      "cell_type": "code",
      "execution_count": 6,
      "metadata": {
        "id": "or5TbEfxuTsT"
      },
      "outputs": [],
      "source": [
        "#visualize one image in dataset\n",
        "def viewimage(x, ind):\n",
        "  image = x[ind].reshape(28,28)\n",
        "  plt.imshow(image, cmap=plt.get_cmap('gray'))\n",
        "  plt.show()"
      ]
    },
    {
      "cell_type": "code",
      "execution_count": 7,
      "metadata": {
        "id": "ADjDOMRkmmDD"
      },
      "outputs": [],
      "source": [
        "#split test dataset into 2 examples\n",
        "def prepare_test(test):\n",
        "  test = np.array(test)\n",
        " # print(test.shape, test[0], test[2999])\n",
        "  ex1 = test[:,:784]\n",
        "  ex2 = test[:,784:]\n",
        " # print(ex1.shape, ex2.shape)\n",
        "  return np.concatenate([ex1,ex2],axis = 0)\n",
        "\n",
        "\n",
        "#prepare output from predictions\n",
        "def prepare_output(test):\n",
        "  n = np.int32(test.shape[0] / 2)\n",
        "  ex1 = test[:n]\n",
        "  ex2 = test[n:]\n",
        "  print(ex1.shape, ex2.shape)\n",
        "  #ascii add 65 to predicted label to get ASCII - sum the 2 numbers (min = 130 - max = 180).  decrease result by 65 to get an ascii number between 65 and 122- convert into character.\n",
        "  asc1 = ex1+ex2 + 65\n",
        "  print(asc1)\n",
        "  charac = np.array([chr(x) for x in range(122)])[asc1]\n",
        "  return (charac.astype('str'))\n",
        "\n",
        "def export_output(pred, filename):\n",
        "   # index = [str(i) for i in range(1, len(pred)+1)]\n",
        "    output = pd.DataFrame(pred,columns = ['label'])\n",
        "    output.index.name = 'id'\n",
        "    #print(output)\n",
        "    output.to_csv(filename)"
      ]
    },
    {
      "cell_type": "code",
      "execution_count": 8,
      "metadata": {
        "id": "eGGRpflOT0mI"
      },
      "outputs": [],
      "source": [
        "#Normalize input data\n",
        "def normalize(x):\n",
        "  a = np.array(x)\n",
        "  mu = np.mean(a, axis = 0)\n",
        "  sigma = np.std(a, axis=0)\n",
        "  return (a - mu)/sigma"
      ]
    },
    {
      "cell_type": "markdown",
      "metadata": {
        "id": "MwvJQO8l_bL3"
      },
      "source": [
        "##I.4 - Augmentation des données"
      ]
    },
    {
      "cell_type": "markdown",
      "metadata": {
        "id": "WGZFlOFu_rZw"
      },
      "source": [
        "La fonction ci-dessous crée de nouvelles images à partir des données d'entrée, en appliquant des transformations aléatoires (rotations, zoom-in et zoom-out, bruit gaussien). D'autres transformations ont été testées (horizontal flip, contrast) mais n'ont pas été retenues au final car ne semblaient pas améliorer la précision du modèle."
      ]
    },
    {
      "cell_type": "code",
      "execution_count": 9,
      "metadata": {
        "id": "ju-jTphAZSXB"
      },
      "outputs": [],
      "source": [
        "# Transform images\n",
        "from torchvision import transforms\n",
        "from torchvision.transforms import v2\n",
        "import torch\n",
        "def augment(x):\n",
        "\n",
        "#padding  (testé mais non retenu au final, car n'améliorait pas la précision sur l'ens de validation)\n",
        "  pad = v2.Pad(padding=3)\n",
        "#contrast (testé mais non retenu au final, car n'améliorait pas la précision sur l'ens de validation)\n",
        "  con = v2.ColorJitter(brightness=.5, hue=.3)\n",
        "#rotation\n",
        "  rotate = v2.RandomRotation(degrees=(-10, 10))\n",
        "#gaussian blur\n",
        "  blur = v2.GaussianBlur(kernel_size=(5, 9), sigma=(0.1, 5.))\n",
        "#horizontal flip (testé mais non retenu au final, car n'améliorait pas la précision sur l'ens de validation)\n",
        "  hflip = v2.RandomHorizontalFlip(p=1.)\n",
        "#zoom in/out\n",
        "  zoom = v2.CenterCrop(24)\n",
        "  #resize()\n",
        "  res =v2.Resize(28)\n",
        "  zoomout = v2.CenterCrop(28)\n",
        "  #resize()\n",
        "  res2 =v2.Resize(24)\n",
        "# non retenus:\n",
        "  x_hf = hflip(x)\n",
        "  x_con = con(x)\n",
        "# retenus:\n",
        "  x_zoom = res(zoom(x))\n",
        "  x_zout = zoomout(res2(x))\n",
        "  x_rot = rotate(x)\n",
        "  x_blur = blur(x)\n",
        "  all_x = torch.cat((x, x_rot,  x_zoom, x_zout,x_blur), 0)\n",
        "\n",
        "  return (all_x)"
      ]
    },
    {
      "cell_type": "code",
      "execution_count": 9,
      "metadata": {
        "colab": {
          "base_uri": "https://localhost:8080/"
        },
        "id": "g_8ULTrOC2jD",
        "outputId": "6d2c3d25-6aa2-4726-bf8a-d1517b911924"
      },
      "outputs": [
        {
          "name": "stdout",
          "output_type": "stream",
          "text": [
            "(21964, 784) (5491, 784) (3000, 1568)\n"
          ]
        }
      ],
      "source": [
        "#Normalize train and test data\n",
        "x_train = normalize(x_train)\n",
        "x_val = normalize(x_val)\n",
        "x_test = normalize(dtest)\n",
        "print(x_train.shape, x_val.shape, x_test.shape)"
      ]
    },
    {
      "cell_type": "code",
      "execution_count": 10,
      "metadata": {
        "colab": {
          "base_uri": "https://localhost:8080/"
        },
        "id": "_NTssoL-gkSf",
        "outputId": "3da310d6-4b35-4e7f-8993-faeb7e6f61d4"
      },
      "outputs": [
        {
          "name": "stderr",
          "output_type": "stream",
          "text": [
            "/usr/local/lib/python3.10/dist-packages/torchvision/transforms/functional.py:1603: UserWarning: The default value of the antialias parameter of all the resizing transforms (Resize(), RandomResizedCrop(), etc.) will change from None to True in v0.17, in order to be consistent across the PIL and Tensor backends. To suppress this warning, directly pass antialias=True (recommended, future default), antialias=None (current default, which means False for Tensors and True for PIL), or antialias=False (only works on Tensors - PIL will still use antialiasing). This also applies if you are using the inference transforms from the models weights: update the call to weights.transforms(antialias=True).\n",
            "  warnings.warn(\n"
          ]
        },
        {
          "name": "stdout",
          "output_type": "stream",
          "text": [
            "(109820,)\n"
          ]
        }
      ],
      "source": [
        "#augment data\n",
        "x_aug = augment(torch.from_numpy(x_train.reshape(-1,1,28,28)).float())\n",
        "y_aug = np.concatenate([y_train, y_train,y_train, y_train, y_train], axis= 0)\n",
        "print(y_aug.shape)"
      ]
    },
    {
      "cell_type": "code",
      "execution_count": null,
      "metadata": {
        "colab": {
          "base_uri": "https://localhost:8080/",
          "height": 447
        },
        "id": "IhQcDpyRjGNb",
        "outputId": "e3e8b6d5-a47d-4d06-a28c-e5cec32a6b00"
      },
      "outputs": [
        {
          "name": "stdout",
          "output_type": "stream",
          "text": [
            "image originale: \n"
          ]
        },
        {
          "data": {
            "image/png": "[encoded data removed]",
            "text/plain": [
              "<Figure size 640x480 with 1 Axes>"
            ]
          },
          "metadata": {},
          "output_type": "display_data"
        }
      ],
      "source": [
        "#visualisons un exemple d'image originale et ses différentes transformations\n",
        "print('image originale: ')\n",
        "viewimage(x_aug,21964*0+1)\n"
      ]
    },
    {
      "cell_type": "code",
      "execution_count": null,
      "metadata": {
        "colab": {
          "base_uri": "https://localhost:8080/",
          "height": 447
        },
        "id": "hyK3lbLfFF1m",
        "outputId": "cf3b17d3-1851-4e7f-e8ef-d890d507582e"
      },
      "outputs": [
        {
          "name": "stdout",
          "output_type": "stream",
          "text": [
            "rotation +/- 10 degrés: \n"
          ]
        },
        {
          "data": {
            "image/png": "[encoded data removed]",
            "text/plain": [
              "<Figure size 640x480 with 1 Axes>"
            ]
          },
          "metadata": {},
          "output_type": "display_data"
        }
      ],
      "source": [
        "print('rotation +/- 10 degrés: ')\n",
        "viewimage(x_aug,21964*1+1)\n"
      ]
    },
    {
      "cell_type": "code",
      "execution_count": null,
      "metadata": {
        "colab": {
          "base_uri": "https://localhost:8080/",
          "height": 447
        },
        "id": "zFPZfIG-FJMz",
        "outputId": "cf8db842-aa06-499e-d893-2fa3c2d5a338"
      },
      "outputs": [
        {
          "name": "stdout",
          "output_type": "stream",
          "text": [
            "zoom in: \n"
          ]
        },
        {
          "data": {
            "image/png": "[encoded data removed]",
            "text/plain": [
              "<Figure size 640x480 with 1 Axes>"
            ]
          },
          "metadata": {},
          "output_type": "display_data"
        }
      ],
      "source": [
        "print('zoom in: ')\n",
        "viewimage(x_aug,21964*2+1)\n"
      ]
    },
    {
      "cell_type": "code",
      "execution_count": null,
      "metadata": {
        "colab": {
          "base_uri": "https://localhost:8080/",
          "height": 447
        },
        "id": "NXqnLhNnFLHn",
        "outputId": "f24f4941-7d51-4d97-b224-4f2365baadcc"
      },
      "outputs": [
        {
          "name": "stdout",
          "output_type": "stream",
          "text": [
            "zoom out: \n"
          ]
        },
        {
          "data": {
            "image/png": "[encoded data removed]",
            "text/plain": [
              "<Figure size 640x480 with 1 Axes>"
            ]
          },
          "metadata": {},
          "output_type": "display_data"
        }
      ],
      "source": [
        "print('zoom out: ')\n",
        "viewimage(x_aug,21964*3+1)"
      ]
    },
    {
      "cell_type": "code",
      "execution_count": null,
      "metadata": {
        "colab": {
          "base_uri": "https://localhost:8080/",
          "height": 447
        },
        "id": "ATAVU6ryFMIH",
        "outputId": "eba458c0-e7f6-4c61-c7ca-ab9ed4c238db"
      },
      "outputs": [
        {
          "name": "stdout",
          "output_type": "stream",
          "text": [
            "Gaussian blurr: \n"
          ]
        },
        {
          "data": {
            "image/png": "[encoded data removed]",
            "text/plain": [
              "<Figure size 640x480 with 1 Axes>"
            ]
          },
          "metadata": {},
          "output_type": "display_data"
        }
      ],
      "source": [
        "print('Gaussian blurr: ')\n",
        "viewimage(x_aug,21964*4+1)"
      ]
    },
    {
      "cell_type": "markdown",
      "metadata": {
        "id": "g2xbeZdm2So5"
      },
      "source": [
        "# II - Forêts aléatoires\n"
      ]
    },
    {
      "cell_type": "markdown",
      "metadata": {
        "id": "Lxc7tVQZxCcO"
      },
      "source": [
        "## II.1 - Arbre de décision"
      ]
    },
    {
      "cell_type": "markdown",
      "metadata": {
        "id": "6KsMC2TUU7kA"
      },
      "source": [
        "Commençons par implémenter un modèle d'arbre de décision et quelques fonctions auxiliaires"
      ]
    },
    {
      "cell_type": "code",
      "execution_count": 13,
      "metadata": {
        "id": "XNdrhTYhglQ4"
      },
      "outputs": [],
      "source": [
        "from collections import Counter\n",
        "\n",
        "def get_majority_class(labels):\n",
        "    #retourne le label le plus fréquent dans le tableau d'entrée.\n",
        "    counts = Counter(labels)\n",
        "    return counts.most_common(1)[0][0]\n",
        "\n",
        "def compute_entropy(labels):\n",
        "    # Cette fonction calcule l'entropie\n",
        "    # (= sum_l(-p_l log2 (p_l)) pour chaque label l)\n",
        "    # du tableau d'entrée\n",
        "\n",
        "    counts = Counter(labels)\n",
        "    counts = np.array([counts[key] for key in counts])\n",
        "    freq = counts/counts.sum()\n",
        "    entropy = -(freq*np.log2(freq)).sum()\n",
        "    return entropy\n"
      ]
    },
    {
      "cell_type": "markdown",
      "metadata": {
        "id": "kh7WIMBwglQ7"
      },
      "source": [
        "\n",
        "Implémentons une classe **Node** (noeud) à utiliser dans l'arbre de décision. Un noeud dans l'arbre peut:\n",
        "\n",
        "* poser une question (= determiner si les exemples ont un certain attribut plus grand qu'un certain seuil),\n",
        "* trouver la meilleure question pour séparer un (sous-ensemble d'un) jeu de données, ou\n",
        "* si c'est une feuille, faire une prédiction\n",
        "\n",
        "Pour trouver la meilleure question pour un attribut, calculer tout les **valeurs intermédiaires** de cet attribut, et pour chaque valeur intermédiaire, calculer l'entropie de la séparation obtenue quand la question utilise cette valeur intermédiaire. Pour trouver la meilleur question, répeter ça pour chaque colonne, et choisir la meilleur question.\n"
      ]
    },
    {
      "cell_type": "code",
      "execution_count": 14,
      "metadata": {
        "id": "LOcjyw1AglQ8"
      },
      "outputs": [],
      "source": [
        "class Node():\n",
        "    def __init__(self):\n",
        "        self.threshold = None # le seuil du test\n",
        "        self.col = None # valeur de l'index de l'attribut étudié\n",
        "        self.is_leaf = None\n",
        "        self.output_class = None\n",
        "        self.left_child=None # les nouveaux sous arbres - pointeurs vers le prochain element un peu comme les listes chainées\n",
        "        self.right_child=None\n",
        "\n",
        "    def find_best_question(self, x, y):\n",
        "        # x: tableau numpy de dimension (nombre d'exemples, nombre d'attributs)\n",
        "        # y: tableau numpy de dimension (nombre d'exemples,)\n",
        "        best_col = 0\n",
        "        best_val = 0\n",
        "        best_loss = np.inf\n",
        "\n",
        "        num_cols = x.shape[1]\n",
        "        valid_cols = np.arange(num_cols) # nb of features\n",
        "        for col in valid_cols:\n",
        "            #\n",
        "            # Calculer les valeurs intermédiaires de cette colonne\n",
        "            #\n",
        "            sorted_indices = x[:, col].argsort()\n",
        "            sorted_vals = x[sorted_indices, col]\n",
        "            midpoints = [(sorted_vals[i]+sorted_vals[i+1])/2 for i in range(len(sorted_vals)-1)] # list de seuils potentiels\n",
        "\n",
        "            for val in midpoints:\n",
        "                # En utilisant col et val, séparer les labels\n",
        "                # en left_labels (labels_gauches) et right_labels\n",
        "                # (labels_droits)\n",
        "                right_subset_rows = x[: , col] > val # masque pour filtrer les points au dessus du seuil\n",
        "                left_subset_rows = np.invert(right_subset_rows) #masque complémentaire\n",
        "\n",
        "                right_labels = y[right_subset_rows]\n",
        "                left_labels = y[left_subset_rows]\n",
        "\n",
        "                right_entropy = compute_entropy(right_labels)\n",
        "                left_entropy = compute_entropy(left_labels)\n",
        "\n",
        "                p_right = len(right_labels)/len(y)\n",
        "                p_left = len(left_labels)/len(y)\n",
        "\n",
        "\n",
        "                loss =  p_left*left_entropy + p_right*right_entropy # entropie conditionnelle\n",
        "\n",
        "\n",
        "                if right_labels.shape[0] == 0 or left_labels.shape[0] == 0:\n",
        "                    continue\n",
        "\n",
        "                if loss < best_loss:\n",
        "                    best_loss = loss\n",
        "                    best_col = col\n",
        "                    best_val = val\n",
        "\n",
        "        self.col = best_col\n",
        "        self.threshold = best_val\n",
        "\n",
        "    def ask_question(self, x):\n",
        "        if not self.is_leaf:\n",
        "            return x[:, self.col] > self.threshold\n",
        "        else:\n",
        "            print(\"Error: leaf nodes cannot ask questions!\")\n",
        "            return False\n",
        "\n",
        "    def predict(self):\n",
        "        if self.is_leaf:\n",
        "            return self.output_class\n",
        "        else:\n",
        "            print(\"Error: non-leaf nodes cannot make a prediction!\")\n",
        "            return None\n"
      ]
    },
    {
      "cell_type": "markdown",
      "metadata": {
        "id": "yXVWLTatglQ-"
      },
      "source": [
        "Maintenant, en utilisant la classe Node, nous allons implémenter l'arbre de décision. Comme avec l'interface de scikit-learn, nous aurons les méthodes fit() et predict()."
      ]
    },
    {
      "cell_type": "code",
      "execution_count": 15,
      "metadata": {
        "id": "8tHisDwBgnsH"
      },
      "outputs": [],
      "source": [
        "class DecisionTreeClassifier():\n",
        "    def __init__(self, max_depth=1):\n",
        "        self.max_depth = max_depth # pour éviter overfitting\n",
        "\n",
        "    def create_node(self, x_subset, y_subset, depth):\n",
        "        # Recursive function\n",
        "        node = Node()\n",
        "\n",
        "        majority_class = get_majority_class(y_subset)\n",
        "        majority_class_count = (y_subset == majority_class).sum()\n",
        "        perfectly_classified = majority_class_count == len(y_subset)\n",
        "\n",
        "        if perfectly_classified or depth == self.max_depth:\n",
        "            node.output_class = majority_class\n",
        "            node.is_leaf = True\n",
        "        else:\n",
        "            node.find_best_question(x_subset,y_subset)#split optimal\n",
        "            node.is_leaf = False\n",
        "            right_subset_rows = node.ask_question(x_subset) #jeu de données splitté selon le split optimal - droite\n",
        "            left_subset_rows = np.invert(right_subset_rows) #gauche\n",
        "            #\n",
        "            # Boucle récursive: créer node.left_child (enfant gauche du noeud) et\n",
        "            # node.right_child (enfant droit du noeud)\n",
        "            #\n",
        "            node.left_child = self.create_node(x_subset[left_subset_rows],y_subset[left_subset_rows],depth+1) # appel récursif sur le sous-ens de gauche, avec depth +1\n",
        "            node.right_child = self.create_node(x_subset[right_subset_rows],y_subset[right_subset_rows], depth+1) # idem a droite\n",
        "\n",
        "        return node\n",
        "\n",
        "    def fit(self, x, y):\n",
        "        self.root_node = self.create_node(x,y,depth=1)\n",
        "\n",
        "    def predict(self, x): #on fait passer le point à travers l'arbre\n",
        "        predictions = []\n",
        "\n",
        "        for i in range(len(x)):\n",
        "            current_node = self.root_node\n",
        "            x_i = x[i].reshape(1,-1)\n",
        "            done_descending_tree = False\n",
        "            while not done_descending_tree:\n",
        "                if current_node.is_leaf:\n",
        "                    predictions.append(current_node.predict())\n",
        "                    done_descending_tree = True\n",
        "\n",
        "                else:\n",
        "                    if current_node.ask_question(x_i): #regarde d'un coté\n",
        "                        current_node = current_node.right_child\n",
        "                    else:\n",
        "                        current_node = current_node.left_child\n",
        "\n",
        "        return np.array(predictions)\n"
      ]
    },
    {
      "cell_type": "markdown",
      "metadata": {
        "id": "ayoDSZJWglRH"
      },
      "source": [
        "## II.2 - Forêt aléatoire\n",
        "Implémentons ensuite une forêt aléatoire en utilisant notre arbre de décision. (on prendra en fait l'implémentation ScikitLearn de l'arbre de decision car notre implémentation est trop lente)\n",
        "\n",
        "Une forêt aléatoire est un ensemble d'arbres de décision, où chaque arbre est entrainé sur une variation aléatoire du jeu de données.  \n",
        "\n",
        "Nous implémentons deux façons d'obtenir des variations aléatoires du jeu de données:\n",
        "\n",
        "1) La sélection aléatoire d'attributs (feature bagging): entrainer chaque arbre de décision sur un sous-ensemble aléatoire des attributs du jeu de données initial.\n",
        "\n",
        "2) Bootstrapping (example bagging): entrainer chaque arbre de décision sur un sous-ensemble aléatoire du jeu de données obtenu par bootstrapping."
      ]
    },
    {
      "cell_type": "code",
      "execution_count": 16,
      "metadata": {
        "id": "gwIddcEZglRI"
      },
      "outputs": [],
      "source": [
        "import math\n",
        "# nous utiliserons l'implementation ScikitLearn de l'arbre de décision\n",
        "#car l'implémentation numpy est trop lente\n",
        "from sklearn.tree import DecisionTreeClassifier\n",
        "\n",
        "class RandomForestClassifier():\n",
        "    def __init__(self, n_estimators=2, max_depth=5, bootstrap_fraction=0.5, features_fraction=0.5):\n",
        "        self.max_depth = max_depth\n",
        "        self.n_estimators = n_estimators #nombre d'arbres qu'on va utiliser\n",
        "        self.bootstrap_fraction = bootstrap_fraction # nb de données choisies avec remplacement dans chaque arbre\n",
        "        self.features_fraction= features_fraction #nombres de features choisis aléatoirement dans chq arbre\n",
        "        self.estimators = []\n",
        "\n",
        "    def fit(self, x, y):\n",
        "        num_rows = math.ceil(self.bootstrap_fraction * x.shape[0])\n",
        "        num_cols = math.ceil(self.features_fraction * x.shape[1])\n",
        "        for _ in range(self.n_estimators):\n",
        "            # les sous-ensembles aléatoires x_subset, y_subset\n",
        "\n",
        "            rows_idx = np.random.choice(x.shape[0], size = num_rows)\n",
        "            cols_idx = np.random.choice(x.shape[1], size = num_cols, replace = False)\n",
        "            x_subset = x[rows_idx][:, cols_idx]\n",
        "            y_subset = y[rows_idx]\n",
        "\n",
        "            tree = DecisionTreeClassifier(max_depth=self.max_depth)\n",
        "            tree.fit(x_subset, y_subset)\n",
        "            self.estimators.append((tree,cols_idx)) # on renvoie un tuple avec un arbre et le masque des attributs correspondants\n",
        "\n",
        "    def predict(self, x):\n",
        "        allpreds = np.array([e.predict(x[:,cols]) for e, cols in self.estimators])\n",
        "        predictions = np.array([get_majority_class(y) for y in allpreds.T])\n",
        "        return predictions\n"
      ]
    },
    {
      "cell_type": "markdown",
      "metadata": {
        "id": "ikNDVARjxWpu"
      },
      "source": [
        "## II.3 - Analyse des hyper-paramètres"
      ]
    },
    {
      "cell_type": "markdown",
      "metadata": {
        "id": "RWGCu0IBglRK"
      },
      "source": [
        "\n",
        "Analysons la sensibilité du modèle de forêts aléatoires par rapport à ses principaux hyperparamètres. D'abord, traçons les performances en fonction du nombre d'arbres dans la forêt aléatoire en utilisant une taille d'arbre maximale de 5, et des paramètres de bootstrapping et de sélection de features de 50%.\n"
      ]
    },
    {
      "cell_type": "code",
      "execution_count": null,
      "metadata": {
        "colab": {
          "base_uri": "https://localhost:8080/",
          "height": 680
        },
        "id": "fkOwTp8bYKTZ",
        "outputId": "19121355-3e78-4de4-c3e7-6283cc2fb8aa"
      },
      "outputs": [
        {
          "name": "stdout",
          "output_type": "stream",
          "text": [
            "nestimator =  0.2722637042433072\n",
            "nestimator =  0.36878528501183755\n",
            "nestimator =  0.4037515935166636\n",
            "nestimator =  0.4155891458750683\n",
            "nestimator =  0.4064833363686032\n",
            "nestimator =  0.4179566563467492\n",
            "nestimator =  0.42942997632489527\n",
            "nestimator =  0.3875432525951557\n",
            "nestimator =  0.4197778182480423\n",
            "nestimator =  0.4095793116008013\n",
            "Best performance:  0.42942997632489527\n"
          ]
        },
        {
          "data": {
            "text/plain": [
              "[<matplotlib.lines.Line2D at 0x78affcf33d00>]"
            ]
          },
          "execution_count": 18,
          "metadata": {},
          "output_type": "execute_result"
        },
        {
          "data": {
            "image/png": "[encoded data removed]",
            "text/plain": [
              "<Figure size 640x480 with 1 Axes>"
            ]
          },
          "metadata": {},
          "output_type": "display_data"
        }
      ],
      "source": [
        "tree_counts = []\n",
        "accuracies = []\n",
        "for tree_count in range(1,100, 10):\n",
        "\n",
        "    model = RandomForestClassifier(n_estimators=tree_count,\n",
        "                                   max_depth=5,\n",
        "                                   bootstrap_fraction=0.5,\n",
        "                                   features_fraction=0.5)\n",
        "    model.fit(x_train, y_train)\n",
        "    accuracy = (model.predict(x_val) == y_val).mean()\n",
        "    accuracies.append(accuracy)\n",
        "    tree_counts.append(tree_count)\n",
        "    print('nestimator = ', accuracy )\n",
        "print(\"Best performance: \", max(accuracies))\n",
        "plt.title('Impact du nombre d arbres')\n",
        "plt.xlabel('number of trees')\n",
        "plt.ylabel('Performance on validation set')\n",
        "plt.plot(tree_counts, accuracies)\n"
      ]
    },
    {
      "cell_type": "markdown",
      "metadata": {
        "id": "FFOd1roobUUA"
      },
      "source": [
        "Testons ensuite l'impact de la taille maximum des arbres de la forêt aléatoire, en utlisant un nombre d'arbres de 10 et des paramètres de bootstrapping et de sélection de features de 50%."
      ]
    },
    {
      "cell_type": "code",
      "execution_count": 17,
      "metadata": {
        "colab": {
          "base_uri": "https://localhost:8080/",
          "height": 680
        },
        "id": "MKA-dmoQbTHD",
        "outputId": "b8acabc9-7ce2-4bca-f21a-4645ab649c36"
      },
      "outputs": [
        {
          "name": "stdout",
          "output_type": "stream",
          "text": [
            "nestimator =  0.07685303223456565\n",
            "nestimator =  0.18393735203059552\n",
            "nestimator =  0.3574940812238208\n",
            "nestimator =  0.5907849207794573\n",
            "nestimator =  0.726097250045529\n",
            "nestimator =  0.8617738116918594\n",
            "nestimator =  0.923511200145693\n",
            "nestimator =  0.9413585867783646\n",
            "nestimator =  0.962666181023493\n",
            "nestimator =  0.9684938991076306\n",
            "Best performance:  0.9684938991076306\n"
          ]
        },
        {
          "data": {
            "text/plain": [
              "[<matplotlib.lines.Line2D at 0x7ab5126e6350>]"
            ]
          },
          "execution_count": 17,
          "metadata": {},
          "output_type": "execute_result"
        },
        {
          "data": {
            "image/png": "[encoded data removed]",
            "text/plain": [
              "<Figure size 640x480 with 1 Axes>"
            ]
          },
          "metadata": {},
          "output_type": "display_data"
        }
      ],
      "source": [
        "tree_sizes = []\n",
        "accuracies = []\n",
        "for tree_size in range(1,20,2):\n",
        "\n",
        "    model = RandomForestClassifier(n_estimators=10,\n",
        "                                   max_depth=tree_size,\n",
        "                                   bootstrap_fraction=0.5,\n",
        "                                   features_fraction=0.5)\n",
        "    model.fit(x_train, y_train)\n",
        "    accuracy = (model.predict(x_val) == y_val).mean()\n",
        "    accuracies.append(accuracy)\n",
        "    tree_sizes.append(tree_size)\n",
        "    print('nestimator = ', accuracy )\n",
        "print(\"Best performance: \", max(accuracies))\n",
        "plt.title('Impact de la taille maximum des arbres')\n",
        "plt.xlabel('taille maximum')\n",
        "plt.ylabel('Performance on test set')\n",
        "plt.plot(tree_sizes, accuracies)\n"
      ]
    },
    {
      "cell_type": "markdown",
      "metadata": {
        "id": "u0GFJw5Mh4ff"
      },
      "source": [
        "Testons ensuite l'impact du paramètre de bootstrapping. Les autres hyperparamètres sont fixés à:\n",
        " - nombre d'arbres = 20\n",
        " - profondeur maximale = 10\n",
        " - % de features sélectionnés = 50%"
      ]
    },
    {
      "cell_type": "code",
      "execution_count": null,
      "metadata": {
        "colab": {
          "base_uri": "https://localhost:8080/",
          "height": 594
        },
        "id": "z7qOp7ech_a-",
        "outputId": "8a7fa64e-8e72-4420-9840-0f7247a12a6b"
      },
      "outputs": [
        {
          "name": "stdout",
          "output_type": "stream",
          "text": [
            "nestimator =  0.7989437260972501\n",
            "nestimator =  0.8625022764523766\n",
            "nestimator =  0.8757967583318157\n",
            "nestimator =  0.8781642688034966\n",
            "nestimator =  0.8736113640502641\n",
            "Best performance:  0.8781642688034966\n"
          ]
        },
        {
          "data": {
            "text/plain": [
              "[<matplotlib.lines.Line2D at 0x78affefdc220>]"
            ]
          },
          "execution_count": 23,
          "metadata": {},
          "output_type": "execute_result"
        },
        {
          "data": {
            "image/png": "[encoded data removed]",
            "text/plain": [
              "<Figure size 640x480 with 1 Axes>"
            ]
          },
          "metadata": {},
          "output_type": "display_data"
        }
      ],
      "source": [
        "bootstrap = []\n",
        "accuracies = []\n",
        "for b in [0.1,0.3,0.5, 0.7,0.9]:\n",
        "\n",
        "    model = RandomForestClassifier(n_estimators=20,\n",
        "                                   max_depth=10,\n",
        "                                   bootstrap_fraction=b,\n",
        "                                   features_fraction=0.5)\n",
        "    model.fit(x_train, y_train)\n",
        "    accuracy = (model.predict(x_val) == y_val).mean()\n",
        "    accuracies.append(accuracy)\n",
        "    bootstrap.append(b)\n",
        "    print('nestimator = ', accuracy )\n",
        "print(\"Best performance: \", max(accuracies))\n",
        "plt.title('Impact du parametre de bootstrapping')\n",
        "plt.xlabel('bootstrapping size (%)')\n",
        "plt.ylabel('Performance on test set')\n",
        "plt.plot(bootstrap, accuracies)"
      ]
    },
    {
      "cell_type": "markdown",
      "metadata": {
        "id": "6Ngcjch-j8SX"
      },
      "source": [
        "Testons enfin l'impact du paramètre de % features sélectionnés dans chaque arbre. Les autres hyperparamètres sont fixés à:\n",
        " - nombre d'arbres = 20\n",
        " - profondeur maximale = 10\n",
        " - % de données échantillonnées par bootstrapping = 50%"
      ]
    },
    {
      "cell_type": "code",
      "execution_count": null,
      "metadata": {
        "colab": {
          "base_uri": "https://localhost:8080/",
          "height": 576
        },
        "id": "cuHygW8CkD7e",
        "outputId": "39a9c561-8cd0-4e7a-a309-38307a88d550"
      },
      "outputs": [
        {
          "name": "stdout",
          "output_type": "stream",
          "text": [
            "nestimator =  0.8845383354580222\n",
            "nestimator =  0.875978874521945\n",
            "nestimator =  0.8727007830996175\n",
            "nestimator =  0.8690584592970315\n",
            "Best performance:  0.8845383354580222\n"
          ]
        },
        {
          "data": {
            "text/plain": [
              "[<matplotlib.lines.Line2D at 0x78aff9bd4730>]"
            ]
          },
          "execution_count": 26,
          "metadata": {},
          "output_type": "execute_result"
        },
        {
          "data": {
            "image/png": "[encoded data removed]",
            "text/plain": [
              "<Figure size 640x480 with 1 Axes>"
            ]
          },
          "metadata": {},
          "output_type": "display_data"
        }
      ],
      "source": [
        "features = []\n",
        "accuracies = []\n",
        "for f in [0.1,0.3,0.5,0.9]:\n",
        "\n",
        "    model = RandomForestClassifier(n_estimators=20,\n",
        "                                   max_depth=10,\n",
        "                                   bootstrap_fraction=0.5,\n",
        "                                   features_fraction=f)\n",
        "    model.fit(x_train, y_train)\n",
        "    accuracy = (model.predict(x_val) == y_val).mean()\n",
        "    accuracies.append(accuracy)\n",
        "    features.append(f)\n",
        "    print('nestimator = ', accuracy )\n",
        "print(\"Best performance: \", max(accuracies))\n",
        "plt.title('Impact du parametre de selection de features')\n",
        "plt.xlabel('% of selected features')\n",
        "plt.ylabel('Performance on test set')\n",
        "plt.plot(features, accuracies)"
      ]
    },
    {
      "cell_type": "markdown",
      "metadata": {
        "id": "gsOUF8Moxndn"
      },
      "source": [
        "##II.4 - Evaluation du modèle sélectionné"
      ]
    },
    {
      "cell_type": "markdown",
      "metadata": {
        "id": "8SgM-77ZY36c"
      },
      "source": [
        "Evaluons le modèle de forêts aléatoires pour les hyper-paramètres choisis:\n",
        "\n",
        "- profondeur maximale = 40\n",
        "- Nombre d'arbres = 50\n",
        "- proportion de données bootstrappées: 50%\n",
        "- proportions de features sélectionnés aléatoirement: 50%"
      ]
    },
    {
      "cell_type": "code",
      "execution_count": null,
      "metadata": {
        "id": "e5Ut62IPY4S-"
      },
      "outputs": [],
      "source": [
        "tree_count = 50\n",
        "max_depth = 40\n",
        "b = 0.5 # proportion boostrapping\n",
        "f = 0.5 # proportion features selected\n",
        "#train_acc = []\n",
        "#val_acc = []\n",
        "model = RandomForestClassifier(n_estimators=tree_count,\n",
        "                                   max_depth=max_depth,\n",
        "                                   bootstrap_fraction=b,\n",
        "                                   features_fraction=f)\n",
        "#model.fit(xtrain, y_aug)\n",
        "model.fit(x_train, y_train)\n",
        "val_accuracy = (model.predict(x_val) == y_val).mean()\n",
        "accuracy = (model.predict(x_train) == y_train).mean()\n",
        "#val_acc.append(val_accuracy)\n",
        "#train_acc.append(accuracy)\n",
        "print('Train accuracy = ', accuracy )\n",
        "print(\"Val accuracy: \", val_accuracy)\n"
      ]
    },
    {
      "cell_type": "code",
      "execution_count": null,
      "metadata": {
        "id": "50SlRL6qZPUh"
      },
      "outputs": [],
      "source": [
        "#Testons ce modèle sur les données test\n",
        "pred = model.predict(prepare_test(normalize(x_test)))\n",
        "predtest = prepare_output(pred)\n",
        "#print(predtest)\n",
        "export_output(predtest,'RForest_40_nb50_0.5_0.5.csv')"
      ]
    },
    {
      "cell_type": "markdown",
      "metadata": {
        "id": "dF30lTNZx4OG"
      },
      "source": [
        "## II.5 - Data augmentation"
      ]
    },
    {
      "cell_type": "markdown",
      "metadata": {
        "id": "imdlobfPXdgb"
      },
      "source": [
        "Pour tenter de réduire la variance du classifieur obtenu, ajoutons de nouvelles données en utilisant les transformations suivantes :\n",
        "\n",
        "- rotations aléatoires = +/- 10 degrés\n",
        "- zoom in et out\n",
        "- ajout d'un bruit gaussien"
      ]
    },
    {
      "cell_type": "code",
      "execution_count": null,
      "metadata": {
        "colab": {
          "base_uri": "https://localhost:8080/"
        },
        "id": "skpLyCNfYKEQ",
        "outputId": "e23a8575-7284-4584-e40a-bd5594072aef"
      },
      "outputs": [
        {
          "name": "stderr",
          "output_type": "stream",
          "text": [
            "/usr/local/lib/python3.10/dist-packages/torchvision/transforms/functional.py:1603: UserWarning: The default value of the antialias parameter of all the resizing transforms (Resize(), RandomResizedCrop(), etc.) will change from None to True in v0.17, in order to be consistent across the PIL and Tensor backends. To suppress this warning, directly pass antialias=True (recommended, future default), antialias=None (current default, which means False for Tensors and True for PIL), or antialias=False (only works on Tensors - PIL will still use antialiasing). This also applies if you are using the inference transforms from the models weights: update the call to weights.transforms(antialias=True).\n",
            "  warnings.warn(\n"
          ]
        },
        {
          "name": "stdout",
          "output_type": "stream",
          "text": [
            "torch.Size([21964, 1, 28, 28])\n",
            "torch.Size([21964, 1, 28, 28])\n",
            "torch.Size([109820, 1, 28, 28])\n",
            "(109820,)\n"
          ]
        }
      ],
      "source": [
        "#augmentation des données\n",
        "#augment data\n",
        "x_aug = augment(torch.from_numpy(x_train.reshape(-1,1,28,28)).float())\n",
        "y_aug = np.concatenate([y_train, y_train,y_train, y_train, y_train], axis= 0)\n",
        "print(y_aug.shape)"
      ]
    },
    {
      "cell_type": "code",
      "execution_count": null,
      "metadata": {
        "colab": {
          "base_uri": "https://localhost:8080/"
        },
        "id": "6TEqqc1kYNyG",
        "outputId": "1a9588b3-3030-42a6-925a-80d738b790df"
      },
      "outputs": [
        {
          "name": "stdout",
          "output_type": "stream",
          "text": [
            "(109820, 784)\n"
          ]
        }
      ],
      "source": [
        "# reshape x_aug to a numpy vector (:,784)\n",
        "xtrain = x_aug.numpy().reshape(-1,784)\n",
        "print(xtrain.shape)"
      ]
    },
    {
      "cell_type": "code",
      "execution_count": null,
      "metadata": {
        "colab": {
          "base_uri": "https://localhost:8080/"
        },
        "id": "KOpFkeTnXfuu",
        "outputId": "492ace9f-142a-4a6f-fc56-c6da6055da4a"
      },
      "outputs": [
        {
          "name": "stdout",
          "output_type": "stream",
          "text": [
            "Train accuracy =  0.9999271535239482\n",
            "Val accuracy:  0.9947186304862502\n"
          ]
        }
      ],
      "source": [
        "tree_count = 50\n",
        "max_depth = 40\n",
        "b = 0.5 # proportion boostrapping\n",
        "f = 0.5 # proportion features selected\n",
        "#train_acc = []\n",
        "#val_acc = []\n",
        "model = RandomForestClassifier(n_estimators=tree_count,\n",
        "                                   max_depth=max_depth,\n",
        "                                   bootstrap_fraction=b,\n",
        "                                   features_fraction=f)\n",
        "model.fit(xtrain, y_aug)\n",
        "#model.fit(x_train, y_train)\n",
        "val_accuracy = (model.predict(x_val) == y_val).mean()\n",
        "accuracy = (model.predict(xtrain) == y_aug).mean()\n",
        "#val_acc.append(val_accuracy)\n",
        "#train_acc.append(accuracy)\n",
        "print('Train accuracy = ', accuracy )\n",
        "print(\"Val accuracy: \", val_accuracy)\n"
      ]
    },
    {
      "cell_type": "code",
      "execution_count": null,
      "metadata": {
        "colab": {
          "base_uri": "https://localhost:8080/"
        },
        "id": "gecxe2NgEGQC",
        "outputId": "2443bd85-a8ad-4a27-a205-1270c0902d2e"
      },
      "outputs": [
        {
          "name": "stdout",
          "output_type": "stream",
          "text": [
            "0.9941722819158623\n",
            "(3000,) (3000,)\n",
            "[ 90  89  71 ... 110  83  86]\n",
            "['Z' 'Y' 'G' ... 'n' 'S' 'V']\n"
          ]
        }
      ],
      "source": [
        "pred = model.predict(prepare_test(normalize(x_test)))\n",
        "predtest = prepare_output(pred)\n",
        "export_output(predtest,'RForest_40_nb50_0.5_0.5_norm_dataaugRot_Blur.csv')"
      ]
    },
    {
      "cell_type": "markdown",
      "metadata": {
        "id": "t3aOke7OZyxA"
      },
      "source": [
        "Examinons quelques exemples de données test et comparons les aux prédictions"
      ]
    },
    {
      "cell_type": "code",
      "execution_count": null,
      "metadata": {
        "colab": {
          "base_uri": "https://localhost:8080/",
          "height": 912
        },
        "id": "g99pUB5nGOQN",
        "outputId": "12823bf5-5b72-4cd7-f64c-22f1f5b26de6"
      },
      "outputs": [
        {
          "name": "stdout",
          "output_type": "stream",
          "text": [
            "10 17\n",
            "(3000,) (3000,)\n",
            "[77 89 71 ... 94 83 86]\n",
            "\\ \\\n"
          ]
        },
        {
          "data": {
            "image/png": "[encoded data removed]",
            "text/plain": [
              "<Figure size 640x480 with 1 Axes>"
            ]
          },
          "metadata": {},
          "output_type": "display_data"
        },
        {
          "data": {
            "image/png": "[encoded data removed]",
            "text/plain": [
              "<Figure size 640x480 with 1 Axes>"
            ]
          },
          "metadata": {},
          "output_type": "display_data"
        }
      ],
      "source": [
        "a = prepare_test(dtest)\n",
        "ind = 4\n",
        "\n",
        "print(pred[ind], pred[ind+3000])\n",
        "print(chr(65+pred[ind]+pred[ind+3000]), prepare_output(pred)[ind])\n",
        "viewimage(a,ind)\n",
        "viewimage(a,ind+3000)\n",
        "#  faux:1,3,5,6,8,9,10,11,12,17.18"
      ]
    },
    {
      "cell_type": "markdown",
      "metadata": {
        "id": "SPOKFO64aGzX"
      },
      "source": [
        "Examinons les erreurs commises sur l'ensemble de validation pour quelques images:"
      ]
    },
    {
      "cell_type": "code",
      "execution_count": null,
      "metadata": {
        "colab": {
          "base_uri": "https://localhost:8080/",
          "height": 447
        },
        "id": "J7664xC24n3o",
        "outputId": "4354a2e4-2f16-469e-9d0c-6851e83cf947"
      },
      "outputs": [
        {
          "name": "stdout",
          "output_type": "stream",
          "text": [
            "[4] [12]\n"
          ]
        },
        {
          "data": {
            "image/png": "[encoded data removed]",
            "text/plain": [
              "<Figure size 640x480 with 1 Axes>"
            ]
          },
          "metadata": {},
          "output_type": "display_data"
        }
      ],
      "source": [
        "#images en erreur dans l'ensemble de validation\n",
        "predval = model.predict(x_val)\n",
        "index = np.argwhere(predval!=y_val)\n",
        "ind = index[3]\n",
        "print(predval[ind], y_val[ind])\n",
        "viewimage(x_val,ind)\n"
      ]
    },
    {
      "cell_type": "markdown",
      "metadata": {
        "id": "RxYINal-cYfJ"
      },
      "source": [
        "# III - CNN"
      ]
    },
    {
      "cell_type": "markdown",
      "metadata": {
        "id": "L-qG21bTcbmg"
      },
      "source": [
        "Pour améliorer la précision de nos prédictions, nous allons tester un modèle CNN, famille de modèles mieux adaptés pour des images. Nous allons commencer par tester un modèle NN pleinement connecté simple, inspiré du modèle de NN vu au lab8, puis comparer sa performance avec un modèle CNN, dont la structure est inspirée du heavy CNN vu au lab9."
      ]
    },
    {
      "cell_type": "markdown",
      "metadata": {
        "id": "t3FwcmuAisn1"
      },
      "source": [
        "## III.1 - NN pleinement connecté\n",
        "\n"
      ]
    },
    {
      "cell_type": "markdown",
      "metadata": {
        "id": "y0auodf7kxQn"
      },
      "source": [
        "Commençons par tester un modèle de NN pleinement connecté"
      ]
    },
    {
      "cell_type": "code",
      "execution_count": 11,
      "metadata": {
        "id": "gjYc-celdzN2"
      },
      "outputs": [],
      "source": [
        "import torch\n",
        "import torch.nn as nn\n",
        "import torch.nn.functional as F\n",
        "import torch.optim as optim\n",
        "from torchvision import datasets, transforms\n",
        "\n",
        "from sklearn import datasets\n",
        "from sklearn.model_selection import train_test_split\n",
        "from sklearn.preprocessing import OneHotEncoder\n",
        "\n",
        "torch.manual_seed(0)\n",
        "torch.cuda.manual_seed(0)\n",
        "device = torch.device('cuda:0')\n",
        "\n",
        "### Traitement des données ASL\n",
        "\n",
        "\n",
        "x_train, y_train, x_val, y_val = traintest(dx,dy,0.8,12)\n",
        "num_train = x_train.shape[0]\n",
        "num_test = x_val.shape[0]\n",
        "num_features = x_train.shape[1]\n",
        "num_classes = 26\n",
        "x_train = torch.from_numpy(normalize(x_train)).float().to(device)\n",
        "x_val = torch.from_numpy(normalize(x_val)).float().to(device)\n",
        "y_train = torch.from_numpy(y_train).long().to(device)\n",
        "y_val = torch.from_numpy(y_val).long().to(device)\n"
      ]
    },
    {
      "cell_type": "code",
      "execution_count": 12,
      "metadata": {
        "colab": {
          "base_uri": "https://localhost:8080/"
        },
        "id": "DeXD-GuM5yg3",
        "outputId": "e3159b67-cce5-45ad-aaed-8f3e28fcae4f"
      },
      "outputs": [
        {
          "name": "stdout",
          "output_type": "stream",
          "text": [
            "----------------------------------------------------------------\n",
            "        Layer (type)               Output Shape         Param #\n",
            "================================================================\n",
            "            Linear-1                  [-1, 200]         157,000\n",
            "              ReLU-2                  [-1, 200]               0\n",
            "            Linear-3                  [-1, 500]         100,500\n",
            "              ReLU-4                  [-1, 500]               0\n",
            "            Linear-5                  [-1, 500]         250,500\n",
            "              ReLU-6                  [-1, 500]               0\n",
            "            Linear-7                   [-1, 26]          13,026\n",
            "================================================================\n",
            "Total params: 521,026\n",
            "Trainable params: 521,026\n",
            "Non-trainable params: 0\n",
            "----------------------------------------------------------------\n",
            "Input size (MB): 0.00\n",
            "Forward/backward pass size (MB): 0.02\n",
            "Params size (MB): 1.99\n",
            "Estimated Total Size (MB): 2.01\n",
            "----------------------------------------------------------------\n"
          ]
        }
      ],
      "source": [
        "\n",
        "### Hyperparamètres & architecture\n",
        "from torchsummary import summary\n",
        "model = nn.Sequential(\n",
        "    nn.Linear(num_features, 200),\n",
        "    nn.ReLU(),\n",
        "    nn.Linear(200, 500),\n",
        "    nn.ReLU(),\n",
        "    nn.Linear(500, 500),\n",
        "    nn.ReLU(),\n",
        "    nn.Linear(500, num_classes),\n",
        ").to(device)\n",
        "\n",
        "num_epochs = 5000\n",
        "learning_rate = 2e-3\n",
        "loss_fn = nn.CrossEntropyLoss()\n",
        "optimizer = torch.optim.SGD(model.parameters(), lr=learning_rate)\n",
        "summary(model, (784,))"
      ]
    },
    {
      "cell_type": "code",
      "execution_count": 13,
      "metadata": {
        "colab": {
          "base_uri": "https://localhost:8080/"
        },
        "id": "Hb-JTL9p-NXD",
        "outputId": "71e1f6ab-99ab-4263-b463-144f81ef4bbe"
      },
      "outputs": [
        {
          "name": "stdout",
          "output_type": "stream",
          "text": [
            "epoch # :  0\n",
            "epoch # :  1000\n",
            "epoch # :  2000\n",
            "epoch # :  3000\n",
            "epoch # :  4000\n"
          ]
        }
      ],
      "source": [
        "### Boucle d'entrainement\n",
        "\n",
        "\n",
        "losses = []\n",
        "losses_test = []\n",
        "\n",
        "for epoch in range(num_epochs):\n",
        "    if epoch%1000 == 0:\n",
        "      print('epoch # : ', epoch)\n",
        "    model.train()\n",
        "    preds = model(x_train)\n",
        "    loss = loss_fn(preds, y_train)\n",
        "    losses.append(loss.item())\n",
        "    #print(loss.item())\n",
        "\n",
        "    optimizer.zero_grad()\n",
        "    loss.backward()\n",
        "    optimizer.step()\n",
        "\n",
        "    # Evaluation à chaque epoch\n",
        "    model.eval()\n",
        "    preds_test = model(x_test)\n",
        "    loss_test = loss_fn(preds_test, y_test)\n",
        "    losses_test.append(loss_test.item())\n",
        "\n"
      ]
    },
    {
      "cell_type": "code",
      "execution_count": 14,
      "metadata": {
        "colab": {
          "base_uri": "https://localhost:8080/",
          "height": 507
        },
        "id": "Vqb_2Js3mveR",
        "outputId": "e17350b2-517b-466a-9eed-cf560fad5e10"
      },
      "outputs": [
        {
          "name": "stdout",
          "output_type": "stream",
          "text": [
            "train accuracy : 0.45365142961209254\n",
            "test accuracy : 0.4512839191404116\n"
          ]
        },
        {
          "data": {
            "image/png": "[encoded data removed]",
            "text/plain": [
              "<Figure size 640x480 with 1 Axes>"
            ]
          },
          "metadata": {},
          "output_type": "display_data"
        }
      ],
      "source": [
        "\n",
        "### Résultats\n",
        "\n",
        "plt.plot(range(num_epochs), losses, label = 'Training set')\n",
        "plt.plot(range(num_epochs), losses_test, label = 'Validation set')\n",
        "plt.title('Training results - Modele NN simple')\n",
        "plt.legend()\n",
        "plt.xlabel('epochs')\n",
        "plt.ylabel('crossentropy loss')\n",
        "\n",
        "preds_train = model(x_train)\n",
        "acc = 0\n",
        "for i in range(len(y_train)):\n",
        "  if torch.argmax(preds_train[i]) == y_train[i]:\n",
        "    acc += 1\n",
        "print('train accuracy : {}'.format(acc / len(y_train)))\n",
        "\n",
        "preds_test = model(x_val)\n",
        "acc = 0\n",
        "for i in range(len(y_val)):\n",
        "  if torch.argmax(preds_test[i]) == y_val[i]:\n",
        "    acc += 1\n",
        "print('test accuracy : {}'.format(acc / len(y_val)))"
      ]
    },
    {
      "cell_type": "code",
      "execution_count": null,
      "metadata": {
        "colab": {
          "base_uri": "https://localhost:8080/"
        },
        "id": "RJZmxp5mnE_A",
        "outputId": "9707f0c1-4790-45e6-ef49-27390787fd85"
      },
      "outputs": [
        {
          "name": "stdout",
          "output_type": "stream",
          "text": [
            "[ 6  2  1 ... 21 14 14]\n",
            "(3000,) (3000,)\n",
            "[ 77  90  71 ... 109  83  98]\n",
            "['M' 'Z' 'G' ... 'm' 'S' 'b']\n"
          ]
        }
      ],
      "source": [
        "datatest = torch.from_numpy(normalize(prepare_test(dtest))).float().to(device)\n",
        "predictions = model(datatest)\n",
        "preds = torch.argmax(predictions, axis=1)\n",
        "pred = np.array(preds.cpu())\n",
        "\n",
        "print(pred)\n",
        "\n",
        "predtest = prepare_output(pred)\n",
        "print(predtest)\n",
        "export_output(predtest,'NN_lab8.csv')"
      ]
    },
    {
      "cell_type": "markdown",
      "metadata": {
        "id": "84ynqgwry5VY"
      },
      "source": [
        "Analysons quelques exemplaires d'images de test et des prédictions du modèle"
      ]
    },
    {
      "cell_type": "code",
      "execution_count": null,
      "metadata": {
        "colab": {
          "base_uri": "https://localhost:8080/",
          "height": 878
        },
        "id": "LO129qaAqgu7",
        "outputId": "3f310f60-8c8d-41e7-dc34-4619d2ee02ac"
      },
      "outputs": [
        {
          "name": "stdout",
          "output_type": "stream",
          "text": [
            "5 13\n",
            "S S\n"
          ]
        },
        {
          "data": {
            "image/png": "[encoded data removed]",
            "text/plain": [
              "<Figure size 640x480 with 1 Axes>"
            ]
          },
          "metadata": {},
          "output_type": "display_data"
        },
        {
          "data": {
            "image/png": "[encoded data removed]",
            "text/plain": [
              "<Figure size 640x480 with 1 Axes>"
            ]
          },
          "metadata": {},
          "output_type": "display_data"
        }
      ],
      "source": [
        "a = prepare_test(dtest)\n",
        "ind = 20\n",
        "print(pred[ind], pred[ind+3000])\n",
        "print(chr(65+pred[ind]+pred[ind+3000]), predtest[ind])\n",
        "viewimage(a,ind)\n",
        "viewimage(a,ind+3000)\n",
        "#  faux:1,3,5,6,8,9,10,11,12,17.18\n",
        "#with NN: 4,5,6,7,8,10,11,15,17,18"
      ]
    },
    {
      "cell_type": "markdown",
      "metadata": {
        "id": "el_lnqInzYrj"
      },
      "source": [
        "Impact des hyperparamètres - learning rate\n",
        "\n",
        "Testons l'impact du LR sur l'apprentissage du modèle"
      ]
    },
    {
      "cell_type": "code",
      "execution_count": null,
      "metadata": {
        "colab": {
          "base_uri": "https://localhost:8080/"
        },
        "id": "7H9pTIstHf8G",
        "outputId": "4eec1c2b-9bc4-473b-90e9-1b8390df36a3"
      },
      "outputs": [
        {
          "name": "stdout",
          "output_type": "stream",
          "text": [
            "learning rate tested:  0.005\n",
            "0\n",
            "epoch # :  0\n",
            "epoch # :  1000\n",
            "epoch # :  2000\n",
            "epoch # :  3000\n",
            "epoch # :  4000\n",
            "learning rate tested:  0.001\n",
            "1\n",
            "epoch # :  0\n",
            "epoch # :  1000\n",
            "epoch # :  2000\n",
            "epoch # :  3000\n",
            "epoch # :  4000\n",
            "learning rate tested:  0.0001\n",
            "2\n",
            "epoch # :  0\n",
            "epoch # :  1000\n",
            "epoch # :  2000\n",
            "epoch # :  3000\n",
            "epoch # :  4000\n"
          ]
        }
      ],
      "source": [
        "\n",
        "### Boucle d'entrainement\n",
        "### Hyperparamètres & architecture\n",
        "\n",
        "\n",
        "num_epochs = 5000\n",
        "#learning_rate = 2e-3\n",
        "\n",
        "losses = np.zeros((num_epochs, 4))\n",
        "losses_test = np.zeros((num_epochs, 4))\n",
        "\n",
        "for i, learning_rate in enumerate([0.005, 0.001, 0.0001]):\n",
        "  print('learning rate tested: ', learning_rate)\n",
        "  print(i)\n",
        "\n",
        "  model = nn.Sequential(\n",
        "    nn.Linear(num_features, 200),\n",
        "    nn.ReLU(),\n",
        "    nn.Linear(200, 500),\n",
        "    nn.ReLU(),\n",
        "    nn.Linear(500, 500),\n",
        "    nn.ReLU(),\n",
        "    nn.Linear(500, num_classes),\n",
        "  ).to(device)\n",
        "  loss_fn = nn.CrossEntropyLoss()\n",
        "  optimizer = torch.optim.SGD(model.parameters(), lr=learning_rate)\n",
        "  for epoch in range(num_epochs):\n",
        "    if epoch%1000 == 0:\n",
        "      print('epoch # : ', epoch)\n",
        "    optimizer.zero_grad()\n",
        "    model.train()\n",
        "    preds = model(x_train)\n",
        "    loss = loss_fn(preds, y_train)\n",
        "    losses[epoch, i] =loss.item()\n",
        "    #print(loss.item())\n",
        "\n",
        "\n",
        "    loss.backward()\n",
        "    optimizer.step()\n",
        "\n",
        "    # Evaluation à chaque epoch\n",
        "    model.eval()\n",
        "    preds_test = model(x_val)\n",
        "    loss_test = loss_fn(preds_test, y_val)\n",
        "    losses_test[epoch, i] = loss_test.item()\n",
        "\n",
        "\n"
      ]
    },
    {
      "cell_type": "code",
      "execution_count": null,
      "metadata": {
        "colab": {
          "base_uri": "https://localhost:8080/",
          "height": 489
        },
        "id": "qthCl98LHn0g",
        "outputId": "54c4a6db-e3e8-4c3d-b5cd-0ff1580aca02"
      },
      "outputs": [
        {
          "data": {
            "text/plain": [
              "<matplotlib.legend.Legend at 0x78600a7a1b10>"
            ]
          },
          "execution_count": 69,
          "metadata": {},
          "output_type": "execute_result"
        },
        {
          "data": {
            "image/png": "[encoded data removed]",
            "text/plain": [
              "<Figure size 640x480 with 1 Axes>"
            ]
          },
          "metadata": {},
          "output_type": "display_data"
        }
      ],
      "source": [
        "# impact du learning rate sur l'apprentissage\n",
        "\n",
        "# Tracons la fonction de perte sur les données d'entrainement\n",
        "plt.plot(np.arange(num_epochs)[10:], losses[10:,0], label = 'Learning Rate = 0.005')\n",
        "plt.plot(np.arange(num_epochs)[10:], losses[10:,1], label = 'Learning Rate = 0.001')\n",
        "plt.plot(np.arange(num_epochs)[10:], losses[10:,2], label = 'Learning Rate = 0.0001')\n",
        "#plt.plot(np.arange(num_epochs)[1:], losses[1:,3], label = 'Learning Rate = 0.00001')\n",
        "\n",
        "#plt.plot(range(num_epochs), losses_test)\n",
        "plt.title('Impact du learning rate')\n",
        "plt.xlabel('epochs')\n",
        "plt.ylabel('crossentropy loss on training set')\n",
        "plt.legend()\n"
      ]
    },
    {
      "cell_type": "markdown",
      "metadata": {
        "id": "EZeSPcs6kYGp"
      },
      "source": [
        "## III.2 - CNN"
      ]
    },
    {
      "cell_type": "markdown",
      "metadata": {
        "id": "SFCRNu1gkeUx"
      },
      "source": [
        "Testons maintenant un modèle CNN, dont la structure est inspirée du heavy CNN vu au lab9, modifiée pour l'adapter au problème de classification du kaggle (26 classes de sorties)"
      ]
    },
    {
      "cell_type": "markdown",
      "metadata": {
        "id": "3pUE-b6sz99r"
      },
      "source": [
        "### III.2.1 - Structure du modèle"
      ]
    },
    {
      "cell_type": "code",
      "execution_count": null,
      "metadata": {
        "colab": {
          "base_uri": "https://localhost:8080/"
        },
        "id": "__swF0Wrm_5z",
        "outputId": "3eb66ed7-b8ac-42a7-8ab9-e60ac74932d6"
      },
      "outputs": [
        {
          "name": "stdout",
          "output_type": "stream",
          "text": [
            "(21964, 784) (21964,) (5491, 784) (5491,)\n",
            "----------------------------------------------------------------\n",
            "        Layer (type)               Output Shape         Param #\n",
            "================================================================\n",
            "            Conv2d-1           [-1, 32, 28, 28]             320\n",
            "       BatchNorm2d-2           [-1, 32, 28, 28]              64\n",
            "              ReLU-3           [-1, 32, 28, 28]               0\n",
            "            Conv2d-4           [-1, 32, 28, 28]           9,248\n",
            "       BatchNorm2d-5           [-1, 32, 28, 28]              64\n",
            "              ReLU-6           [-1, 32, 28, 28]               0\n",
            "         MaxPool2d-7           [-1, 32, 14, 14]               0\n",
            "            Conv2d-8           [-1, 64, 14, 14]          18,496\n",
            "       BatchNorm2d-9           [-1, 64, 14, 14]             128\n",
            "             ReLU-10           [-1, 64, 14, 14]               0\n",
            "           Conv2d-11           [-1, 64, 14, 14]          36,928\n",
            "      BatchNorm2d-12           [-1, 64, 14, 14]             128\n",
            "             ReLU-13           [-1, 64, 14, 14]               0\n",
            "        MaxPool2d-14             [-1, 64, 7, 7]               0\n",
            "          Flatten-15                 [-1, 3136]               0\n",
            "           Linear-16                  [-1, 512]       1,606,144\n",
            "      BatchNorm1d-17                  [-1, 512]           1,024\n",
            "          Dropout-18                  [-1, 512]               0\n",
            "           Linear-19                   [-1, 26]          13,338\n",
            "================================================================\n",
            "Total params: 1,685,882\n",
            "Trainable params: 1,685,882\n",
            "Non-trainable params: 0\n",
            "----------------------------------------------------------------\n",
            "Input size (MB): 0.00\n",
            "Forward/backward pass size (MB): 1.83\n",
            "Params size (MB): 6.43\n",
            "Estimated Total Size (MB): 8.26\n",
            "----------------------------------------------------------------\n"
          ]
        }
      ],
      "source": [
        "import torch\n",
        "import torch.nn as nn\n",
        "import torch.nn.functional as F\n",
        "import torch.optim as optim\n",
        "from torchvision import datasets, transforms\n",
        "\n",
        "from sklearn import datasets\n",
        "from sklearn.model_selection import train_test_split\n",
        "from sklearn.preprocessing import OneHotEncoder\n",
        "\n",
        "\n",
        "torch.manual_seed(12)\n",
        "torch.cuda.manual_seed(12)\n",
        "device = torch.device('cuda:0')\n",
        "\n",
        "### Traitement des données ASL\n",
        "x_train, y_train, x_val, y_val = traintest(dx, dy, 0.8, 12)\n",
        "print(x_train.shape, y_train.shape, x_val.shape, y_val.shape)\n",
        "\n",
        "num_train = x_train.shape[0]\n",
        "num_test = x_val.shape[0]\n",
        "num_features = x_train.shape[1]\n",
        "num_classes = 26\n",
        "\n",
        "x_train = torch.from_numpy(x_train.reshape(-1,1,28,28)).float().to(device)\n",
        "x_test = torch.from_numpy(x_val.reshape(-1,1,28,28)).float().to(device)\n",
        "y_train = torch.from_numpy(y_train).long().to(device)\n",
        "y_test = torch.from_numpy(y_val).long().to(device)\n",
        "\n",
        "### Hyperparamètres & architecture\n",
        "\n",
        "model = nn.Sequential(\n",
        "        nn.Conv2d(1,32,3,padding = 1),\n",
        "        nn.BatchNorm2d(32),\n",
        "        nn.ReLU(),\n",
        "\n",
        "        nn.Conv2d(32,32,3,padding = 1),\n",
        "        nn.BatchNorm2d(32),\n",
        "        nn.ReLU(),\n",
        "        nn.MaxPool2d(2),\n",
        "\n",
        "        nn.Conv2d(32,64,3,padding = 1),\n",
        "        nn.BatchNorm2d(64),\n",
        "        nn.ReLU(),\n",
        "        nn.Conv2d(64,64,3,padding = 1),\n",
        "        nn.BatchNorm2d(64),\n",
        "        nn.ReLU(),\n",
        "        nn.MaxPool2d(2),\n",
        "        nn.Flatten(),\n",
        "        #fully connected layer for readou\n",
        "        nn.Linear(64*7*7,512),\n",
        "        nn.BatchNorm1d(512),\n",
        "        nn.Dropout(0.2),\n",
        "        nn.Linear(512,26)\n",
        "        ).to(device)\n",
        "summary(model, (1,28,28))"
      ]
    },
    {
      "cell_type": "code",
      "execution_count": null,
      "metadata": {
        "id": "zGRqMuMBnJtd"
      },
      "outputs": [],
      "source": [
        "def iterate_minibatches(inputs, targets, batchsize, shuffle=False):\n",
        "    assert inputs.shape[0] == targets.shape[0]\n",
        "    if shuffle:\n",
        "        indices = np.arange(inputs.shape[0])\n",
        "        np.random.shuffle(indices)\n",
        "    for start_idx in range(0, inputs.shape[0], batchsize):\n",
        "        end_idx = min(start_idx + batchsize, inputs.shape[0])\n",
        "        if shuffle:\n",
        "            excerpt = indices[start_idx:end_idx]\n",
        "        else:\n",
        "            excerpt = slice(start_idx, end_idx)\n",
        "        yield inputs[excerpt], targets[excerpt]"
      ]
    },
    {
      "cell_type": "markdown",
      "metadata": {
        "id": "fioLExF9z01J"
      },
      "source": [
        "### III.2.2 Hyper-paramètres"
      ]
    },
    {
      "cell_type": "markdown",
      "metadata": {
        "id": "f3BOmIFGoVqE"
      },
      "source": [
        "Testons d'abord l'impact du learning rate sur l'apprentissage du modèle"
      ]
    },
    {
      "cell_type": "code",
      "execution_count": null,
      "metadata": {
        "colab": {
          "base_uri": "https://localhost:8080/"
        },
        "id": "VK5HmotZnSsU",
        "outputId": "5f4ca295-3b13-4112-a8e2-49d9ca6c0424"
      },
      "outputs": [
        {
          "name": "stdout",
          "output_type": "stream",
          "text": [
            "epoch:  0\n",
            "epoch:  1\n",
            "epoch:  2\n",
            "epoch:  3\n",
            "epoch:  4\n",
            "epoch:  5\n",
            "epoch:  6\n",
            "epoch:  7\n",
            "epoch:  8\n",
            "epoch:  9\n",
            "epoch:  10\n",
            "epoch:  11\n",
            "epoch:  12\n",
            "epoch:  13\n",
            "epoch:  14\n",
            "epoch:  15\n",
            "epoch:  16\n",
            "epoch:  17\n",
            "epoch:  18\n",
            "epoch:  19\n",
            "epoch:  20\n",
            "epoch:  21\n",
            "epoch:  22\n",
            "epoch:  23\n",
            "epoch:  24\n",
            "epoch:  25\n",
            "epoch:  26\n",
            "epoch:  27\n",
            "epoch:  28\n",
            "epoch:  29\n",
            "epoch:  0\n",
            "epoch:  1\n",
            "epoch:  2\n",
            "epoch:  3\n",
            "epoch:  4\n",
            "epoch:  5\n",
            "epoch:  6\n",
            "epoch:  7\n",
            "epoch:  8\n",
            "epoch:  9\n",
            "epoch:  10\n",
            "epoch:  11\n",
            "epoch:  12\n",
            "epoch:  13\n",
            "epoch:  14\n",
            "epoch:  15\n",
            "epoch:  16\n",
            "epoch:  17\n",
            "epoch:  18\n",
            "epoch:  19\n",
            "epoch:  20\n",
            "epoch:  21\n",
            "epoch:  22\n",
            "epoch:  23\n",
            "epoch:  24\n",
            "epoch:  25\n",
            "epoch:  26\n",
            "epoch:  27\n",
            "epoch:  28\n",
            "epoch:  29\n",
            "epoch:  0\n",
            "epoch:  1\n",
            "epoch:  2\n",
            "epoch:  3\n",
            "epoch:  4\n",
            "epoch:  5\n",
            "epoch:  6\n",
            "epoch:  7\n",
            "epoch:  8\n",
            "epoch:  9\n",
            "epoch:  10\n",
            "epoch:  11\n",
            "epoch:  12\n",
            "epoch:  13\n",
            "epoch:  14\n",
            "epoch:  15\n",
            "epoch:  16\n",
            "epoch:  17\n",
            "epoch:  18\n",
            "epoch:  19\n",
            "epoch:  20\n",
            "epoch:  21\n",
            "epoch:  22\n",
            "epoch:  23\n",
            "epoch:  24\n",
            "epoch:  25\n",
            "epoch:  26\n",
            "epoch:  27\n",
            "epoch:  28\n",
            "epoch:  29\n"
          ]
        }
      ],
      "source": [
        "\n",
        "num_epochs = 30\n",
        "losses = np.zeros((num_epochs,3))\n",
        "losses_test = np.zeros((num_epochs,3))\n",
        "learning_rates = [0.01,0.001,0.0001]\n",
        "loss_fn = nn.CrossEntropyLoss()\n",
        "batch_size = 128\n",
        "### Boucle d'entrainement\n",
        "for i, lrate in enumerate(learning_rates):\n",
        "  optimizer = torch.optim.SGD(model.parameters(), lr=lrate)\n",
        "\n",
        "\n",
        "  for epoch in range(num_epochs):\n",
        "\n",
        "    av_loss = 0\n",
        "    for batch in iterate_minibatches(x_train, y_train, batch_size, True):\n",
        "      x_batch, y_batch = batch\n",
        "\n",
        "      optimizer.zero_grad()\n",
        "      model.train()\n",
        "      preds = model(x_batch)\n",
        "      loss = loss_fn(preds, y_batch)\n",
        "      av_loss += loss.item()\n",
        "      loss.backward()\n",
        "      optimizer.step()\n",
        "    losses[epoch, i] = av_loss/num_train\n",
        "    # Evaluation à chaque epoch\n",
        "    model.eval()\n",
        "    preds_test = model(x_test)\n",
        "    loss_test = loss_fn(preds_test, y_test)\n",
        "    losses_test[epoch, i]=loss_test.item()\n",
        "    print('epoch: ', epoch)\n"
      ]
    },
    {
      "cell_type": "code",
      "execution_count": null,
      "metadata": {
        "colab": {
          "base_uri": "https://localhost:8080/",
          "height": 489
        },
        "id": "o9fHr4zVnKrM",
        "outputId": "235d675f-ae2c-4246-f745-3a23493e4351"
      },
      "outputs": [
        {
          "data": {
            "text/plain": [
              "<matplotlib.legend.Legend at 0x785ffad26050>"
            ]
          },
          "execution_count": 100,
          "metadata": {},
          "output_type": "execute_result"
        },
        {
          "data": {
            "image/png": "[encoded data removed]",
            "text/plain": [
              "<Figure size 640x480 with 1 Axes>"
            ]
          },
          "metadata": {},
          "output_type": "display_data"
        }
      ],
      "source": [
        "### Résultats\n",
        "\n",
        "plt.plot(np.arange(num_epochs)[10:], losses[10:,0], label = 'learning rate = 0.01')\n",
        "plt.plot(np.arange(num_epochs)[10:], losses[10:,1], label = 'learning rate = 0.001')\n",
        "plt.plot(np.arange(num_epochs)[10:], losses[10:,2], label = 'learning rate = 0.0001')\n",
        "\n",
        "#plt.plot(range(num_epochs), losses_test)\n",
        "plt.xlabel('epochs')\n",
        "plt.ylabel('crossentropy loss on training set')\n",
        "plt.title('Impact du learning rate')\n",
        "plt.legend()\n"
      ]
    },
    {
      "cell_type": "markdown",
      "metadata": {
        "id": "DrCTnzob0JR-"
      },
      "source": [
        "### III.2.3 - Evaluation du modèle sélectionné"
      ]
    },
    {
      "cell_type": "markdown",
      "metadata": {
        "id": "ucTFrrTNrjRn"
      },
      "source": [
        "Entrainons maintenant le modèle avec un LR = 0.002, sur 200 epochs, avec une taille de mini-batch de 128"
      ]
    },
    {
      "cell_type": "code",
      "execution_count": null,
      "metadata": {
        "id": "RI66F61wodzw"
      },
      "outputs": [],
      "source": [
        "\n",
        "num_epochs = 200\n",
        "losses = []\n",
        "losses_test = []\n",
        "learning_rate = 2e-3\n",
        "loss_fn = nn.CrossEntropyLoss()\n",
        "batch_size = 128\n",
        "### Boucle d'entrainement\n",
        "\n",
        "optimizer = torch.optim.SGD(model.parameters(), lr=learning_rate)\n",
        "\n",
        "\n",
        "for epoch in range(num_epochs):\n",
        "\n",
        "  av_loss = 0\n",
        "  for batch in iterate_minibatches(x_train, y_train, batch_size, True):\n",
        "    x_batch, y_batch = batch\n",
        "\n",
        "    optimizer.zero_grad()\n",
        "    model.train()\n",
        "    preds = model(x_batch)\n",
        "    loss = loss_fn(preds, y_batch)\n",
        "    av_loss += loss.item()\n",
        "    loss.backward()\n",
        "    optimizer.step()\n",
        "  losses.append(av_loss/num_train)\n",
        "    # Evaluation à chaque epoch\n",
        "  model.eval()\n",
        "  preds_test = model(x_test)\n",
        "  loss_test = loss_fn(preds_test, y_test)\n",
        "  losses_test.append(loss_test.item())\n",
        "  print('epoch: ', epoch)\n"
      ]
    },
    {
      "cell_type": "code",
      "execution_count": null,
      "metadata": {
        "id": "OMqx8YCQoiWZ"
      },
      "outputs": [],
      "source": [
        "### Résultats\n",
        "\n",
        "plt.plot(range(num_epochs), losses)\n",
        "plt.plot(range(num_epochs), losses_test)\n",
        "plt.xlabel('epochs')\n",
        "plt.ylabel('crossentropy loss')\n",
        "with torch.no_grad():\n",
        "  preds_test = model(x_test)\n",
        "  acc = 0\n",
        "  for i in range(len(y_test)):\n",
        "    if torch.argmax(preds_test[i]) == y_test[i]:\n",
        "      acc += 1\n",
        "  print('test accuracy : {}'.format(acc / len(y_test)))"
      ]
    },
    {
      "cell_type": "markdown",
      "metadata": {
        "id": "sqg1UxewnteT"
      },
      "source": [
        "Prédictions sur l'ensemble de test"
      ]
    },
    {
      "cell_type": "code",
      "execution_count": null,
      "metadata": {
        "id": "SlpnKt5znrqP"
      },
      "outputs": [],
      "source": [
        "datatest = torch.from_numpy(normalize(prepare_test(dtest)).reshape(-1,1,28,28)).float().to(device)\n",
        "\n",
        "with torch.no_grad():\n",
        "  predictions= model(datatest)\n",
        "  preds = torch.argmax(predictions, axis=1)\n",
        "  pred = np.array(preds.cpu())\n",
        "predtest = prepare_output(pred)\n",
        "print(predtest)\n",
        "export_output(predtest,'NN_lab9_200_128_nodataaug.csv')"
      ]
    },
    {
      "cell_type": "markdown",
      "metadata": {
        "id": "5a7xWYoP0o7w"
      },
      "source": [
        "### III.2.4 Data augmentation"
      ]
    },
    {
      "cell_type": "markdown",
      "metadata": {
        "id": "JmoRiFd-g6vG"
      },
      "source": [
        "Testons l'impact d'ajouter des données transformées à l'ensemble d'entrainement."
      ]
    },
    {
      "cell_type": "code",
      "execution_count": null,
      "metadata": {
        "colab": {
          "base_uri": "https://localhost:8080/"
        },
        "id": "2wlmEE90hS-I",
        "outputId": "05500a85-e330-4733-afac-2a6891d20216"
      },
      "outputs": [
        {
          "name": "stdout",
          "output_type": "stream",
          "text": [
            "(21964, 784) (21964,) (5491, 784) (5491,)\n",
            "torch.Size([109820, 1, 28, 28]) (109820,)\n"
          ]
        }
      ],
      "source": [
        "#augment data\n",
        "x_train, y_train, x_val, y_val = traintest(dx, dy, 0.8, 12)\n",
        "print(x_train.shape, y_train.shape, x_val.shape, y_val.shape)\n",
        "x_aug = augment(torch.from_numpy(x_train.reshape(-1,1,28,28)).float())\n",
        "y_aug = np.concatenate([y_train, y_train,y_train, y_train, y_train], axis= 0)\n",
        "print(x_aug.shape, y_aug.shape)"
      ]
    },
    {
      "cell_type": "code",
      "execution_count": null,
      "metadata": {
        "id": "oKXTE2Tij34x"
      },
      "outputs": [],
      "source": [
        "\n",
        "torch.manual_seed(12)\n",
        "torch.cuda.manual_seed(12)\n",
        "device = torch.device('cuda:0')\n",
        "x_train = x_aug.to(device)\n",
        "x_test = torch.from_numpy(x_val.reshape(-1,1,28,28)).float().to(device)\n",
        "y_train = torch.from_numpy(y_aug).long().to(device)\n",
        "y_test = torch.from_numpy(y_val).long().to(device)"
      ]
    },
    {
      "cell_type": "markdown",
      "metadata": {
        "id": "V-oItf4fn3uL"
      },
      "source": [
        "Réentrainons le CNN sur ces données augmentées"
      ]
    },
    {
      "cell_type": "code",
      "execution_count": null,
      "metadata": {
        "colab": {
          "base_uri": "https://localhost:8080/"
        },
        "id": "DFhZardRjIW2",
        "outputId": "e94343f5-5279-4647-f56e-f46d829d5737"
      },
      "outputs": [
        {
          "name": "stdout",
          "output_type": "stream",
          "text": [
            "epoch:  0\n",
            "epoch:  1\n",
            "epoch:  2\n",
            "epoch:  3\n",
            "epoch:  4\n",
            "epoch:  5\n",
            "epoch:  6\n",
            "epoch:  7\n",
            "epoch:  8\n",
            "epoch:  9\n",
            "epoch:  10\n",
            "epoch:  11\n",
            "epoch:  12\n",
            "epoch:  13\n",
            "epoch:  14\n",
            "epoch:  15\n",
            "epoch:  16\n",
            "epoch:  17\n",
            "epoch:  18\n",
            "epoch:  19\n",
            "epoch:  20\n",
            "epoch:  21\n",
            "epoch:  22\n",
            "epoch:  23\n",
            "epoch:  24\n",
            "epoch:  25\n",
            "epoch:  26\n",
            "epoch:  27\n",
            "epoch:  28\n",
            "epoch:  29\n",
            "epoch:  30\n",
            "epoch:  31\n",
            "epoch:  32\n",
            "epoch:  33\n",
            "epoch:  34\n",
            "epoch:  35\n",
            "epoch:  36\n",
            "epoch:  37\n",
            "epoch:  38\n",
            "epoch:  39\n",
            "epoch:  40\n",
            "epoch:  41\n",
            "epoch:  42\n",
            "epoch:  43\n",
            "epoch:  44\n",
            "epoch:  45\n",
            "epoch:  46\n",
            "epoch:  47\n",
            "epoch:  48\n",
            "epoch:  49\n",
            "epoch:  50\n",
            "epoch:  51\n",
            "epoch:  52\n",
            "epoch:  53\n",
            "epoch:  54\n",
            "epoch:  55\n",
            "epoch:  56\n",
            "epoch:  57\n",
            "epoch:  58\n",
            "epoch:  59\n",
            "epoch:  60\n",
            "epoch:  61\n",
            "epoch:  62\n",
            "epoch:  63\n",
            "epoch:  64\n",
            "epoch:  65\n",
            "epoch:  66\n",
            "epoch:  67\n",
            "epoch:  68\n",
            "epoch:  69\n",
            "epoch:  70\n",
            "epoch:  71\n",
            "epoch:  72\n",
            "epoch:  73\n",
            "epoch:  74\n",
            "epoch:  75\n",
            "epoch:  76\n",
            "epoch:  77\n",
            "epoch:  78\n",
            "epoch:  79\n",
            "epoch:  80\n",
            "epoch:  81\n",
            "epoch:  82\n",
            "epoch:  83\n",
            "epoch:  84\n",
            "epoch:  85\n",
            "epoch:  86\n",
            "epoch:  87\n",
            "epoch:  88\n",
            "epoch:  89\n",
            "epoch:  90\n",
            "epoch:  91\n",
            "epoch:  92\n",
            "epoch:  93\n",
            "epoch:  94\n",
            "epoch:  95\n",
            "epoch:  96\n",
            "epoch:  97\n",
            "epoch:  98\n",
            "epoch:  99\n",
            "epoch:  100\n",
            "epoch:  101\n",
            "epoch:  102\n",
            "epoch:  103\n",
            "epoch:  104\n",
            "epoch:  105\n",
            "epoch:  106\n",
            "epoch:  107\n",
            "epoch:  108\n",
            "epoch:  109\n",
            "epoch:  110\n",
            "epoch:  111\n",
            "epoch:  112\n",
            "epoch:  113\n",
            "epoch:  114\n",
            "epoch:  115\n",
            "epoch:  116\n",
            "epoch:  117\n",
            "epoch:  118\n",
            "epoch:  119\n",
            "epoch:  120\n",
            "epoch:  121\n",
            "epoch:  122\n",
            "epoch:  123\n",
            "epoch:  124\n",
            "epoch:  125\n",
            "epoch:  126\n",
            "epoch:  127\n",
            "epoch:  128\n",
            "epoch:  129\n",
            "epoch:  130\n",
            "epoch:  131\n",
            "epoch:  132\n",
            "epoch:  133\n",
            "epoch:  134\n",
            "epoch:  135\n",
            "epoch:  136\n",
            "epoch:  137\n",
            "epoch:  138\n",
            "epoch:  139\n",
            "epoch:  140\n",
            "epoch:  141\n",
            "epoch:  142\n",
            "epoch:  143\n",
            "epoch:  144\n",
            "epoch:  145\n",
            "epoch:  146\n",
            "epoch:  147\n",
            "epoch:  148\n",
            "epoch:  149\n",
            "epoch:  150\n",
            "epoch:  151\n",
            "epoch:  152\n",
            "epoch:  153\n",
            "epoch:  154\n",
            "epoch:  155\n",
            "epoch:  156\n",
            "epoch:  157\n",
            "epoch:  158\n",
            "epoch:  159\n",
            "epoch:  160\n",
            "epoch:  161\n",
            "epoch:  162\n",
            "epoch:  163\n",
            "epoch:  164\n",
            "epoch:  165\n",
            "epoch:  166\n",
            "epoch:  167\n",
            "epoch:  168\n",
            "epoch:  169\n",
            "epoch:  170\n",
            "epoch:  171\n",
            "epoch:  172\n",
            "epoch:  173\n",
            "epoch:  174\n",
            "epoch:  175\n",
            "epoch:  176\n",
            "epoch:  177\n",
            "epoch:  178\n",
            "epoch:  179\n",
            "epoch:  180\n",
            "epoch:  181\n",
            "epoch:  182\n",
            "epoch:  183\n",
            "epoch:  184\n",
            "epoch:  185\n",
            "epoch:  186\n",
            "epoch:  187\n",
            "epoch:  188\n",
            "epoch:  189\n",
            "epoch:  190\n",
            "epoch:  191\n",
            "epoch:  192\n",
            "epoch:  193\n",
            "epoch:  194\n",
            "epoch:  195\n",
            "epoch:  196\n",
            "epoch:  197\n",
            "epoch:  198\n",
            "epoch:  199\n"
          ]
        }
      ],
      "source": [
        "#ré-entrainons le modèle CNN sur les données augmentées\n",
        "num_epochs = 200\n",
        "losses = []\n",
        "losses_test = []\n",
        "learning_rate = 2e-3\n",
        "loss_fn = nn.CrossEntropyLoss()\n",
        "batch_size = 128\n",
        "### Boucle d'entrainement\n",
        "\n",
        "optimizer = torch.optim.SGD(model.parameters(), lr=learning_rate)\n",
        "\n",
        "\n",
        "for epoch in range(num_epochs):\n",
        "\n",
        "  av_loss = 0\n",
        "  for batch in iterate_minibatches(x_test, y_test, batch_size, True):\n",
        "    x_batch, y_batch = batch\n",
        "\n",
        "    optimizer.zero_grad()\n",
        "    model.train()\n",
        "    preds = model(x_batch)\n",
        "    loss = loss_fn(preds, y_batch)\n",
        "    av_loss += loss.item()\n",
        "    loss.backward()\n",
        "    optimizer.step()\n",
        "  losses.append(av_loss/num_train)\n",
        "    # Evaluation à chaque epoch\n",
        "  model.eval()\n",
        "  preds_test = model(x_test)\n",
        "  loss_test = loss_fn(preds_test, y_test)\n",
        "  losses_test.append(loss_test.item())\n",
        "  print('epoch: ', epoch)\n"
      ]
    },
    {
      "cell_type": "code",
      "execution_count": null,
      "metadata": {
        "colab": {
          "base_uri": "https://localhost:8080/",
          "height": 466
        },
        "id": "wZX6gkzMm1jq",
        "outputId": "42baed84-ae9e-41fa-d11f-e50d6b152472"
      },
      "outputs": [
        {
          "name": "stdout",
          "output_type": "stream",
          "text": [
            "test accuracy : 1.0\n"
          ]
        },
        {
          "data": {
            "image/png": "[encoded data removed]",
            "text/plain": [
              "<Figure size 640x480 with 1 Axes>"
            ]
          },
          "metadata": {},
          "output_type": "display_data"
        }
      ],
      "source": [
        "### Résultats\n",
        "\n",
        "plt.plot(range(num_epochs), losses)\n",
        "plt.plot(range(num_epochs), losses_test)\n",
        "plt.xlabel('epochs')\n",
        "plt.ylabel('crossentropy loss')\n",
        "with torch.no_grad():\n",
        "  preds_test = model(x_test)\n",
        "  acc = 0\n",
        "  for i in range(len(y_test)):\n",
        "    if torch.argmax(preds_test[i]) == y_test[i]:\n",
        "      acc += 1\n",
        "  print('test accuracy : {}'.format(acc / len(y_test)))"
      ]
    },
    {
      "cell_type": "code",
      "execution_count": null,
      "metadata": {
        "id": "_RJPcJZxnCwW"
      },
      "outputs": [],
      "source": [
        "# Prédictions sur les données test\n",
        "datatest = torch.from_numpy(normalize(prepare_test(dtest)).reshape(-1,1,28,28)).float().to(device)\n",
        "\n",
        "with torch.no_grad():\n",
        "  predictions= model(datatest)\n",
        "  preds = torch.argmax(predictions, axis=1)\n",
        "  pred = np.array(preds.cpu())\n",
        "predtest = prepare_output(pred)\n",
        "print(predtest)\n",
        "export_output(predtest,'NN_lab9_200_128_augRot10_zoomin_zoomout_blur.csv')"
      ]
    },
    {
      "cell_type": "markdown",
      "metadata": {
        "id": "VO_Yufd0wqYn"
      },
      "source": [
        "\n",
        "\n",
        "# IV - Transfer learning à partir de ResNet50"
      ]
    },
    {
      "cell_type": "markdown",
      "metadata": {
        "id": "YSKf_Q9SmuIP"
      },
      "source": [
        "Testons la technique du transfer learning à partir du réseau ResNet50 préentrainé sur le dataset imagenet. Cette technique permet de pallier le relativment faible nombre de données disponibles specifiques pour notre tache d'entrainement (ASL MNIST dataset), en utilisant un modèle entrainé pour une tache similaire (reconnaissance d'images ) sur un dataset beaucoup plus grand (plus d'1 million de données). Nous modifierons la dernière couche complètement connectée pour adapter le modèle à notre tache de classification (26 classes).   "
      ]
    },
    {
      "cell_type": "markdown",
      "metadata": {
        "id": "K297Tnl61HSn"
      },
      "source": [
        "## IV.1- Formatage des données d'entrée"
      ]
    },
    {
      "cell_type": "markdown",
      "metadata": {
        "id": "naVjMSIloBmY"
      },
      "source": [
        "Nous allons d'abord transformer les images pour les rendre compatibles en taille et en canaux d'entrée avec celles du dataset imagenet. Puis nous les chargeons dans un Tensordataset"
      ]
    },
    {
      "cell_type": "markdown",
      "metadata": {
        "id": "LZNCLSgXb1Jy"
      },
      "source": [
        "On va donc reformater les images, du format (1, 28, 28) à (3, 224, 224)"
      ]
    },
    {
      "cell_type": "code",
      "execution_count": null,
      "metadata": {
        "colab": {
          "base_uri": "https://localhost:8080/"
        },
        "id": "Zu8knQbxbzUV",
        "outputId": "8898fe30-d326-4c00-ff9d-2b6e88d8f0a7"
      },
      "outputs": [
        {
          "name": "stderr",
          "output_type": "stream",
          "text": [
            "/usr/local/lib/python3.10/dist-packages/torchvision/transforms/functional.py:1603: UserWarning: The default value of the antialias parameter of all the resizing transforms (Resize(), RandomResizedCrop(), etc.) will change from None to True in v0.17, in order to be consistent across the PIL and Tensor backends. To suppress this warning, directly pass antialias=True (recommended, future default), antialias=None (current default, which means False for Tensors and True for PIL), or antialias=False (only works on Tensors - PIL will still use antialiasing). This also applies if you are using the inference transforms from the models weights: update the call to weights.transforms(antialias=True).\n",
            "  warnings.warn(\n"
          ]
        }
      ],
      "source": [
        "x_train, y_train, x_val, y_val = traintest(dx, dy, 0.8, 12)\n",
        "\n",
        "# resize\n",
        "x224 = v2.Resize(224)(torch.from_numpy(x_train.reshape(-1,1,28,28)).float())"
      ]
    },
    {
      "cell_type": "code",
      "execution_count": null,
      "metadata": {
        "id": "YE3T7vcAcO2C"
      },
      "outputs": [],
      "source": [
        "# resize val data\n",
        "xval = v2.Resize(224)(torch.from_numpy(x_val.reshape(-1,1,28,28)).float())"
      ]
    },
    {
      "cell_type": "code",
      "execution_count": null,
      "metadata": {
        "colab": {
          "base_uri": "https://localhost:8080/"
        },
        "id": "I0pNwZnFcPHv",
        "outputId": "5fbfd2ac-8e83-4022-b11c-ddf9f179fac6"
      },
      "outputs": [
        {
          "name": "stdout",
          "output_type": "stream",
          "text": [
            "torch.Size([21964, 3, 224, 224]) torch.Size([5491, 3, 224, 224])\n"
          ]
        }
      ],
      "source": [
        "xtrain224 = x224.expand(-1,3,-1,-1)\n",
        "xval224 = xval.expand(-1,3,-1,-1)\n",
        "print(xtrain224.shape, xval224.shape)"
      ]
    },
    {
      "cell_type": "code",
      "execution_count": null,
      "metadata": {
        "id": "4FkNU1wj7rZd"
      },
      "outputs": [],
      "source": [
        "# transform train and Val datasets into TensorDataset\n",
        "import torch\n",
        "from torchvision import models, transforms, datasets\n",
        "from torch import nn\n",
        "import matplotlib.pyplot as plt\n",
        "import numpy as np\n",
        "from torch.utils.data import TensorDataset, DataLoader\n",
        "\n",
        "train_subset = TensorDataset(xtrain224/255, torch.LongTensor(y_train))\n",
        "val_subset = TensorDataset(xval224/255, torch.LongTensor(y_val))"
      ]
    },
    {
      "cell_type": "code",
      "execution_count": null,
      "metadata": {
        "id": "94wxIwplo4j1"
      },
      "outputs": [],
      "source": [
        "#normalize input data using the same methodology as in ResNet50 paper"
      ]
    },
    {
      "cell_type": "code",
      "execution_count": null,
      "metadata": {
        "id": "eq9_L3RFpD68"
      },
      "outputs": [],
      "source": [
        "train_transforms = transforms.Compose([\n",
        "    transforms.Resize(224),\n",
        "    transforms.ToTensor(),\n",
        "    transforms.Normalize(mean=[0.485, 0.456, 0.406],\n",
        "                         std=[0.229, 0.224, 0.225])\n",
        "])\n",
        "\n",
        "test_transforms = transforms.Compose([\n",
        "    transforms.Resize(224),\n",
        "    transforms.ToTensor(),\n",
        "    transforms.Normalize(mean=[0.485, 0.456, 0.406],\n",
        "                         std=[0.229, 0.224, 0.225])\n",
        "])"
      ]
    },
    {
      "cell_type": "code",
      "execution_count": null,
      "metadata": {
        "id": "LrLgfE0w5WQS"
      },
      "outputs": [],
      "source": [
        "#implementer un dataloader pour entrainer le modèle en utilisant des mini batches\n",
        "batch_size = 32\n",
        "\n",
        "train_dataloader = torch.utils.data.DataLoader(\n",
        "    dataset=train_subset,\n",
        "    batch_size=batch_size,\n",
        "\n",
        "    shuffle=True\n",
        ")\n",
        "\n",
        "val_dataloader = torch.utils.data.DataLoader(\n",
        "    dataset=val_subset,\n",
        "    batch_size=batch_size,\n",
        "    shuffle=False\n",
        ")"
      ]
    },
    {
      "cell_type": "code",
      "execution_count": null,
      "metadata": {
        "colab": {
          "base_uri": "https://localhost:8080/",
          "height": 451
        },
        "id": "TEtpJ8tG5aNB",
        "outputId": "3559e22d-5917-4a93-9f8e-e4284448eafa"
      },
      "outputs": [
        {
          "name": "stdout",
          "output_type": "stream",
          "text": [
            "torch.Size([32, 3, 224, 224]) torch.Size([32])\n"
          ]
        },
        {
          "data": {
            "image/png": "[encoded data removed]",
            "text/plain": [
              "<Figure size 640x480 with 1 Axes>"
            ]
          },
          "metadata": {},
          "output_type": "display_data"
        }
      ],
      "source": [
        "#cVisualiser une image d'un mini batch\n",
        "for img, label in train_dataloader:\n",
        "    print(img.shape, label.shape)\n",
        "   # print(f'Ground Truth {classes[label[0]]}')\n",
        "    plt.imshow(img[0].permute(1, 2, 0).numpy().astype(np.uint8))\n",
        "    break"
      ]
    },
    {
      "cell_type": "markdown",
      "metadata": {
        "id": "Wr7AUGuH1Q6d"
      },
      "source": [
        "## IV.2 - Structure du modèle Resnet50 modifié"
      ]
    },
    {
      "cell_type": "code",
      "execution_count": null,
      "metadata": {
        "id": "GCNI0Z-KGvLF"
      },
      "outputs": [],
      "source": [
        "# importons le modele ResNet50 préentraine"
      ]
    },
    {
      "cell_type": "code",
      "execution_count": null,
      "metadata": {
        "colab": {
          "base_uri": "https://localhost:8080/"
        },
        "id": "trU2y-oR5hbo",
        "outputId": "f73c25f4-1b98-4303-c8d0-359780736cd9"
      },
      "outputs": [
        {
          "name": "stderr",
          "output_type": "stream",
          "text": [
            "/usr/local/lib/python3.10/dist-packages/torchvision/models/_utils.py:208: UserWarning: The parameter 'pretrained' is deprecated since 0.13 and may be removed in the future, please use 'weights' instead.\n",
            "  warnings.warn(\n",
            "/usr/local/lib/python3.10/dist-packages/torchvision/models/_utils.py:223: UserWarning: Arguments other than a weight enum or `None` for 'weights' are deprecated since 0.13 and may be removed in the future. The current behavior is equivalent to passing `weights=ResNet50_Weights.IMAGENET1K_V1`. You can also use `weights=ResNet50_Weights.DEFAULT` to get the most up-to-date weights.\n",
            "  warnings.warn(msg)\n"
          ]
        },
        {
          "name": "stdout",
          "output_type": "stream",
          "text": [
            "----------------------------------------------------------------\n",
            "        Layer (type)               Output Shape         Param #\n",
            "================================================================\n",
            "            Conv2d-1         [-1, 64, 112, 112]           9,408\n",
            "       BatchNorm2d-2         [-1, 64, 112, 112]             128\n",
            "              ReLU-3         [-1, 64, 112, 112]               0\n",
            "         MaxPool2d-4           [-1, 64, 56, 56]               0\n",
            "            Conv2d-5           [-1, 64, 56, 56]           4,096\n",
            "       BatchNorm2d-6           [-1, 64, 56, 56]             128\n",
            "              ReLU-7           [-1, 64, 56, 56]               0\n",
            "            Conv2d-8           [-1, 64, 56, 56]          36,864\n",
            "       BatchNorm2d-9           [-1, 64, 56, 56]             128\n",
            "             ReLU-10           [-1, 64, 56, 56]               0\n",
            "           Conv2d-11          [-1, 256, 56, 56]          16,384\n",
            "      BatchNorm2d-12          [-1, 256, 56, 56]             512\n",
            "           Conv2d-13          [-1, 256, 56, 56]          16,384\n",
            "      BatchNorm2d-14          [-1, 256, 56, 56]             512\n",
            "             ReLU-15          [-1, 256, 56, 56]               0\n",
            "       Bottleneck-16          [-1, 256, 56, 56]               0\n",
            "           Conv2d-17           [-1, 64, 56, 56]          16,384\n",
            "      BatchNorm2d-18           [-1, 64, 56, 56]             128\n",
            "             ReLU-19           [-1, 64, 56, 56]               0\n",
            "           Conv2d-20           [-1, 64, 56, 56]          36,864\n",
            "      BatchNorm2d-21           [-1, 64, 56, 56]             128\n",
            "             ReLU-22           [-1, 64, 56, 56]               0\n",
            "           Conv2d-23          [-1, 256, 56, 56]          16,384\n",
            "      BatchNorm2d-24          [-1, 256, 56, 56]             512\n",
            "             ReLU-25          [-1, 256, 56, 56]               0\n",
            "       Bottleneck-26          [-1, 256, 56, 56]               0\n",
            "           Conv2d-27           [-1, 64, 56, 56]          16,384\n",
            "      BatchNorm2d-28           [-1, 64, 56, 56]             128\n",
            "             ReLU-29           [-1, 64, 56, 56]               0\n",
            "           Conv2d-30           [-1, 64, 56, 56]          36,864\n",
            "      BatchNorm2d-31           [-1, 64, 56, 56]             128\n",
            "             ReLU-32           [-1, 64, 56, 56]               0\n",
            "           Conv2d-33          [-1, 256, 56, 56]          16,384\n",
            "      BatchNorm2d-34          [-1, 256, 56, 56]             512\n",
            "             ReLU-35          [-1, 256, 56, 56]               0\n",
            "       Bottleneck-36          [-1, 256, 56, 56]               0\n",
            "           Conv2d-37          [-1, 128, 56, 56]          32,768\n",
            "      BatchNorm2d-38          [-1, 128, 56, 56]             256\n",
            "             ReLU-39          [-1, 128, 56, 56]               0\n",
            "           Conv2d-40          [-1, 128, 28, 28]         147,456\n",
            "      BatchNorm2d-41          [-1, 128, 28, 28]             256\n",
            "             ReLU-42          [-1, 128, 28, 28]               0\n",
            "           Conv2d-43          [-1, 512, 28, 28]          65,536\n",
            "      BatchNorm2d-44          [-1, 512, 28, 28]           1,024\n",
            "           Conv2d-45          [-1, 512, 28, 28]         131,072\n",
            "      BatchNorm2d-46          [-1, 512, 28, 28]           1,024\n",
            "             ReLU-47          [-1, 512, 28, 28]               0\n",
            "       Bottleneck-48          [-1, 512, 28, 28]               0\n",
            "           Conv2d-49          [-1, 128, 28, 28]          65,536\n",
            "      BatchNorm2d-50          [-1, 128, 28, 28]             256\n",
            "             ReLU-51          [-1, 128, 28, 28]               0\n",
            "           Conv2d-52          [-1, 128, 28, 28]         147,456\n",
            "      BatchNorm2d-53          [-1, 128, 28, 28]             256\n",
            "             ReLU-54          [-1, 128, 28, 28]               0\n",
            "           Conv2d-55          [-1, 512, 28, 28]          65,536\n",
            "      BatchNorm2d-56          [-1, 512, 28, 28]           1,024\n",
            "             ReLU-57          [-1, 512, 28, 28]               0\n",
            "       Bottleneck-58          [-1, 512, 28, 28]               0\n",
            "           Conv2d-59          [-1, 128, 28, 28]          65,536\n",
            "      BatchNorm2d-60          [-1, 128, 28, 28]             256\n",
            "             ReLU-61          [-1, 128, 28, 28]               0\n",
            "           Conv2d-62          [-1, 128, 28, 28]         147,456\n",
            "      BatchNorm2d-63          [-1, 128, 28, 28]             256\n",
            "             ReLU-64          [-1, 128, 28, 28]               0\n",
            "           Conv2d-65          [-1, 512, 28, 28]          65,536\n",
            "      BatchNorm2d-66          [-1, 512, 28, 28]           1,024\n",
            "             ReLU-67          [-1, 512, 28, 28]               0\n",
            "       Bottleneck-68          [-1, 512, 28, 28]               0\n",
            "           Conv2d-69          [-1, 128, 28, 28]          65,536\n",
            "      BatchNorm2d-70          [-1, 128, 28, 28]             256\n",
            "             ReLU-71          [-1, 128, 28, 28]               0\n",
            "           Conv2d-72          [-1, 128, 28, 28]         147,456\n",
            "      BatchNorm2d-73          [-1, 128, 28, 28]             256\n",
            "             ReLU-74          [-1, 128, 28, 28]               0\n",
            "           Conv2d-75          [-1, 512, 28, 28]          65,536\n",
            "      BatchNorm2d-76          [-1, 512, 28, 28]           1,024\n",
            "             ReLU-77          [-1, 512, 28, 28]               0\n",
            "       Bottleneck-78          [-1, 512, 28, 28]               0\n",
            "           Conv2d-79          [-1, 256, 28, 28]         131,072\n",
            "      BatchNorm2d-80          [-1, 256, 28, 28]             512\n",
            "             ReLU-81          [-1, 256, 28, 28]               0\n",
            "           Conv2d-82          [-1, 256, 14, 14]         589,824\n",
            "      BatchNorm2d-83          [-1, 256, 14, 14]             512\n",
            "             ReLU-84          [-1, 256, 14, 14]               0\n",
            "           Conv2d-85         [-1, 1024, 14, 14]         262,144\n",
            "      BatchNorm2d-86         [-1, 1024, 14, 14]           2,048\n",
            "           Conv2d-87         [-1, 1024, 14, 14]         524,288\n",
            "      BatchNorm2d-88         [-1, 1024, 14, 14]           2,048\n",
            "             ReLU-89         [-1, 1024, 14, 14]               0\n",
            "       Bottleneck-90         [-1, 1024, 14, 14]               0\n",
            "           Conv2d-91          [-1, 256, 14, 14]         262,144\n",
            "      BatchNorm2d-92          [-1, 256, 14, 14]             512\n",
            "             ReLU-93          [-1, 256, 14, 14]               0\n",
            "           Conv2d-94          [-1, 256, 14, 14]         589,824\n",
            "      BatchNorm2d-95          [-1, 256, 14, 14]             512\n",
            "             ReLU-96          [-1, 256, 14, 14]               0\n",
            "           Conv2d-97         [-1, 1024, 14, 14]         262,144\n",
            "      BatchNorm2d-98         [-1, 1024, 14, 14]           2,048\n",
            "             ReLU-99         [-1, 1024, 14, 14]               0\n",
            "      Bottleneck-100         [-1, 1024, 14, 14]               0\n",
            "          Conv2d-101          [-1, 256, 14, 14]         262,144\n",
            "     BatchNorm2d-102          [-1, 256, 14, 14]             512\n",
            "            ReLU-103          [-1, 256, 14, 14]               0\n",
            "          Conv2d-104          [-1, 256, 14, 14]         589,824\n",
            "     BatchNorm2d-105          [-1, 256, 14, 14]             512\n",
            "            ReLU-106          [-1, 256, 14, 14]               0\n",
            "          Conv2d-107         [-1, 1024, 14, 14]         262,144\n",
            "     BatchNorm2d-108         [-1, 1024, 14, 14]           2,048\n",
            "            ReLU-109         [-1, 1024, 14, 14]               0\n",
            "      Bottleneck-110         [-1, 1024, 14, 14]               0\n",
            "          Conv2d-111          [-1, 256, 14, 14]         262,144\n",
            "     BatchNorm2d-112          [-1, 256, 14, 14]             512\n",
            "            ReLU-113          [-1, 256, 14, 14]               0\n",
            "          Conv2d-114          [-1, 256, 14, 14]         589,824\n",
            "     BatchNorm2d-115          [-1, 256, 14, 14]             512\n",
            "            ReLU-116          [-1, 256, 14, 14]               0\n",
            "          Conv2d-117         [-1, 1024, 14, 14]         262,144\n",
            "     BatchNorm2d-118         [-1, 1024, 14, 14]           2,048\n",
            "            ReLU-119         [-1, 1024, 14, 14]               0\n",
            "      Bottleneck-120         [-1, 1024, 14, 14]               0\n",
            "          Conv2d-121          [-1, 256, 14, 14]         262,144\n",
            "     BatchNorm2d-122          [-1, 256, 14, 14]             512\n",
            "            ReLU-123          [-1, 256, 14, 14]               0\n",
            "          Conv2d-124          [-1, 256, 14, 14]         589,824\n",
            "     BatchNorm2d-125          [-1, 256, 14, 14]             512\n",
            "            ReLU-126          [-1, 256, 14, 14]               0\n",
            "          Conv2d-127         [-1, 1024, 14, 14]         262,144\n",
            "     BatchNorm2d-128         [-1, 1024, 14, 14]           2,048\n",
            "            ReLU-129         [-1, 1024, 14, 14]               0\n",
            "      Bottleneck-130         [-1, 1024, 14, 14]               0\n",
            "          Conv2d-131          [-1, 256, 14, 14]         262,144\n",
            "     BatchNorm2d-132          [-1, 256, 14, 14]             512\n",
            "            ReLU-133          [-1, 256, 14, 14]               0\n",
            "          Conv2d-134          [-1, 256, 14, 14]         589,824\n",
            "     BatchNorm2d-135          [-1, 256, 14, 14]             512\n",
            "            ReLU-136          [-1, 256, 14, 14]               0\n",
            "          Conv2d-137         [-1, 1024, 14, 14]         262,144\n",
            "     BatchNorm2d-138         [-1, 1024, 14, 14]           2,048\n",
            "            ReLU-139         [-1, 1024, 14, 14]               0\n",
            "      Bottleneck-140         [-1, 1024, 14, 14]               0\n",
            "          Conv2d-141          [-1, 512, 14, 14]         524,288\n",
            "     BatchNorm2d-142          [-1, 512, 14, 14]           1,024\n",
            "            ReLU-143          [-1, 512, 14, 14]               0\n",
            "          Conv2d-144            [-1, 512, 7, 7]       2,359,296\n",
            "     BatchNorm2d-145            [-1, 512, 7, 7]           1,024\n",
            "            ReLU-146            [-1, 512, 7, 7]               0\n",
            "          Conv2d-147           [-1, 2048, 7, 7]       1,048,576\n",
            "     BatchNorm2d-148           [-1, 2048, 7, 7]           4,096\n",
            "          Conv2d-149           [-1, 2048, 7, 7]       2,097,152\n",
            "     BatchNorm2d-150           [-1, 2048, 7, 7]           4,096\n",
            "            ReLU-151           [-1, 2048, 7, 7]               0\n",
            "      Bottleneck-152           [-1, 2048, 7, 7]               0\n",
            "          Conv2d-153            [-1, 512, 7, 7]       1,048,576\n",
            "     BatchNorm2d-154            [-1, 512, 7, 7]           1,024\n",
            "            ReLU-155            [-1, 512, 7, 7]               0\n",
            "          Conv2d-156            [-1, 512, 7, 7]       2,359,296\n",
            "     BatchNorm2d-157            [-1, 512, 7, 7]           1,024\n",
            "            ReLU-158            [-1, 512, 7, 7]               0\n",
            "          Conv2d-159           [-1, 2048, 7, 7]       1,048,576\n",
            "     BatchNorm2d-160           [-1, 2048, 7, 7]           4,096\n",
            "            ReLU-161           [-1, 2048, 7, 7]               0\n",
            "      Bottleneck-162           [-1, 2048, 7, 7]               0\n",
            "          Conv2d-163            [-1, 512, 7, 7]       1,048,576\n",
            "     BatchNorm2d-164            [-1, 512, 7, 7]           1,024\n",
            "            ReLU-165            [-1, 512, 7, 7]               0\n",
            "          Conv2d-166            [-1, 512, 7, 7]       2,359,296\n",
            "     BatchNorm2d-167            [-1, 512, 7, 7]           1,024\n",
            "            ReLU-168            [-1, 512, 7, 7]               0\n",
            "          Conv2d-169           [-1, 2048, 7, 7]       1,048,576\n",
            "     BatchNorm2d-170           [-1, 2048, 7, 7]           4,096\n",
            "            ReLU-171           [-1, 2048, 7, 7]               0\n",
            "      Bottleneck-172           [-1, 2048, 7, 7]               0\n",
            "AdaptiveAvgPool2d-173           [-1, 2048, 1, 1]               0\n",
            "          Linear-174                 [-1, 1000]       2,049,000\n",
            "================================================================\n",
            "Total params: 25,557,032\n",
            "Trainable params: 25,557,032\n",
            "Non-trainable params: 0\n",
            "----------------------------------------------------------------\n",
            "Input size (MB): 0.57\n",
            "Forward/backward pass size (MB): 286.56\n",
            "Params size (MB): 97.49\n",
            "Estimated Total Size (MB): 384.62\n",
            "----------------------------------------------------------------\n"
          ]
        }
      ],
      "source": [
        "resnet = models.resnet50(pretrained=True)\n",
        "summary(resnet.to(device), input_size=(3, 224, 224))"
      ]
    },
    {
      "cell_type": "code",
      "execution_count": null,
      "metadata": {
        "id": "d5_bsj648zDf"
      },
      "outputs": [],
      "source": []
    },
    {
      "cell_type": "code",
      "execution_count": null,
      "metadata": {
        "id": "smvNLqR05lLa"
      },
      "outputs": [],
      "source": [
        "for param in resnet.parameters():\n",
        "    param.requires_grad = False"
      ]
    },
    {
      "cell_type": "code",
      "execution_count": null,
      "metadata": {
        "colab": {
          "base_uri": "https://localhost:8080/"
        },
        "id": "Xznntyk55oOs",
        "outputId": "69500ae6-a8d4-444a-ea2b-678967c32e98"
      },
      "outputs": [
        {
          "data": {
            "text/plain": [
              "ResNet(\n",
              "  (conv1): Conv2d(3, 64, kernel_size=(7, 7), stride=(2, 2), padding=(3, 3), bias=False)\n",
              "  (bn1): BatchNorm2d(64, eps=1e-05, momentum=0.1, affine=True, track_running_stats=True)\n",
              "  (relu): ReLU(inplace=True)\n",
              "  (maxpool): MaxPool2d(kernel_size=3, stride=2, padding=1, dilation=1, ceil_mode=False)\n",
              "  (layer1): Sequential(\n",
              "    (0): Bottleneck(\n",
              "      (conv1): Conv2d(64, 64, kernel_size=(1, 1), stride=(1, 1), bias=False)\n",
              "      (bn1): BatchNorm2d(64, eps=1e-05, momentum=0.1, affine=True, track_running_stats=True)\n",
              "      (conv2): Conv2d(64, 64, kernel_size=(3, 3), stride=(1, 1), padding=(1, 1), bias=False)\n",
              "      (bn2): BatchNorm2d(64, eps=1e-05, momentum=0.1, affine=True, track_running_stats=True)\n",
              "      (conv3): Conv2d(64, 256, kernel_size=(1, 1), stride=(1, 1), bias=False)\n",
              "      (bn3): BatchNorm2d(256, eps=1e-05, momentum=0.1, affine=True, track_running_stats=True)\n",
              "      (relu): ReLU(inplace=True)\n",
              "      (downsample): Sequential(\n",
              "        (0): Conv2d(64, 256, kernel_size=(1, 1), stride=(1, 1), bias=False)\n",
              "        (1): BatchNorm2d(256, eps=1e-05, momentum=0.1, affine=True, track_running_stats=True)\n",
              "      )\n",
              "    )\n",
              "    (1): Bottleneck(\n",
              "      (conv1): Conv2d(256, 64, kernel_size=(1, 1), stride=(1, 1), bias=False)\n",
              "      (bn1): BatchNorm2d(64, eps=1e-05, momentum=0.1, affine=True, track_running_stats=True)\n",
              "      (conv2): Conv2d(64, 64, kernel_size=(3, 3), stride=(1, 1), padding=(1, 1), bias=False)\n",
              "      (bn2): BatchNorm2d(64, eps=1e-05, momentum=0.1, affine=True, track_running_stats=True)\n",
              "      (conv3): Conv2d(64, 256, kernel_size=(1, 1), stride=(1, 1), bias=False)\n",
              "      (bn3): BatchNorm2d(256, eps=1e-05, momentum=0.1, affine=True, track_running_stats=True)\n",
              "      (relu): ReLU(inplace=True)\n",
              "    )\n",
              "    (2): Bottleneck(\n",
              "      (conv1): Conv2d(256, 64, kernel_size=(1, 1), stride=(1, 1), bias=False)\n",
              "      (bn1): BatchNorm2d(64, eps=1e-05, momentum=0.1, affine=True, track_running_stats=True)\n",
              "      (conv2): Conv2d(64, 64, kernel_size=(3, 3), stride=(1, 1), padding=(1, 1), bias=False)\n",
              "      (bn2): BatchNorm2d(64, eps=1e-05, momentum=0.1, affine=True, track_running_stats=True)\n",
              "      (conv3): Conv2d(64, 256, kernel_size=(1, 1), stride=(1, 1), bias=False)\n",
              "      (bn3): BatchNorm2d(256, eps=1e-05, momentum=0.1, affine=True, track_running_stats=True)\n",
              "      (relu): ReLU(inplace=True)\n",
              "    )\n",
              "  )\n",
              "  (layer2): Sequential(\n",
              "    (0): Bottleneck(\n",
              "      (conv1): Conv2d(256, 128, kernel_size=(1, 1), stride=(1, 1), bias=False)\n",
              "      (bn1): BatchNorm2d(128, eps=1e-05, momentum=0.1, affine=True, track_running_stats=True)\n",
              "      (conv2): Conv2d(128, 128, kernel_size=(3, 3), stride=(2, 2), padding=(1, 1), bias=False)\n",
              "      (bn2): BatchNorm2d(128, eps=1e-05, momentum=0.1, affine=True, track_running_stats=True)\n",
              "      (conv3): Conv2d(128, 512, kernel_size=(1, 1), stride=(1, 1), bias=False)\n",
              "      (bn3): BatchNorm2d(512, eps=1e-05, momentum=0.1, affine=True, track_running_stats=True)\n",
              "      (relu): ReLU(inplace=True)\n",
              "      (downsample): Sequential(\n",
              "        (0): Conv2d(256, 512, kernel_size=(1, 1), stride=(2, 2), bias=False)\n",
              "        (1): BatchNorm2d(512, eps=1e-05, momentum=0.1, affine=True, track_running_stats=True)\n",
              "      )\n",
              "    )\n",
              "    (1): Bottleneck(\n",
              "      (conv1): Conv2d(512, 128, kernel_size=(1, 1), stride=(1, 1), bias=False)\n",
              "      (bn1): BatchNorm2d(128, eps=1e-05, momentum=0.1, affine=True, track_running_stats=True)\n",
              "      (conv2): Conv2d(128, 128, kernel_size=(3, 3), stride=(1, 1), padding=(1, 1), bias=False)\n",
              "      (bn2): BatchNorm2d(128, eps=1e-05, momentum=0.1, affine=True, track_running_stats=True)\n",
              "      (conv3): Conv2d(128, 512, kernel_size=(1, 1), stride=(1, 1), bias=False)\n",
              "      (bn3): BatchNorm2d(512, eps=1e-05, momentum=0.1, affine=True, track_running_stats=True)\n",
              "      (relu): ReLU(inplace=True)\n",
              "    )\n",
              "    (2): Bottleneck(\n",
              "      (conv1): Conv2d(512, 128, kernel_size=(1, 1), stride=(1, 1), bias=False)\n",
              "      (bn1): BatchNorm2d(128, eps=1e-05, momentum=0.1, affine=True, track_running_stats=True)\n",
              "      (conv2): Conv2d(128, 128, kernel_size=(3, 3), stride=(1, 1), padding=(1, 1), bias=False)\n",
              "      (bn2): BatchNorm2d(128, eps=1e-05, momentum=0.1, affine=True, track_running_stats=True)\n",
              "      (conv3): Conv2d(128, 512, kernel_size=(1, 1), stride=(1, 1), bias=False)\n",
              "      (bn3): BatchNorm2d(512, eps=1e-05, momentum=0.1, affine=True, track_running_stats=True)\n",
              "      (relu): ReLU(inplace=True)\n",
              "    )\n",
              "    (3): Bottleneck(\n",
              "      (conv1): Conv2d(512, 128, kernel_size=(1, 1), stride=(1, 1), bias=False)\n",
              "      (bn1): BatchNorm2d(128, eps=1e-05, momentum=0.1, affine=True, track_running_stats=True)\n",
              "      (conv2): Conv2d(128, 128, kernel_size=(3, 3), stride=(1, 1), padding=(1, 1), bias=False)\n",
              "      (bn2): BatchNorm2d(128, eps=1e-05, momentum=0.1, affine=True, track_running_stats=True)\n",
              "      (conv3): Conv2d(128, 512, kernel_size=(1, 1), stride=(1, 1), bias=False)\n",
              "      (bn3): BatchNorm2d(512, eps=1e-05, momentum=0.1, affine=True, track_running_stats=True)\n",
              "      (relu): ReLU(inplace=True)\n",
              "    )\n",
              "  )\n",
              "  (layer3): Sequential(\n",
              "    (0): Bottleneck(\n",
              "      (conv1): Conv2d(512, 256, kernel_size=(1, 1), stride=(1, 1), bias=False)\n",
              "      (bn1): BatchNorm2d(256, eps=1e-05, momentum=0.1, affine=True, track_running_stats=True)\n",
              "      (conv2): Conv2d(256, 256, kernel_size=(3, 3), stride=(2, 2), padding=(1, 1), bias=False)\n",
              "      (bn2): BatchNorm2d(256, eps=1e-05, momentum=0.1, affine=True, track_running_stats=True)\n",
              "      (conv3): Conv2d(256, 1024, kernel_size=(1, 1), stride=(1, 1), bias=False)\n",
              "      (bn3): BatchNorm2d(1024, eps=1e-05, momentum=0.1, affine=True, track_running_stats=True)\n",
              "      (relu): ReLU(inplace=True)\n",
              "      (downsample): Sequential(\n",
              "        (0): Conv2d(512, 1024, kernel_size=(1, 1), stride=(2, 2), bias=False)\n",
              "        (1): BatchNorm2d(1024, eps=1e-05, momentum=0.1, affine=True, track_running_stats=True)\n",
              "      )\n",
              "    )\n",
              "    (1): Bottleneck(\n",
              "      (conv1): Conv2d(1024, 256, kernel_size=(1, 1), stride=(1, 1), bias=False)\n",
              "      (bn1): BatchNorm2d(256, eps=1e-05, momentum=0.1, affine=True, track_running_stats=True)\n",
              "      (conv2): Conv2d(256, 256, kernel_size=(3, 3), stride=(1, 1), padding=(1, 1), bias=False)\n",
              "      (bn2): BatchNorm2d(256, eps=1e-05, momentum=0.1, affine=True, track_running_stats=True)\n",
              "      (conv3): Conv2d(256, 1024, kernel_size=(1, 1), stride=(1, 1), bias=False)\n",
              "      (bn3): BatchNorm2d(1024, eps=1e-05, momentum=0.1, affine=True, track_running_stats=True)\n",
              "      (relu): ReLU(inplace=True)\n",
              "    )\n",
              "    (2): Bottleneck(\n",
              "      (conv1): Conv2d(1024, 256, kernel_size=(1, 1), stride=(1, 1), bias=False)\n",
              "      (bn1): BatchNorm2d(256, eps=1e-05, momentum=0.1, affine=True, track_running_stats=True)\n",
              "      (conv2): Conv2d(256, 256, kernel_size=(3, 3), stride=(1, 1), padding=(1, 1), bias=False)\n",
              "      (bn2): BatchNorm2d(256, eps=1e-05, momentum=0.1, affine=True, track_running_stats=True)\n",
              "      (conv3): Conv2d(256, 1024, kernel_size=(1, 1), stride=(1, 1), bias=False)\n",
              "      (bn3): BatchNorm2d(1024, eps=1e-05, momentum=0.1, affine=True, track_running_stats=True)\n",
              "      (relu): ReLU(inplace=True)\n",
              "    )\n",
              "    (3): Bottleneck(\n",
              "      (conv1): Conv2d(1024, 256, kernel_size=(1, 1), stride=(1, 1), bias=False)\n",
              "      (bn1): BatchNorm2d(256, eps=1e-05, momentum=0.1, affine=True, track_running_stats=True)\n",
              "      (conv2): Conv2d(256, 256, kernel_size=(3, 3), stride=(1, 1), padding=(1, 1), bias=False)\n",
              "      (bn2): BatchNorm2d(256, eps=1e-05, momentum=0.1, affine=True, track_running_stats=True)\n",
              "      (conv3): Conv2d(256, 1024, kernel_size=(1, 1), stride=(1, 1), bias=False)\n",
              "      (bn3): BatchNorm2d(1024, eps=1e-05, momentum=0.1, affine=True, track_running_stats=True)\n",
              "      (relu): ReLU(inplace=True)\n",
              "    )\n",
              "    (4): Bottleneck(\n",
              "      (conv1): Conv2d(1024, 256, kernel_size=(1, 1), stride=(1, 1), bias=False)\n",
              "      (bn1): BatchNorm2d(256, eps=1e-05, momentum=0.1, affine=True, track_running_stats=True)\n",
              "      (conv2): Conv2d(256, 256, kernel_size=(3, 3), stride=(1, 1), padding=(1, 1), bias=False)\n",
              "      (bn2): BatchNorm2d(256, eps=1e-05, momentum=0.1, affine=True, track_running_stats=True)\n",
              "      (conv3): Conv2d(256, 1024, kernel_size=(1, 1), stride=(1, 1), bias=False)\n",
              "      (bn3): BatchNorm2d(1024, eps=1e-05, momentum=0.1, affine=True, track_running_stats=True)\n",
              "      (relu): ReLU(inplace=True)\n",
              "    )\n",
              "    (5): Bottleneck(\n",
              "      (conv1): Conv2d(1024, 256, kernel_size=(1, 1), stride=(1, 1), bias=False)\n",
              "      (bn1): BatchNorm2d(256, eps=1e-05, momentum=0.1, affine=True, track_running_stats=True)\n",
              "      (conv2): Conv2d(256, 256, kernel_size=(3, 3), stride=(1, 1), padding=(1, 1), bias=False)\n",
              "      (bn2): BatchNorm2d(256, eps=1e-05, momentum=0.1, affine=True, track_running_stats=True)\n",
              "      (conv3): Conv2d(256, 1024, kernel_size=(1, 1), stride=(1, 1), bias=False)\n",
              "      (bn3): BatchNorm2d(1024, eps=1e-05, momentum=0.1, affine=True, track_running_stats=True)\n",
              "      (relu): ReLU(inplace=True)\n",
              "    )\n",
              "  )\n",
              "  (layer4): Sequential(\n",
              "    (0): Bottleneck(\n",
              "      (conv1): Conv2d(1024, 512, kernel_size=(1, 1), stride=(1, 1), bias=False)\n",
              "      (bn1): BatchNorm2d(512, eps=1e-05, momentum=0.1, affine=True, track_running_stats=True)\n",
              "      (conv2): Conv2d(512, 512, kernel_size=(3, 3), stride=(2, 2), padding=(1, 1), bias=False)\n",
              "      (bn2): BatchNorm2d(512, eps=1e-05, momentum=0.1, affine=True, track_running_stats=True)\n",
              "      (conv3): Conv2d(512, 2048, kernel_size=(1, 1), stride=(1, 1), bias=False)\n",
              "      (bn3): BatchNorm2d(2048, eps=1e-05, momentum=0.1, affine=True, track_running_stats=True)\n",
              "      (relu): ReLU(inplace=True)\n",
              "      (downsample): Sequential(\n",
              "        (0): Conv2d(1024, 2048, kernel_size=(1, 1), stride=(2, 2), bias=False)\n",
              "        (1): BatchNorm2d(2048, eps=1e-05, momentum=0.1, affine=True, track_running_stats=True)\n",
              "      )\n",
              "    )\n",
              "    (1): Bottleneck(\n",
              "      (conv1): Conv2d(2048, 512, kernel_size=(1, 1), stride=(1, 1), bias=False)\n",
              "      (bn1): BatchNorm2d(512, eps=1e-05, momentum=0.1, affine=True, track_running_stats=True)\n",
              "      (conv2): Conv2d(512, 512, kernel_size=(3, 3), stride=(1, 1), padding=(1, 1), bias=False)\n",
              "      (bn2): BatchNorm2d(512, eps=1e-05, momentum=0.1, affine=True, track_running_stats=True)\n",
              "      (conv3): Conv2d(512, 2048, kernel_size=(1, 1), stride=(1, 1), bias=False)\n",
              "      (bn3): BatchNorm2d(2048, eps=1e-05, momentum=0.1, affine=True, track_running_stats=True)\n",
              "      (relu): ReLU(inplace=True)\n",
              "    )\n",
              "    (2): Bottleneck(\n",
              "      (conv1): Conv2d(2048, 512, kernel_size=(1, 1), stride=(1, 1), bias=False)\n",
              "      (bn1): BatchNorm2d(512, eps=1e-05, momentum=0.1, affine=True, track_running_stats=True)\n",
              "      (conv2): Conv2d(512, 512, kernel_size=(3, 3), stride=(1, 1), padding=(1, 1), bias=False)\n",
              "      (bn2): BatchNorm2d(512, eps=1e-05, momentum=0.1, affine=True, track_running_stats=True)\n",
              "      (conv3): Conv2d(512, 2048, kernel_size=(1, 1), stride=(1, 1), bias=False)\n",
              "      (bn3): BatchNorm2d(2048, eps=1e-05, momentum=0.1, affine=True, track_running_stats=True)\n",
              "      (relu): ReLU(inplace=True)\n",
              "    )\n",
              "  )\n",
              "  (avgpool): AdaptiveAvgPool2d(output_size=(1, 1))\n",
              "  (fc): Linear(in_features=2048, out_features=26, bias=True)\n",
              ")"
            ]
          },
          "execution_count": 20,
          "metadata": {},
          "output_type": "execute_result"
        }
      ],
      "source": [
        "#modifier la derniere couche pleinement connectée pour\n",
        "#l'adapter à notre problème de classification sur 26 classes\n",
        "in_features = resnet.fc.in_features\n",
        "fc = nn.Linear(in_features=in_features, out_features=26)\n",
        "resnet.fc = fc\n",
        "resnet\n",
        "\n"
      ]
    },
    {
      "cell_type": "markdown",
      "metadata": {
        "id": "JrkqsrVz1pNz"
      },
      "source": [
        "## IV.3 - Evaluation du modèle"
      ]
    },
    {
      "cell_type": "code",
      "execution_count": null,
      "metadata": {
        "colab": {
          "base_uri": "https://localhost:8080/"
        },
        "id": "LF87bCHH53jc",
        "outputId": "b4d28b28-af7a-4b53-ca9b-d92472926a0d"
      },
      "outputs": [
        {
          "name": "stdout",
          "output_type": "stream",
          "text": [
            "conv1.weight\n",
            "bn1.weight\n",
            "bn1.bias\n",
            "layer1.0.conv1.weight\n",
            "layer1.0.bn1.weight\n",
            "layer1.0.bn1.bias\n",
            "layer1.0.conv2.weight\n",
            "layer1.0.bn2.weight\n",
            "layer1.0.bn2.bias\n",
            "layer1.0.conv3.weight\n",
            "layer1.0.bn3.weight\n",
            "layer1.0.bn3.bias\n",
            "layer1.0.downsample.0.weight\n",
            "layer1.0.downsample.1.weight\n",
            "layer1.0.downsample.1.bias\n",
            "layer1.1.conv1.weight\n",
            "layer1.1.bn1.weight\n",
            "layer1.1.bn1.bias\n",
            "layer1.1.conv2.weight\n",
            "layer1.1.bn2.weight\n",
            "layer1.1.bn2.bias\n",
            "layer1.1.conv3.weight\n",
            "layer1.1.bn3.weight\n",
            "layer1.1.bn3.bias\n",
            "layer1.2.conv1.weight\n",
            "layer1.2.bn1.weight\n",
            "layer1.2.bn1.bias\n",
            "layer1.2.conv2.weight\n",
            "layer1.2.bn2.weight\n",
            "layer1.2.bn2.bias\n",
            "layer1.2.conv3.weight\n",
            "layer1.2.bn3.weight\n",
            "layer1.2.bn3.bias\n",
            "layer2.0.conv1.weight\n",
            "layer2.0.bn1.weight\n",
            "layer2.0.bn1.bias\n",
            "layer2.0.conv2.weight\n",
            "layer2.0.bn2.weight\n",
            "layer2.0.bn2.bias\n",
            "layer2.0.conv3.weight\n",
            "layer2.0.bn3.weight\n",
            "layer2.0.bn3.bias\n",
            "layer2.0.downsample.0.weight\n",
            "layer2.0.downsample.1.weight\n",
            "layer2.0.downsample.1.bias\n",
            "layer2.1.conv1.weight\n",
            "layer2.1.bn1.weight\n",
            "layer2.1.bn1.bias\n",
            "layer2.1.conv2.weight\n",
            "layer2.1.bn2.weight\n",
            "layer2.1.bn2.bias\n",
            "layer2.1.conv3.weight\n",
            "layer2.1.bn3.weight\n",
            "layer2.1.bn3.bias\n",
            "layer2.2.conv1.weight\n",
            "layer2.2.bn1.weight\n",
            "layer2.2.bn1.bias\n",
            "layer2.2.conv2.weight\n",
            "layer2.2.bn2.weight\n",
            "layer2.2.bn2.bias\n",
            "layer2.2.conv3.weight\n",
            "layer2.2.bn3.weight\n",
            "layer2.2.bn3.bias\n",
            "layer2.3.conv1.weight\n",
            "layer2.3.bn1.weight\n",
            "layer2.3.bn1.bias\n",
            "layer2.3.conv2.weight\n",
            "layer2.3.bn2.weight\n",
            "layer2.3.bn2.bias\n",
            "layer2.3.conv3.weight\n",
            "layer2.3.bn3.weight\n",
            "layer2.3.bn3.bias\n",
            "layer3.0.conv1.weight\n",
            "layer3.0.bn1.weight\n",
            "layer3.0.bn1.bias\n",
            "layer3.0.conv2.weight\n",
            "layer3.0.bn2.weight\n",
            "layer3.0.bn2.bias\n",
            "layer3.0.conv3.weight\n",
            "layer3.0.bn3.weight\n",
            "layer3.0.bn3.bias\n",
            "layer3.0.downsample.0.weight\n",
            "layer3.0.downsample.1.weight\n",
            "layer3.0.downsample.1.bias\n",
            "layer3.1.conv1.weight\n",
            "layer3.1.bn1.weight\n",
            "layer3.1.bn1.bias\n",
            "layer3.1.conv2.weight\n",
            "layer3.1.bn2.weight\n",
            "layer3.1.bn2.bias\n",
            "layer3.1.conv3.weight\n",
            "layer3.1.bn3.weight\n",
            "layer3.1.bn3.bias\n",
            "layer3.2.conv1.weight\n",
            "layer3.2.bn1.weight\n",
            "layer3.2.bn1.bias\n",
            "layer3.2.conv2.weight\n",
            "layer3.2.bn2.weight\n",
            "layer3.2.bn2.bias\n",
            "layer3.2.conv3.weight\n",
            "layer3.2.bn3.weight\n",
            "layer3.2.bn3.bias\n",
            "layer3.3.conv1.weight\n",
            "layer3.3.bn1.weight\n",
            "layer3.3.bn1.bias\n",
            "layer3.3.conv2.weight\n",
            "layer3.3.bn2.weight\n",
            "layer3.3.bn2.bias\n",
            "layer3.3.conv3.weight\n",
            "layer3.3.bn3.weight\n",
            "layer3.3.bn3.bias\n",
            "layer3.4.conv1.weight\n",
            "layer3.4.bn1.weight\n",
            "layer3.4.bn1.bias\n",
            "layer3.4.conv2.weight\n",
            "layer3.4.bn2.weight\n",
            "layer3.4.bn2.bias\n",
            "layer3.4.conv3.weight\n",
            "layer3.4.bn3.weight\n",
            "layer3.4.bn3.bias\n",
            "layer3.5.conv1.weight\n",
            "layer3.5.bn1.weight\n",
            "layer3.5.bn1.bias\n",
            "layer3.5.conv2.weight\n",
            "layer3.5.bn2.weight\n",
            "layer3.5.bn2.bias\n",
            "layer3.5.conv3.weight\n",
            "layer3.5.bn3.weight\n",
            "layer3.5.bn3.bias\n",
            "layer4.0.conv1.weight\n",
            "layer4.0.bn1.weight\n",
            "layer4.0.bn1.bias\n",
            "layer4.0.conv2.weight\n",
            "layer4.0.bn2.weight\n",
            "layer4.0.bn2.bias\n",
            "layer4.0.conv3.weight\n",
            "layer4.0.bn3.weight\n",
            "layer4.0.bn3.bias\n",
            "layer4.0.downsample.0.weight\n",
            "layer4.0.downsample.1.weight\n",
            "layer4.0.downsample.1.bias\n",
            "layer4.1.conv1.weight\n",
            "layer4.1.bn1.weight\n",
            "layer4.1.bn1.bias\n",
            "layer4.1.conv2.weight\n",
            "layer4.1.bn2.weight\n",
            "layer4.1.bn2.bias\n",
            "layer4.1.conv3.weight\n",
            "layer4.1.bn3.weight\n",
            "layer4.1.bn3.bias\n",
            "layer4.2.conv1.weight\n",
            "layer4.2.bn1.weight\n",
            "layer4.2.bn1.bias\n",
            "layer4.2.conv2.weight\n",
            "layer4.2.bn2.weight\n",
            "layer4.2.bn2.bias\n",
            "layer4.2.conv3.weight\n",
            "layer4.2.bn3.weight\n",
            "layer4.2.bn3.bias\n",
            "fc.weight\n",
            "fc.bias\n",
            "[Parameter containing:\n",
            "tensor([[ 0.0197, -0.0217, -0.0175,  ..., -0.0160, -0.0094, -0.0178],\n",
            "        [-0.0115,  0.0032, -0.0021,  ...,  0.0208, -0.0070, -0.0121],\n",
            "        [ 0.0105,  0.0166,  0.0129,  ...,  0.0058,  0.0081, -0.0180],\n",
            "        ...,\n",
            "        [ 0.0096, -0.0204,  0.0164,  ...,  0.0041,  0.0038, -0.0137],\n",
            "        [-0.0048,  0.0034,  0.0207,  ..., -0.0037,  0.0073,  0.0037],\n",
            "        [ 0.0097, -0.0145,  0.0062,  ...,  0.0220,  0.0180, -0.0052]],\n",
            "       requires_grad=True), Parameter containing:\n",
            "tensor([ 0.0098,  0.0141,  0.0187,  0.0032, -0.0155,  0.0025, -0.0088, -0.0162,\n",
            "         0.0202,  0.0143, -0.0058, -0.0149,  0.0014,  0.0100,  0.0085,  0.0207,\n",
            "        -0.0122, -0.0090, -0.0149,  0.0152,  0.0116, -0.0219,  0.0160, -0.0169,\n",
            "        -0.0134, -0.0190], requires_grad=True)]\n"
          ]
        }
      ],
      "source": [
        "params_to_update = []\n",
        "for name, param in resnet.named_parameters():\n",
        "    print(name)\n",
        "    if param.requires_grad == True:\n",
        "        params_to_update.append(param)\n",
        "\n",
        "print(params_to_update)\n",
        "criterion = nn.CrossEntropyLoss()\n",
        "optimizer = torch.optim.Adam(params_to_update, lr=0.001)"
      ]
    },
    {
      "cell_type": "code",
      "execution_count": null,
      "metadata": {
        "colab": {
          "base_uri": "https://localhost:8080/",
          "height": 35
        },
        "id": "Akc4DrkM5-Cj",
        "outputId": "357a444f-2403-4c5c-948f-894b59535554"
      },
      "outputs": [
        {
          "data": {
            "application/vnd.google.colaboratory.intrinsic+json": {
              "type": "string"
            },
            "text/plain": [
              "'cuda'"
            ]
          },
          "execution_count": 23,
          "metadata": {},
          "output_type": "execute_result"
        }
      ],
      "source": [
        "device = 'cuda' if torch.cuda.is_available() else 'cpu'\n",
        "device"
      ]
    },
    {
      "cell_type": "markdown",
      "metadata": {
        "id": "MoEK1-lidxh0"
      },
      "source": [
        "Boucle d'entrainement du modèle resnet50 modifié en utilisant les données d'entrée des images ASL"
      ]
    },
    {
      "cell_type": "code",
      "execution_count": null,
      "metadata": {
        "id": "RGJKiW2A6EvJ"
      },
      "outputs": [],
      "source": [
        "from time import time\n",
        "from tqdm import tqdm\n",
        "\n",
        "\n",
        "def train(model,\n",
        "          criterion,\n",
        "          optimizer,\n",
        "          train_dataloader,\n",
        "          test_dataloader,\n",
        "          print_every,\n",
        "          num_epoch):\n",
        "    steps = 0\n",
        "    train_losses, val_losses = [], []\n",
        "\n",
        "    model.to(device)\n",
        "    for epoch in tqdm(range(num_epoch)):\n",
        "        running_loss = 0\n",
        "        correct_train = 0\n",
        "        total_train = 0\n",
        "        start_time = time()\n",
        "        iter_time = time()\n",
        "\n",
        "        model.train()\n",
        "        for i, (images, labels) in enumerate(train_dataloader):\n",
        "            steps += 1\n",
        "            images = images.to(device)\n",
        "            labels.type(torch.LongTensor)\n",
        "\n",
        "            labels = labels.to(device)\n",
        "\n",
        "            # Forward pass\n",
        "            output = model(images)\n",
        "            loss = criterion(output, labels)\n",
        "\n",
        "            correct_train += (torch.max(output, dim=1)[1] == labels).sum()\n",
        "            total_train += labels.size(0)\n",
        "\n",
        "            # Backward and optimize\n",
        "            optimizer.zero_grad()\n",
        "            loss.backward()\n",
        "            optimizer.step()\n",
        "\n",
        "            running_loss += loss.item()\n",
        "\n",
        "            # Logging\n",
        "            if steps % print_every == 0:\n",
        "                print(f'Epoch [{epoch + 1}]/[{num_epoch}]. Batch [{i + 1}]/[{len(train_dataloader)}].', end=' ')\n",
        "                print(f'Train loss {running_loss / steps:.3f}.', end=' ')\n",
        "                print(f'Train acc {correct_train / total_train * 100:.3f}.', end=' ')\n",
        "                with torch.no_grad():\n",
        "                    model.eval()\n",
        "                    correct_val, total_val = 0, 0\n",
        "                    val_loss = 0\n",
        "                    for images, labels in test_dataloader:\n",
        "                        images = images.to(device)\n",
        "                        labels.type(torch.LongTensor)\n",
        "                        labels = labels.to(device)\n",
        "                        output = model(images)\n",
        "                        loss = criterion(output, labels)\n",
        "                        val_loss += loss.item()\n",
        "\n",
        "                        correct_val += (torch.max(output, dim=1)[1] == labels).sum()\n",
        "                        total_val += labels.size(0)\n",
        "\n",
        "                print(f'Val loss {val_loss / len(test_dataloader):.3f}. Val acc {correct_val / total_val * 100:.3f}.', end=' ')\n",
        "                print(f'Took {time() - iter_time:.3f} seconds')\n",
        "                iter_time = time()\n",
        "\n",
        "                train_losses.append(running_loss / total_train)\n",
        "                val_losses.append(val_loss / total_val)\n",
        "\n",
        "\n",
        "        print(f'Epoch took {time() - start_time}')\n",
        "        torch.save(model, f'checkpoint_{correct_val / total_val * 100:.2f}')\n",
        "\n",
        "\n",
        "\n",
        "    return model, train_losses, val_losses\n",
        "\n"
      ]
    },
    {
      "cell_type": "code",
      "execution_count": null,
      "metadata": {
        "colab": {
          "base_uri": "https://localhost:8080/"
        },
        "id": "QzJpdvMY6Sg0",
        "outputId": "5e937c84-1726-4637-a118-755a5247b241"
      },
      "outputs": [
        {
          "name": "stderr",
          "output_type": "stream",
          "text": [
            "\r  0%|          | 0/5 [00:00<?, ?it/s]"
          ]
        },
        {
          "name": "stdout",
          "output_type": "stream",
          "text": [
            "Epoch [1]/[5]. Batch [50]/[687]. Train loss 2.781. Train acc 22.125. Val loss 2.115. Val acc 47.423. Took 28.310 seconds\n",
            "Epoch [1]/[5]. Batch [100]/[687]. Train loss 2.285. Train acc 39.938. Val loss 1.443. Val acc 71.135. Took 19.993 seconds\n",
            "Epoch [1]/[5]. Batch [150]/[687]. Train loss 1.953. Train acc 50.438. Val loss 1.136. Val acc 74.158. Took 19.920 seconds\n",
            "Epoch [1]/[5]. Batch [200]/[687]. Train loss 1.720. Train acc 57.562. Val loss 0.993. Val acc 76.143. Took 20.205 seconds\n",
            "Epoch [1]/[5]. Batch [250]/[687]. Train loss 1.549. Train acc 62.025. Val loss 0.865. Val acc 79.257. Took 20.601 seconds\n",
            "Epoch [1]/[5]. Batch [300]/[687]. Train loss 1.416. Train acc 65.510. Val loss 0.750. Val acc 82.772. Took 21.092 seconds\n",
            "Epoch [1]/[5]. Batch [350]/[687]. Train loss 1.310. Train acc 68.286. Val loss 0.616. Val acc 86.997. Took 21.561 seconds\n",
            "Epoch [1]/[5]. Batch [400]/[687]. Train loss 1.221. Train acc 70.586. Val loss 0.578. Val acc 88.345. Took 21.002 seconds\n",
            "Epoch [1]/[5]. Batch [450]/[687]. Train loss 1.144. Train acc 72.764. Val loss 0.541. Val acc 88.600. Took 20.890 seconds\n",
            "Epoch [1]/[5]. Batch [500]/[687]. Train loss 1.080. Train acc 74.412. Val loss 0.497. Val acc 88.836. Took 20.948 seconds\n",
            "Epoch [1]/[5]. Batch [550]/[687]. Train loss 1.021. Train acc 75.915. Val loss 0.434. Val acc 91.441. Took 21.022 seconds\n",
            "Epoch [1]/[5]. Batch [600]/[687]. Train loss 0.973. Train acc 77.130. Val loss 0.405. Val acc 91.932. Took 21.021 seconds\n",
            "Epoch [1]/[5]. Batch [650]/[687]. Train loss 0.929. Train acc 78.221. Val loss 0.383. Val acc 92.497. Took 21.018 seconds\n",
            "Epoch took 281.08183431625366\n"
          ]
        },
        {
          "name": "stderr",
          "output_type": "stream",
          "text": [
            "\r 20%|██        | 1/5 [04:41<18:46, 281.54s/it]"
          ]
        },
        {
          "name": "stdout",
          "output_type": "stream",
          "text": [
            "Epoch [2]/[5]. Batch [13]/[687]. Train loss 0.008. Train acc 90.625. Val loss 0.360. Val acc 93.098. Took 17.636 seconds\n",
            "Epoch [2]/[5]. Batch [63]/[687]. Train loss 0.027. Train acc 94.296. Val loss 0.359. Val acc 92.005. Took 20.995 seconds\n",
            "Epoch [2]/[5]. Batch [113]/[687]. Train loss 0.044. Train acc 94.248. Val loss 0.331. Val acc 93.134. Took 20.995 seconds\n",
            "Epoch [2]/[5]. Batch [163]/[687]. Train loss 0.060. Train acc 93.865. Val loss 0.313. Val acc 93.389. Took 21.010 seconds\n",
            "Epoch [2]/[5]. Batch [213]/[687]. Train loss 0.074. Train acc 94.058. Val loss 0.299. Val acc 93.626. Took 21.049 seconds\n",
            "Epoch [2]/[5]. Batch [263]/[687]. Train loss 0.084. Train acc 94.237. Val loss 0.295. Val acc 94.245. Took 21.006 seconds\n",
            "Epoch [2]/[5]. Batch [313]/[687]. Train loss 0.093. Train acc 94.449. Val loss 0.281. Val acc 94.500. Took 21.029 seconds\n",
            "Epoch [2]/[5]. Batch [363]/[687]. Train loss 0.101. Train acc 94.568. Val loss 0.270. Val acc 94.245. Took 21.009 seconds\n",
            "Epoch [2]/[5]. Batch [413]/[687]. Train loss 0.109. Train acc 94.522. Val loss 0.251. Val acc 95.065. Took 21.013 seconds\n",
            "Epoch [2]/[5]. Batch [463]/[687]. Train loss 0.115. Train acc 94.594. Val loss 0.276. Val acc 93.626. Took 21.023 seconds\n",
            "Epoch [2]/[5]. Batch [513]/[687]. Train loss 0.120. Train acc 94.585. Val loss 0.246. Val acc 94.409. Took 20.995 seconds\n",
            "Epoch [2]/[5]. Batch [563]/[687]. Train loss 0.125. Train acc 94.649. Val loss 0.254. Val acc 94.373. Took 20.984 seconds\n",
            "Epoch [2]/[5]. Batch [613]/[687]. Train loss 0.128. Train acc 94.810. Val loss 0.236. Val acc 95.192. Took 20.974 seconds\n",
            "Epoch [2]/[5]. Batch [663]/[687]. Train loss 0.131. Train acc 94.825. Val loss 0.222. Val acc 95.210. Took 21.224 seconds\n",
            "Epoch took 293.19479751586914\n"
          ]
        },
        {
          "name": "stderr",
          "output_type": "stream",
          "text": [
            "\r 40%|████      | 2/5 [09:35<14:25, 288.61s/it]"
          ]
        },
        {
          "name": "stdout",
          "output_type": "stream",
          "text": [
            "Epoch [3]/[5]. Batch [26]/[687]. Train loss 0.004. Train acc 94.832. Val loss 0.230. Val acc 94.537. Took 19.832 seconds\n",
            "Epoch [3]/[5]. Batch [76]/[687]. Train loss 0.010. Train acc 96.094. Val loss 0.238. Val acc 94.464. Took 21.012 seconds\n",
            "Epoch [3]/[5]. Batch [126]/[687]. Train loss 0.016. Train acc 96.007. Val loss 0.204. Val acc 95.884. Took 20.970 seconds\n",
            "Epoch [3]/[5]. Batch [176]/[687]. Train loss 0.021. Train acc 96.307. Val loss 0.201. Val acc 95.520. Took 20.986 seconds\n",
            "Epoch [3]/[5]. Batch [226]/[687]. Train loss 0.026. Train acc 96.502. Val loss 0.205. Val acc 95.065. Took 21.043 seconds\n",
            "Epoch [3]/[5]. Batch [276]/[687]. Train loss 0.030. Train acc 96.581. Val loss 0.182. Val acc 95.957. Took 21.005 seconds\n",
            "Epoch [3]/[5]. Batch [326]/[687]. Train loss 0.033. Train acc 96.750. Val loss 0.174. Val acc 96.540. Took 20.996 seconds\n",
            "Epoch [3]/[5]. Batch [376]/[687]. Train loss 0.037. Train acc 96.792. Val loss 0.189. Val acc 95.702. Took 21.009 seconds\n",
            "Epoch [3]/[5]. Batch [426]/[687]. Train loss 0.040. Train acc 96.831. Val loss 0.179. Val acc 95.866. Took 21.003 seconds\n",
            "Epoch [3]/[5]. Batch [476]/[687]. Train loss 0.043. Train acc 96.855. Val loss 0.174. Val acc 96.303. Took 21.002 seconds\n",
            "Epoch [3]/[5]. Batch [526]/[687]. Train loss 0.046. Train acc 96.940. Val loss 0.178. Val acc 95.848. Took 21.027 seconds\n",
            "Epoch [3]/[5]. Batch [576]/[687]. Train loss 0.049. Train acc 96.864. Val loss 0.164. Val acc 96.394. Took 21.003 seconds\n",
            "Epoch [3]/[5]. Batch [626]/[687]. Train loss 0.052. Train acc 96.850. Val loss 0.174. Val acc 95.993. Took 21.014 seconds\n",
            "Epoch [3]/[5]. Batch [676]/[687]. Train loss 0.054. Train acc 96.949. Val loss 0.165. Val acc 96.194. Took 21.026 seconds\n",
            "Epoch took 293.9220461845398\n"
          ]
        },
        {
          "name": "stderr",
          "output_type": "stream",
          "text": [
            "\r 60%|██████    | 3/5 [14:29<09:42, 291.20s/it]"
          ]
        },
        {
          "name": "stdout",
          "output_type": "stream",
          "text": [
            "Epoch [4]/[5]. Batch [39]/[687]. Train loss 0.004. Train acc 94.471. Val loss 0.172. Val acc 95.702. Took 20.238 seconds\n",
            "Epoch [4]/[5]. Batch [89]/[687]. Train loss 0.007. Train acc 95.997. Val loss 0.144. Val acc 96.922. Took 21.001 seconds\n",
            "Epoch [4]/[5]. Batch [139]/[687]. Train loss 0.010. Train acc 96.875. Val loss 0.160. Val acc 95.957. Took 21.064 seconds\n",
            "Epoch [4]/[5]. Batch [189]/[687]. Train loss 0.012. Train acc 97.222. Val loss 0.155. Val acc 96.321. Took 21.020 seconds\n",
            "Epoch [4]/[5]. Batch [239]/[687]. Train loss 0.014. Train acc 97.333. Val loss 0.162. Val acc 95.720. Took 21.000 seconds\n",
            "Epoch [4]/[5]. Batch [289]/[687]. Train loss 0.016. Train acc 97.578. Val loss 0.141. Val acc 96.758. Took 20.995 seconds\n",
            "Epoch [4]/[5]. Batch [339]/[687]. Train loss 0.018. Train acc 97.668. Val loss 0.132. Val acc 97.232. Took 21.016 seconds\n",
            "Epoch [4]/[5]. Batch [389]/[687]. Train loss 0.020. Train acc 97.710. Val loss 0.134. Val acc 97.013. Took 20.978 seconds\n",
            "Epoch [4]/[5]. Batch [439]/[687]. Train loss 0.022. Train acc 97.743. Val loss 0.127. Val acc 97.286. Took 21.002 seconds\n",
            "Epoch [4]/[5]. Batch [489]/[687]. Train loss 0.024. Train acc 97.808. Val loss 0.141. Val acc 96.631. Took 21.000 seconds\n",
            "Epoch [4]/[5]. Batch [539]/[687]. Train loss 0.025. Train acc 97.901. Val loss 0.128. Val acc 97.032. Took 20.995 seconds\n",
            "Epoch [4]/[5]. Batch [589]/[687]. Train loss 0.026. Train acc 97.920. Val loss 0.129. Val acc 97.177. Took 20.994 seconds\n",
            "Epoch [4]/[5]. Batch [639]/[687]. Train loss 0.028. Train acc 97.907. Val loss 0.117. Val acc 97.450. Took 21.762 seconds\n",
            "Epoch took 277.56198239326477\n"
          ]
        },
        {
          "name": "stderr",
          "output_type": "stream",
          "text": [
            "\r 80%|████████  | 4/5 [19:07<04:45, 285.95s/it]"
          ]
        },
        {
          "name": "stdout",
          "output_type": "stream",
          "text": [
            "Epoch [5]/[5]. Batch [2]/[687]. Train loss 0.000. Train acc 98.438. Val loss 0.119. Val acc 97.432. Took 16.485 seconds\n",
            "Epoch [5]/[5]. Batch [52]/[687]. Train loss 0.002. Train acc 98.317. Val loss 0.132. Val acc 96.868. Took 21.017 seconds\n",
            "Epoch [5]/[5]. Batch [102]/[687]. Train loss 0.003. Train acc 98.376. Val loss 0.113. Val acc 97.687. Took 20.998 seconds\n",
            "Epoch [5]/[5]. Batch [152]/[687]. Train loss 0.005. Train acc 98.684. Val loss 0.121. Val acc 97.268. Took 20.989 seconds\n",
            "Epoch [5]/[5]. Batch [202]/[687]. Train loss 0.006. Train acc 98.623. Val loss 0.128. Val acc 96.868. Took 21.001 seconds\n",
            "Epoch [5]/[5]. Batch [252]/[687]. Train loss 0.007. Train acc 98.512. Val loss 0.105. Val acc 97.833. Took 21.330 seconds\n",
            "Epoch [5]/[5]. Batch [302]/[687]. Train loss 0.009. Train acc 98.520. Val loss 0.112. Val acc 97.432. Took 20.986 seconds\n",
            "Epoch [5]/[5]. Batch [352]/[687]. Train loss 0.010. Train acc 98.580. Val loss 0.116. Val acc 97.177. Took 21.066 seconds\n",
            "Epoch [5]/[5]. Batch [402]/[687]. Train loss 0.011. Train acc 98.562. Val loss 0.129. Val acc 96.777. Took 21.020 seconds\n",
            "Epoch [5]/[5]. Batch [452]/[687]. Train loss 0.012. Train acc 98.555. Val loss 0.109. Val acc 97.796. Took 21.011 seconds\n",
            "Epoch [5]/[5]. Batch [502]/[687]. Train loss 0.014. Train acc 98.550. Val loss 0.104. Val acc 97.724. Took 21.092 seconds\n",
            "Epoch [5]/[5]. Batch [552]/[687]. Train loss 0.015. Train acc 98.556. Val loss 0.105. Val acc 97.687. Took 21.034 seconds\n",
            "Epoch [5]/[5]. Batch [602]/[687]. Train loss 0.016. Train acc 98.588. Val loss 0.118. Val acc 96.795. Took 21.080 seconds\n",
            "Epoch [5]/[5]. Batch [652]/[687]. Train loss 0.017. Train acc 98.548. Val loss 0.113. Val acc 97.232. Took 20.994 seconds\n",
            "Epoch took 293.37227272987366\n"
          ]
        },
        {
          "name": "stderr",
          "output_type": "stream",
          "text": [
            "100%|██████████| 5/5 [24:01<00:00, 288.21s/it]\n"
          ]
        }
      ],
      "source": [
        "print_every = 50\n",
        "num_epoch = 5\n",
        "\n",
        "resnet, train_losses, val_losses = train(\n",
        "    model=resnet,\n",
        "    criterion=criterion,\n",
        "    optimizer=optimizer,\n",
        "    train_dataloader=train_dataloader,\n",
        "    test_dataloader=val_dataloader,\n",
        "    print_every=print_every,\n",
        "    num_epoch=num_epoch\n",
        ")\n",
        "\n",
        "\n"
      ]
    },
    {
      "cell_type": "code",
      "execution_count": null,
      "metadata": {
        "colab": {
          "base_uri": "https://localhost:8080/",
          "height": 430
        },
        "id": "3kdKlpli6XiA",
        "outputId": "6f6570d5-d086-4487-c6a6-a6e3f5596cfb"
      },
      "outputs": [
        {
          "data": {
            "image/png": "[encoded data removed]",
            "text/plain": [
              "<Figure size 640x480 with 1 Axes>"
            ]
          },
          "metadata": {},
          "output_type": "display_data"
        }
      ],
      "source": [
        "#résultats\n",
        "plt.plot(train_losses, label='Training loss')\n",
        "plt.plot(val_losses, label='Validation loss')\n",
        "plt.legend(frameon=False)\n",
        "plt.show()"
      ]
    },
    {
      "cell_type": "code",
      "execution_count": null,
      "metadata": {
        "colab": {
          "base_uri": "https://localhost:8080/"
        },
        "id": "XAoE-DBv6kbz",
        "outputId": "51c6c672-f4e4-4f28-c4a9-0764ac45a8fe"
      },
      "outputs": [
        {
          "name": "stderr",
          "output_type": "stream",
          "text": [
            "/usr/local/lib/python3.10/dist-packages/torchvision/transforms/functional.py:1603: UserWarning: The default value of the antialias parameter of all the resizing transforms (Resize(), RandomResizedCrop(), etc.) will change from None to True in v0.17, in order to be consistent across the PIL and Tensor backends. To suppress this warning, directly pass antialias=True (recommended, future default), antialias=None (current default, which means False for Tensors and True for PIL), or antialias=False (only works on Tensors - PIL will still use antialiasing). This also applies if you are using the inference transforms from the models weights: update the call to weights.transforms(antialias=True).\n",
            "  warnings.warn(\n"
          ]
        },
        {
          "name": "stdout",
          "output_type": "stream",
          "text": [
            "torch.Size([6000, 3, 224, 224])\n"
          ]
        }
      ],
      "source": [
        "#Predictions sur les données tests\n",
        "torch.cuda.empty_cache()\n",
        "datatest = torch.from_numpy(prepare_test(dtest).reshape(-1,1,28,28)).float()\n",
        "\n",
        "#redimesionner les données test pour qu'elles soient au format attendu (imagenet)\n",
        "data = v2.Resize(224)(datatest).expand(-1,3,-1,-1)/255\n",
        "\n",
        "print(data.shape)\n",
        "\n"
      ]
    },
    {
      "cell_type": "code",
      "execution_count": null,
      "metadata": {
        "id": "P6bu0zpHYvu3"
      },
      "outputs": [],
      "source": [
        "#charger les données tests préparées dans un dataloader\n",
        "test_subset = TensorDataset(data,data)\n",
        "test_dataloader = torch.utils.data.DataLoader(\n",
        "    dataset=test_subset,\n",
        "    batch_size=batch_size,\n",
        "    shuffle=False\n",
        ")"
      ]
    },
    {
      "cell_type": "code",
      "execution_count": null,
      "metadata": {
        "id": "VW2lrLgCWdxL"
      },
      "outputs": [],
      "source": [
        "# Predictions sur les données test\n",
        "prediction = torch.empty((0), dtype=torch.long).to(device)\n",
        "with torch.no_grad(): # save some co\n",
        "  resnet.eval()\n",
        "\n",
        "  for images, lab in test_dataloader:\n",
        "    images = images.to(device)\n",
        "    output = resnet(images)\n",
        "    preds = torch.argmax(output, axis=1)\n",
        "    prediction = torch.cat((prediction,preds),axis=0)\n",
        "  pred = np.array(prediction.cpu())\n",
        "\n"
      ]
    },
    {
      "cell_type": "code",
      "execution_count": null,
      "metadata": {
        "colab": {
          "base_uri": "https://localhost:8080/"
        },
        "id": "hmCxMzijcpf0",
        "outputId": "20c1c5a2-17e1-4eed-f35e-420da5f67e42"
      },
      "outputs": [
        {
          "name": "stdout",
          "output_type": "stream",
          "text": [
            "(6000,)\n",
            "(3000,) (3000,)\n",
            "[ 77  90  71 ... 109  83  98]\n",
            "(3000,)\n"
          ]
        }
      ],
      "source": [
        "# exporter les résultats de test et mise au format des outputs\n",
        "print(pred.shape)\n",
        "predtest = prepare_output(pred)\n",
        "print(predtest.shape)\n",
        "export_output(predtest,'resNet50_nodataaug_5epochs.csv')\n"
      ]
    }
  ],
  "metadata": {
    "accelerator": "GPU",
    "anaconda-cloud": {},
    "colab": {
      "gpuType": "T4",
      "machine_shape": "hm",
      "provenance": [],
      "toc_visible": true
    },
    "kernelspec": {
      "display_name": "Python 3",
      "name": "python3"
    },
    "language_info": {
      "codemirror_mode": {
        "name": "ipython",
        "version": 3
      },
      "file_extension": ".py",
      "mimetype": "text/x-python",
      "name": "python",
      "nbconvert_exporter": "python",
      "pygments_lexer": "ipython3",
      "version": "3.7.3"
    },
    "nav_menu": {},
    "toc": {
      "navigate_menu": true,
      "number_sections": true,
      "sideBar": true,
      "threshold": 6,
      "toc_cell": false,
      "toc_section_display": "block",
      "toc_window_display": false
    }
  },
  "nbformat": 4,
  "nbformat_minor": 0
}
