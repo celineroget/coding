{
 "cells": [
  {
   "cell_type": "markdown",
   "metadata": {
    "id": "rVo3uOH3QnQh"
   },
   "source": [
    "# COMP561 - HW3: HMM for genome annotation"
   ]
  },
  {
   "cell_type": "markdown",
   "metadata": {
    "id": "8B6EovESQ9ak"
   },
   "source": [
    "## Question #1"
   ]
  },
  {
   "cell_type": "markdown",
   "metadata": {
    "id": "Dfkp4_KlRBFp"
   },
   "source": [
    "In this question, we implement a version of the Viterbi algorithm to find the optimal path in a HMM model with 4 states, representing types of genomic information (Intergenomic, Start, Stop, coding portions). The HMM model is calibrated using the annotated genome of Vibrio cholerae, the bacteria that causes cholera.\n",
    "\n",
    "We then use our implementation to predict genes in a bacterial genomic sequence: Vibrio Vulnificus."
   ]
  },
  {
   "cell_type": "markdown",
   "metadata": {
    "id": "GCw3q-X6R3Yt"
   },
   "source": [
    "## 1 - Input files\n",
    "Let's first read and parse the 2 input files:\n",
    "\n",
    "* Vibrio_cholerae.GFC_11.dna.toplevel.fa: the genome sequence of the bacteria\n",
    "* Vibrio_cholerae.GFC_11.37.gff3.gz: the annotated genome\n",
    "\n",
    "We will only consider the positive strand. We will also ignore overlaps.\n"
   ]
  },
  {
   "cell_type": "code",
   "execution_count": 1,
   "metadata": {
    "colab": {
     "base_uri": "https://localhost:8080/"
    },
    "executionInfo": {
     "elapsed": 26704,
     "status": "ok",
     "timestamp": 1731772326694,
     "user": {
      "displayName": "Céline Roget",
      "userId": "08909459524585325226"
     },
     "user_tz": 300
    },
    "id": "rDyZ7XDAFInG",
    "outputId": "64090365-a129-4a97-e4e6-8e7895d1e015"
   },
   "outputs": [
    {
     "name": "stdout",
     "output_type": "stream",
     "text": [
      "Mounted at /content/drive\n"
     ]
    }
   ],
   "source": [
    "# upload files in Google Colab from my Google Drive\n",
    "from google.colab import drive\n",
    "drive.mount('/content/drive')\n",
    "\n"
   ]
  },
  {
   "cell_type": "code",
   "execution_count": 2,
   "metadata": {
    "colab": {
     "base_uri": "https://localhost:8080/"
    },
    "executionInfo": {
     "elapsed": 6065,
     "status": "ok",
     "timestamp": 1731772363622,
     "user": {
      "displayName": "Céline Roget",
      "userId": "08909459524585325226"
     },
     "user_tz": 300
    },
    "id": "QRH6YLs46jsu",
    "outputId": "d05dd707-79fd-46c9-db73-ff6896135bc7"
   },
   "outputs": [
    {
     "name": "stdout",
     "output_type": "stream",
     "text": [
      "Collecting biopython\n",
      "  Downloading biopython-1.84-cp310-cp310-manylinux_2_17_x86_64.manylinux2014_x86_64.whl.metadata (12 kB)\n",
      "Requirement already satisfied: numpy in /usr/local/lib/python3.10/dist-packages (from biopython) (1.26.4)\n",
      "Downloading biopython-1.84-cp310-cp310-manylinux_2_17_x86_64.manylinux2014_x86_64.whl (3.2 MB)\n",
      "\u001b[2K   \u001b[90m━━━━━━━━━━━━━━━━━━━━━━━━━━━━━━━━━━━━━━━━\u001b[0m \u001b[32m3.2/3.2 MB\u001b[0m \u001b[31m21.5 MB/s\u001b[0m eta \u001b[36m0:00:00\u001b[0m\n",
      "\u001b[?25hInstalling collected packages: biopython\n",
      "Successfully installed biopython-1.84\n"
     ]
    }
   ],
   "source": [
    "!pip install biopython"
   ]
  },
  {
   "cell_type": "code",
   "execution_count": 5,
   "metadata": {
    "executionInfo": {
     "elapsed": 185,
     "status": "ok",
     "timestamp": 1731772500322,
     "user": {
      "displayName": "Céline Roget",
      "userId": "08909459524585325226"
     },
     "user_tz": 300
    },
    "id": "5F-F-N1E6GEW"
   },
   "outputs": [],
   "source": [
    "#imports needed to read the data\n",
    "import gzip\n",
    "from Bio import SeqIO\n",
    "#from Bio.Seq import Seq\n",
    "import io\n",
    "import numpy as np\n",
    "import json"
   ]
  },
  {
   "cell_type": "code",
   "execution_count": 6,
   "metadata": {
    "executionInfo": {
     "elapsed": 136,
     "status": "ok",
     "timestamp": 1731772503769,
     "user": {
      "displayName": "Céline Roget",
      "userId": "08909459524585325226"
     },
     "user_tz": 300
    },
    "id": "jV78L7UT57wY"
   },
   "outputs": [],
   "source": [
    "# Function that reads and parses the genome sequence\n",
    "\n",
    "def read_genome_sequence(file_path):\n",
    "    if file_path.endswith('.gz'):\n",
    "       # if the fasta_file is compressed in gzip\n",
    "      with gzip.open(file_path, 'rt') as handle:\n",
    "        genome_records = [(record.id, str(record.seq)) for record in SeqIO.parse(handle, \"fasta\")]\n",
    "    else:\n",
    "       # Otherwise, read it directly as text\n",
    "     with open(file_path, 'r') as handle:\n",
    "        genome_records = [(record.id, str(record.seq)) for record in SeqIO.parse(handle, \"fasta\")]\n",
    "    # Convert the list to array\n",
    "    genome_array = np.array(genome_records, dtype=object)\n",
    "\n",
    "    return genome_array\n",
    "\n",
    "\n",
    "# Function that reads annotations and filters for CDS features\n",
    "# the function only keeps CDS portions, and the forward strand (+)\n",
    "def parse_annotations(file_path):\n",
    "  cds_features = []  # list to save the CDS portions\n",
    "  if file_path.endswith('.gz'):\n",
    "    with gzip.open(file_path, \"rt\") as handle:\n",
    "        for line in handle:\n",
    "            if line.startswith(\"#\"):\n",
    "                continue  # Skip headers and comments\n",
    "            fields = line.strip().split(\"\\t\")\n",
    "\n",
    "            feature_type = fields[2]\n",
    "            strand = fields[6]\n",
    "            if feature_type == \"CDS\" and strand == \"+\":\n",
    "                # Extract relevant information from GFF line\n",
    "                seq_id = fields[0] # the contig id\n",
    "                start = int(fields[3])  #start position of the gene\n",
    "                end = int(fields[4]) # last nucleotide of the gene\n",
    "                attributes = fields[8]\n",
    "\n",
    "                # Append the relevant data as a tuple\n",
    "                cds_features.append((seq_id, start, end, strand, attributes))\n",
    "  else:\n",
    "       # Otherwise, read it directly as text\n",
    "     with open(file_path, 'r') as handle:\n",
    "        for line in handle:\n",
    "            if line.startswith(\"#\"):\n",
    "                continue  # Skip headers and comments\n",
    "            fields = line.strip().split(\"\\t\")\n",
    "\n",
    "            feature_type = fields[2]\n",
    "            strand = fields[6]\n",
    "            if feature_type == \"CDS\" and strand == \"+\":\n",
    "                # Extract relevant information from GFF line\n",
    "                seq_id = fields[0] # the contig id\n",
    "                start = int(fields[3])  #start position of the gene\n",
    "                end = int(fields[4]) # last nucleotide of the gene\n",
    "                attributes = fields[8]\n",
    "\n",
    "                # Append the relevant data as a tuple\n",
    "                cds_features.append((seq_id, start, end, strand, attributes))\n",
    "\n",
    "    # Convert the list to array\n",
    "  cds_array = np.array(cds_features, dtype=object)\n",
    "  return cds_array\n"
   ]
  },
  {
   "cell_type": "markdown",
   "metadata": {
    "id": "i3ZZyEpfXYPW"
   },
   "source": [
    "Let's read the genome file and the annotated genome and save the relevant data in arrays"
   ]
  },
  {
   "cell_type": "code",
   "execution_count": 7,
   "metadata": {
    "colab": {
     "base_uri": "https://localhost:8080/"
    },
    "executionInfo": {
     "elapsed": 1074,
     "status": "ok",
     "timestamp": 1731772523991,
     "user": {
      "displayName": "Céline Roget",
      "userId": "08909459524585325226"
     },
     "user_tz": 300
    },
    "id": "SVJ2pTDp749L",
    "outputId": "310fc975-d013-4f4d-fffa-076c05e3b870"
   },
   "outputs": [
    {
     "name": "stdout",
     "output_type": "stream",
     "text": [
      "Number of contigs: 151\n",
      "Total CDS features: 1887\n",
      "[['DN38.contig00001' 654 2138 '+'\n",
      "  'ID=CDS:KFE17928;Parent=transcript:KFE17928;protein_id=KFE17928']]\n"
     ]
    }
   ],
   "source": [
    "genome_file = '/content/drive/MyDrive/ColabNotebooks/COMP561/Vibrio_cholerae.GFC_11.dna.toplevel.fa'\n",
    "annotation_file = '/content/drive/MyDrive/ColabNotebooks/COMP561/Vibrio_cholerae.GFC_11.37.gff3.gz'\n",
    "\n",
    "# Read genome sequence\n",
    "genome_record = read_genome_sequence(genome_file)\n",
    "print(f\"Number of contigs: {len(genome_record)}\")\n",
    "#print(f\"Genome length: {len(genome_record)}\")\n",
    "\n",
    "# Parse and filter annotations for CDS features\n",
    "cds_features = parse_annotations(annotation_file)\n",
    "print(f\"Total CDS features: {len(cds_features)}\")\n",
    "\n",
    "# Print a few CDS features as example\n",
    "print(cds_features[:1])\n"
   ]
  },
  {
   "cell_type": "code",
   "execution_count": 8,
   "metadata": {
    "colab": {
     "base_uri": "https://localhost:8080/"
    },
    "executionInfo": {
     "elapsed": 148,
     "status": "ok",
     "timestamp": 1731772529404,
     "user": {
      "displayName": "Céline Roget",
      "userId": "08909459524585325226"
     },
     "user_tz": 300
    },
    "id": "4pDQgu5RnlJS",
    "outputId": "e48dc716-aa46-4b44-8f7e-a3f6c356ef9c"
   },
   "outputs": [
    {
     "name": "stdout",
     "output_type": "stream",
     "text": [
      "(1887, 5) (151, 2)\n"
     ]
    }
   ],
   "source": [
    "print(cds_features.shape, genome_record.shape)"
   ]
  },
  {
   "cell_type": "markdown",
   "metadata": {
    "id": "poc95u5uk1rd"
   },
   "source": [
    "Let's display an example of cds_feature, and corresponding gene"
   ]
  },
  {
   "cell_type": "code",
   "execution_count": 9,
   "metadata": {
    "colab": {
     "base_uri": "https://localhost:8080/"
    },
    "executionInfo": {
     "elapsed": 167,
     "status": "ok",
     "timestamp": 1731772532405,
     "user": {
      "displayName": "Céline Roget",
      "userId": "08909459524585325226"
     },
     "user_tz": 300
    },
    "id": "IBOGT6C8vElx",
    "outputId": "28700e62-562f-4104-8a3a-79d636f85fe8"
   },
   "outputs": [
    {
     "name": "stdout",
     "output_type": "stream",
     "text": [
      "['DN38.contig00001' 654 2138 '+'\n",
      " 'ID=CDS:KFE17928;Parent=transcript:KFE17928;protein_id=KFE17928']\n",
      "gene length:  1484\n",
      "first 30 nucleotides: \n",
      "ATGAATGCGTTCAATAAATTAGTAAAACATT\n",
      "lasr 30 nucleotides: \n",
      "GCTCATTTGAGTCAGCGCTATCTGAAGTAAT\n"
     ]
    }
   ],
   "source": [
    "contig = 'DN38.contig00001'\n",
    "start = cds_features[np.where(cds_features[:,0] == contig)][0,1]\n",
    "stop = cds_features[np.where(cds_features[:,0] == contig)][0,2]\n",
    "print(cds_features[np.where(cds_features[:,0] == contig)][0,:])\n",
    "\n",
    "seq = genome_record[np.where(genome_record[:, 0] == contig)][0,1]\n",
    "#print gene length\n",
    "print('gene length: ', stop - start)\n",
    "#print first 30 nucleotides\n",
    "print('first 30 nucleotides: ')\n",
    "print(seq[start-1:start+30])\n",
    "print('lasr 30 nucleotides: ')\n",
    "print(seq[stop -30: stop+1])"
   ]
  },
  {
   "cell_type": "markdown",
   "metadata": {
    "id": "o3Sa7M2ulvby"
   },
   "source": [
    "Total length of the genome"
   ]
  },
  {
   "cell_type": "code",
   "execution_count": 10,
   "metadata": {
    "colab": {
     "base_uri": "https://localhost:8080/"
    },
    "executionInfo": {
     "elapsed": 168,
     "status": "ok",
     "timestamp": 1731772538903,
     "user": {
      "displayName": "Céline Roget",
      "userId": "08909459524585325226"
     },
     "user_tz": 300
    },
    "id": "JRSbCrM9Z7fF",
    "outputId": "ee694f17-707c-4d9c-c8f8-5a164d8e420f"
   },
   "outputs": [
    {
     "name": "stdout",
     "output_type": "stream",
     "text": [
      "Total length of the genome: 4012216 nucleotides\n"
     ]
    }
   ],
   "source": [
    "gen_len = np.vectorize(len)(genome_record[:, 1])\n",
    "total_length = np.sum(gen_len)\n",
    "print(f\"Total length of the genome: {total_length} nucleotides\")"
   ]
  },
  {
   "cell_type": "markdown",
   "metadata": {
    "id": "XCHAU45xXrqe"
   },
   "source": [
    "Although relatively rare, some genes may overlap. For this exercise, we will ignore overlaps. Let's implement a function that remove overlapping genes from cds_features: if 2 genes overlap, we will keep only the gene that starts before the other.  "
   ]
  },
  {
   "cell_type": "code",
   "execution_count": 11,
   "metadata": {
    "executionInfo": {
     "elapsed": 528,
     "status": "ok",
     "timestamp": 1731772544243,
     "user": {
      "displayName": "Céline Roget",
      "userId": "08909459524585325226"
     },
     "user_tz": 300
    },
    "id": "o4G2TFvylPzF"
   },
   "outputs": [],
   "source": [
    "#remove overlapping CDS\n",
    "def remove_overlap(cds_features):\n",
    "  # Sort the CDS features by start position\n",
    "  cds_features = cds_features[cds_features[:, 1].argsort()]\n",
    "  # Create a mask to filter out overlapping features\n",
    "  keep_mask = np.ones(cds_features.shape[0], dtype=bool)\n",
    "\n",
    "  for i in range(len(cds_features) - 1):\n",
    "    for j in range(i + 1, len(cds_features)):\n",
    "      if cds_features[i,0] == cds_features[j,0]:  # Check if same contig\n",
    "        if (cds_features[i,1] < cds_features[j,2] and  # Check for overlap: start position of gene i is before last position of gene j\n",
    "                cds_features[i,2] > cds_features[j,1]): # and last position of gene i is after start position of gene j\n",
    "                #remove (j) - i.e put the jth mask value to False\n",
    "                keep_mask[j] = False\n",
    "\n",
    "  # Filter the original array using the mask, to remove overlapping genes\n",
    "  return cds_features[keep_mask]"
   ]
  },
  {
   "cell_type": "code",
   "execution_count": 12,
   "metadata": {
    "colab": {
     "base_uri": "https://localhost:8080/"
    },
    "executionInfo": {
     "elapsed": 1036,
     "status": "ok",
     "timestamp": 1731772563334,
     "user": {
      "displayName": "Céline Roget",
      "userId": "08909459524585325226"
     },
     "user_tz": 300
    },
    "id": "5-ZKdfQJDwEX",
    "outputId": "f8d5c804-a809-4049-92d8-e0f555062ec3"
   },
   "outputs": [
    {
     "name": "stdout",
     "output_type": "stream",
     "text": [
      "Total CDS features after removing overlaps: 1714\n"
     ]
    }
   ],
   "source": [
    "cds = remove_overlap(cds_features)\n",
    "print(f\"Total CDS features after removing overlaps: {len(cds)}\")"
   ]
  },
  {
   "cell_type": "markdown",
   "metadata": {
    "id": "F4NxEPWnY9EQ"
   },
   "source": [
    "After removing the overlapping genes, the total number of genes is reduced from 1887 to 1714."
   ]
  },
  {
   "cell_type": "markdown",
   "metadata": {
    "id": "s9V-vxcamCRO"
   },
   "source": [
    "Compute Statistics based on Genome and CDS"
   ]
  },
  {
   "cell_type": "markdown",
   "metadata": {
    "id": "YeLFM5gPZPJA"
   },
   "source": [
    "Let's implement a function to compute the main statistics required to define our HMM model:\n",
    "* average length of intergenic regions\n",
    "* average length of genes\n",
    "* average nucleotide frequency in intergenic regions\n",
    "* average codon frequency in genes\n",
    "* average Start codon frequency\n",
    "* average Stop codon frequency"
   ]
  },
  {
   "cell_type": "code",
   "execution_count": 13,
   "metadata": {
    "executionInfo": {
     "elapsed": 170,
     "status": "ok",
     "timestamp": 1731772569241,
     "user": {
      "displayName": "Céline Roget",
      "userId": "08909459524585325226"
     },
     "user_tz": 300
    },
    "id": "nDA2PnlRXJqB"
   },
   "outputs": [],
   "source": [
    "def compute_length(genome_array, cds_array):\n",
    "    intergenic_lengths = []  # List to store lengths of intergenic regions\n",
    "    cds_lengths = []  # List to store lengths of CDS regions\n",
    "    nucl_counts = {}  # Dictionary to store nucleotide counts\n",
    "    codon_mid_counts = {}  # Dictionary to store codon counts in the gene section\n",
    "    codon_start_counts = {}  # Dictionary to store start codon counts in CDS\n",
    "    codon_stop_counts = {}  # Dictionary to store STOP codon counts in CDS\n",
    "\n",
    "    # Iterate over each contig in the genome array\n",
    "    for contig_id, sequence in genome_array:\n",
    "        # Filter CDS features for the current contig and sort by start position\n",
    "        contig_cds = cds_array[cds_array[:, 0] == contig_id] # sub-array of all CDS in current contig\n",
    "        contig_cds = contig_cds[contig_cds[:, 1].argsort()] # sorted by start position\n",
    "\n",
    "        # if there are no CDS features for the contig : the entire contig is considered as intergenic region\n",
    "        if contig_cds.shape[0] == 0:\n",
    "            continue\n",
    "\n",
    "        # Track the end of the previous CDS\n",
    "        previous_end = contig_cds[0,1] - 1  # initially: first CDS start\n",
    "\n",
    "        # Loop through each CDS feature in this contig to find intergenic regions\n",
    "        for index in range(0, len(contig_cds)):\n",
    "            # Get start and end of the current CDS\n",
    "            start, end = contig_cds[index,1], contig_cds[index,2]\n",
    "            cds_lengths.append(end - start+1)\n",
    "\n",
    "            # Loop through each codon in the current CDS to count codons\n",
    "            cds_sequence = sequence[start - 1:end]  # Extract the current gene sequence (start -1 to adjust for 0-based indexing)\n",
    "            length = len(cds_sequence)\n",
    "            start_codon = cds_sequence[:3] # Start codon = 1st 3 nucleotides\n",
    "            #if start codon not in ATG, GTG TTG\n",
    "            if start_codon not in ['ATG', 'GTG', 'TTG']:\n",
    "              print(f\"Start codon not in ATG, GTG, TTG: {start_codon}\")\n",
    "              #print contig , start end\n",
    "              print(contig_cds[index,0],start,end)\n",
    "            stop_codon = cds_sequence[-3:] # Stop Codon = last 3 nucleotides\n",
    "            #update dictionary of start codons\n",
    "            if start_codon not in codon_start_counts:\n",
    "                codon_start_counts[start_codon] = 1\n",
    "            else:\n",
    "                codon_start_counts[start_codon] += 1\n",
    "            #update dictionary of stop codons\n",
    "            if stop_codon not in codon_stop_counts:\n",
    "                codon_stop_counts[stop_codon] = 1\n",
    "            else:\n",
    "                codon_stop_counts[stop_codon] += 1\n",
    "            # Update dictionary of gene region codons, by reading nucleotides 3 by 3\n",
    "            for i in range(3, length-3, 3):\n",
    "                codon = cds_sequence[i:i + 3]\n",
    "                if codon not in codon_mid_counts:\n",
    "                  codon_mid_counts[codon] = 1\n",
    "                else:\n",
    "                  codon_mid_counts[codon] += 1\n",
    "\n",
    "            # Count nucleotides in the current intergenic region\n",
    "            if previous_end < start - 1: #ignore intergenic seq before first gene of the contig and after last gene\n",
    "              inter_seq = sequence[previous_end:start]\n",
    "              intergenic_length = start - previous_end\n",
    "              intergenic_lengths.append(intergenic_length)\n",
    "              for nucl in inter_seq:\n",
    "                nucl_counts[nucl] = nucl_counts.get(nucl, 0) + 1\n",
    "\n",
    "\n",
    "            # Update previous_end to the current CDS end\n",
    "            previous_end = end\n",
    "\n",
    "    return np.array(intergenic_lengths, dtype=object), np.array(cds_lengths, dtype=object), nucl_counts, codon_mid_counts, codon_start_counts, codon_stop_counts\n"
   ]
  },
  {
   "cell_type": "markdown",
   "metadata": {
    "id": "Tzs35WFYcqV3"
   },
   "source": [
    "Let's compute the statistics on our data:"
   ]
  },
  {
   "cell_type": "code",
   "execution_count": 14,
   "metadata": {
    "colab": {
     "base_uri": "https://localhost:8080/"
    },
    "executionInfo": {
     "elapsed": 762,
     "status": "ok",
     "timestamp": 1731773096642,
     "user": {
      "displayName": "Céline Roget",
      "userId": "08909459524585325226"
     },
     "user_tz": 300
    },
    "id": "rVxhP-B2bOhr",
    "outputId": "0dd76872-6eb2-4819-d8f4-6978984a75a6"
   },
   "outputs": [
    {
     "name": "stdout",
     "output_type": "stream",
     "text": [
      "Average intergenic length: 1204.5984800506649\n",
      "Average CDS length: 993.4498249708284\n",
      "Nucleotide counts: {'T': 501083, 'C': 461487, 'A': 504626, 'G': 434865}\n",
      "Codon counts: {'AAA': 20365, 'AAC': 11619, 'AAG': 7580, 'AAT': 10752, 'ACA': 4296, 'ACC': 11713, 'ACG': 6342, 'ACT': 7391, 'AGA': 1388, 'AGC': 7904, 'AGG': 452, 'AGT': 6420, 'ATA': 1920, 'ATC': 14418, 'ATG': 13362, 'ATT': 17475, 'CAA': 18728, 'CAC': 6092, 'CAG': 10345, 'CAT': 7173, 'CCA': 7278, 'CCC': 3251, 'CCG': 6073, 'CCT': 6360, 'CGA': 2888, 'CGC': 9962, 'CGG': 1530, 'CGT': 11496, 'CTA': 4921, 'CTC': 8177, 'CTG': 16480, 'CTT': 7098, 'GAA': 22305, 'GAC': 8249, 'GAG': 13641, 'GAT': 21118, 'GCA': 11005, 'GCC': 12568, 'GCG': 17229, 'GCT': 11897, 'GGA': 4166, 'GGC': 14372, 'GGG': 4771, 'GGT': 15452, 'GTA': 6257, 'GTC': 8218, 'GTG': 15954, 'GTT': 9435, 'TAC': 8128, 'TAT': 8778, 'TCA': 5941, 'TCC': 3320, 'TCG': 5154, 'TCT': 6375, 'TGC': 2331, 'TGG': 7321, 'TGT': 3261, 'TTA': 10756, 'TTC': 7858, 'TTG': 12576, 'TTT': 14478}\n",
      "Start Codon counts: {'ATG': 1526, 'GTG': 122, 'TTG': 66}\n",
      "Stop Codon counts: {'TAA': 1120, 'TGA': 315, 'TAG': 279}\n",
      "Total intergenic length: 1902061\n",
      "Total CDS length: 1702773\n",
      "Total number of nucleotides in intergenic regions: 1902061\n",
      "Total number of nucleotides in CDS: 1692489\n",
      "Difference between total intergenic length and nucleotides counts: 0\n",
      "Difference between total CDS length and codons counts: 0\n",
      "Total number of start codons: 1714\n",
      "Total number of stop codons: 1714\n"
     ]
    }
   ],
   "source": [
    "#compute average intergenic length\n",
    "intergenic_lengths, cds_lengths, nucl_count, codon_counts, codon_start, codon_stop = compute_length(genome_record, cds)\n",
    "#sort codon_counts by alphabetic order\n",
    "codon_counts = dict(sorted(codon_counts.items()))\n",
    "print(f\"Average intergenic length: {intergenic_lengths.mean()}\")\n",
    "print(f\"Average CDS length: {cds_lengths.mean()}\")\n",
    "print(f\"Nucleotide counts: {nucl_count}\")\n",
    "print(f\"Codon counts: {codon_counts}\")\n",
    "print(f\"Start Codon counts: {codon_start}\")\n",
    "print(f\"Stop Codon counts: {codon_stop}\")\n",
    "\n",
    "print(f\"Total intergenic length: {intergenic_lengths.sum()}\")\n",
    "print(f\"Total CDS length: {cds_lengths.sum()}\")\n",
    "#validate total number of nucleotides\n",
    "print(f\"Total number of nucleotides in intergenic regions: {sum(nucl_count.values())}\")\n",
    "#validate total number of codons in CDS\n",
    "print(f\"Total number of nucleotides in CDS: {sum(codon_counts.values())*3}\")\n",
    "#difference between total intergenic length and nucleotides counts\n",
    "print(f\"Difference between total intergenic length and nucleotides counts: {intergenic_lengths.sum() - sum(nucl_count.values())}\")\n",
    "#difference between total CDS length and codons counts\n",
    "print(f\"Difference between total CDS length and codons counts: {cds_lengths.sum() - (sum(codon_counts.values())+sum(codon_start.values())+sum(codon_stop.values()))*3}\")\n",
    "print(f\"Total number of start codons: {sum(codon_start.values())}\")\n",
    "print(f\"Total number of stop codons: {sum(codon_stop.values())}\")\n"
   ]
  },
  {
   "cell_type": "markdown",
   "metadata": {
    "id": "gD5rEe6kczbZ"
   },
   "source": [
    "We see that there are 3 types of Start codons: ATG, GTG, TTG.  ATG is the more frequent Start Codon.  "
   ]
  },
  {
   "cell_type": "code",
   "execution_count": 15,
   "metadata": {
    "colab": {
     "base_uri": "https://localhost:8080/"
    },
    "executionInfo": {
     "elapsed": 293,
     "status": "ok",
     "timestamp": 1731773103638,
     "user": {
      "displayName": "Céline Roget",
      "userId": "08909459524585325226"
     },
     "user_tz": 300
    },
    "id": "R7jHqbsecaOv",
    "outputId": "9be72272-1635-49c9-85b0-de0c1a830d23"
   },
   "outputs": [
    {
     "name": "stdout",
     "output_type": "stream",
     "text": [
      "Shape of intergenic_lengths: (1579,)\n",
      "Shape of cds_lengths: (1714,)\n"
     ]
    }
   ],
   "source": [
    "# print shape of intergenic length and cds_length\n",
    "print(f\"Shape of intergenic_lengths: {intergenic_lengths.shape}\")\n",
    "print(f\"Shape of cds_lengths: {cds_lengths.shape}\")"
   ]
  },
  {
   "cell_type": "code",
   "execution_count": 16,
   "metadata": {
    "colab": {
     "base_uri": "https://localhost:8080/"
    },
    "executionInfo": {
     "elapsed": 153,
     "status": "ok",
     "timestamp": 1731773121137,
     "user": {
      "displayName": "Céline Roget",
      "userId": "08909459524585325226"
     },
     "user_tz": 300
    },
    "id": "hdLo-oA__-dL",
    "outputId": "1b28156c-df8d-45ba-8d7c-7702cb6abba8"
   },
   "outputs": [
    {
     "name": "stdout",
     "output_type": "stream",
     "text": [
      "Start codons: (array(['ATG', 'GTG', 'TTG'], dtype=object), array([1526,  122,   66]))\n"
     ]
    }
   ],
   "source": [
    "#analysis of start codons\n",
    "start_codons = np.zeros(cds.shape[0], dtype=object)\n",
    "i = 0\n",
    "for contig_id, start in cds[:,0:2]:\n",
    "  start = genome_record[np.where(genome_record[:, 0] == contig_id)][0,1][start-1:start+2]\n",
    "  start_codons[i] = start\n",
    "  i += 1\n",
    "\n",
    "starts = np.unique(start_codons, return_counts=True)\n",
    "print(f\"Start codons: {starts}\")\n"
   ]
  },
  {
   "cell_type": "markdown",
   "metadata": {
    "id": "kErE7Ka0bRmh"
   },
   "source": [
    "## Question 1a) Statistics on the genome"
   ]
  },
  {
   "cell_type": "code",
   "execution_count": 17,
   "metadata": {
    "colab": {
     "base_uri": "https://localhost:8080/"
    },
    "executionInfo": {
     "elapsed": 185,
     "status": "ok",
     "timestamp": 1731773137150,
     "user": {
      "displayName": "Céline Roget",
      "userId": "08909459524585325226"
     },
     "user_tz": 300
    },
    "id": "plpCg7aaC0rY",
    "outputId": "f4fb386b-b526-445a-bf39-aab81276f9fc"
   },
   "outputs": [
    {
     "name": "stdout",
     "output_type": "stream",
     "text": [
      "Nucleotide frequency in intergenic regions: {'T': 0.26344212935336986, 'C': 0.24262471077426012, 'A': 0.26530484563849427, 'G': 0.22862831423387578}\n",
      "Sum of nucleotide frequency in intergenic regions: 1.0000000000000002\n"
     ]
    }
   ],
   "source": [
    "# compute nucleotide freq in intergenic regions\n",
    "nucl_freq = {}\n",
    "for nucl in nucl_count:\n",
    "  nucl_freq[nucl] = nucl_count[nucl]/sum(nucl_count.values())\n",
    "print(f\"Nucleotide frequency in intergenic regions: {nucl_freq}\")\n",
    "#validate it sums to 1\n",
    "print(f\"Sum of nucleotide frequency in intergenic regions: {sum(nucl_freq.values())}\")"
   ]
  },
  {
   "cell_type": "code",
   "execution_count": 18,
   "metadata": {
    "colab": {
     "base_uri": "https://localhost:8080/"
    },
    "executionInfo": {
     "elapsed": 151,
     "status": "ok",
     "timestamp": 1731773139462,
     "user": {
      "displayName": "Céline Roget",
      "userId": "08909459524585325226"
     },
     "user_tz": 300
    },
    "id": "OS9-MAL2u-Q-",
    "outputId": "68dd5cab-0d3e-41da-dd61-90c5b584a72b"
   },
   "outputs": [
    {
     "name": "stdout",
     "output_type": "stream",
     "text": [
      "Codon frequency in CDS: {'AAA': 0.03609772353025632, 'AAC': 0.02059511169644234, 'AAG': 0.013435833260954724, 'AAT': 0.019058321797069285, 'ACA': 0.007614820539454023, 'ACC': 0.020761730209177136, 'ACG': 0.011241431997490087, 'ACT': 0.013100823698115615, 'AGA': 0.002460281868892501, 'AGC': 0.01401013536867891, 'AGG': 0.00080118689102263, 'AGT': 0.011379689912312576, 'ATA': 0.0034032717494766585, 'ATC': 0.02555644379372628, 'ATG': 0.02368464433151412, 'ATT': 0.030975090532346147, 'CAA': 0.033196079856353575, 'CAC': 0.010798297655110313, 'CAG': 0.018336899087675017, 'CAT': 0.012714410551560452, 'CCA': 0.012900526975359958, 'CCC': 0.005762518988306571, 'CCG': 0.010764619445089451, 'CCT': 0.011273337670141432, 'CGA': 0.00511908792317114, 'CGC': 0.017658017275149204, 'CGG': 0.0027119821753642122, 'CGT': 0.02037708959999149, 'CTA': 0.008722656395403455, 'CTC': 0.014494038070557623, 'CTG': 0.02921141584967465, 'CTT': 0.01258147024884652, 'GAA': 0.03953644602712337, 'GAC': 0.014621660761162997, 'GAG': 0.024179182257609948, 'GAT': 0.037432444169504205, 'GCA': 0.019506773751557616, 'GCC': 0.02227724966011596, 'GCG': 0.030539046339444452, 'GCT': 0.021087877085168648, 'GGA': 0.007384390681416541, 'GGC': 0.025474907074728402, 'GGG': 0.008456775789975592, 'GGT': 0.027389247433809022, 'GTA': 0.011090766321080964, 'GTC': 0.014566712102707905, 'GTG': 0.028279061193307607, 'GTT': 0.016723890081412642, 'TAC': 0.014407183739451187, 'TAT': 0.015559333029638597, 'TCA': 0.01053064451231293, 'TCC': 0.005884824066803389, 'TCG': 0.009135657602501405, 'TCT': 0.011299925730684217, 'TGC': 0.004131784608349005, 'TGG': 0.01297674608224928, 'TGT': 0.005780244362001762, 'TTA': 0.019065411946547362, 'TTC': 0.013928598649681032, 'TTG': 0.02229142995907211, 'TTT': 0.025662796035897426}\n",
      "Sum of codon frequency in CDS: 0.9999999999999998\n"
     ]
    }
   ],
   "source": [
    "#compute the codon frequency table for CDS(middle)\n",
    "codon_freq = {}\n",
    "for codon in codon_counts:\n",
    "  codon_freq[codon] = codon_counts[codon]/sum(codon_counts.values())\n",
    "print(f\"Codon frequency in CDS: {codon_freq}\")\n",
    "#validate sum = 1\n",
    "print(f\"Sum of codon frequency in CDS: {sum(codon_freq.values())}\")"
   ]
  },
  {
   "cell_type": "code",
   "execution_count": 19,
   "metadata": {
    "colab": {
     "base_uri": "https://localhost:8080/"
    },
    "executionInfo": {
     "elapsed": 155,
     "status": "ok",
     "timestamp": 1731773142083,
     "user": {
      "displayName": "Céline Roget",
      "userId": "08909459524585325226"
     },
     "user_tz": 300
    },
    "id": "BXO8mEWDI6pM",
    "outputId": "6497b215-cdb9-4b45-9ad8-0ee6104fd7b0"
   },
   "outputs": [
    {
     "name": "stdout",
     "output_type": "stream",
     "text": [
      "Start codon frequency in CDS: {'ATG': 0.8903150525087514, 'GTG': 0.07117852975495916, 'TTG': 0.038506417736289385}\n",
      "Stop codon frequency in CDS: {'TAA': 0.6534422403733956, 'TGA': 0.1837806301050175, 'TAG': 0.16277712952158693}\n"
     ]
    }
   ],
   "source": [
    "#freq of start codons\n",
    "start_freq = {}\n",
    "for codon in codon_start:\n",
    "  start_freq[codon] = codon_start[codon]/sum(codon_start.values())\n",
    "print(f\"Start codon frequency in CDS: {start_freq}\")\n",
    "\n",
    "# freq of stop codons\n",
    "stop_freq = {}\n",
    "for codon in codon_stop:\n",
    "  stop_freq[codon] = codon_stop[codon]/sum(codon_stop.values())\n",
    "print(f\"Stop codon frequency in CDS: {stop_freq}\")"
   ]
  },
  {
   "cell_type": "code",
   "execution_count": 20,
   "metadata": {
    "executionInfo": {
     "elapsed": 151,
     "status": "ok",
     "timestamp": 1731773152948,
     "user": {
      "displayName": "Céline Roget",
      "userId": "08909459524585325226"
     },
     "user_tz": 300
    },
    "id": "buUlY2_Q-OnL"
   },
   "outputs": [],
   "source": [
    "# create the state emission probabilities based on nucleotidesfrequencies computed for intergenic regions and frequencies of codons in CDS\n",
    "emissions = {\n",
    "    'Intergenic': nucl_freq,  # Single nucleotide emissions for intergenic regions\n",
    "    'Start': start_freq,      # Codon emissions for start of CDS\n",
    "    'Middle': codon_freq,     # Codon emissions for middle of CDS\n",
    "    'Stop': stop_freq        # Codon emissions for end of CDS\n",
    "}\n",
    "\n",
    "int_start = 1/intergenic_lengths.mean()\n",
    "int_int = 1 - int_start\n",
    "mid_stop = 1/(cds_lengths.mean()/3)\n",
    "mid_mid = 1 - mid_stop\n",
    "# Transition probabilities\n",
    "transitions = {\n",
    "    'Intergenic': {'Intergenic': int_int, 'Start': int_start},  # Most likely stay in Intergenic, some chance to Start\n",
    "    'Start': {'Middle': 1},  # Start always transitions to Middle\n",
    "    'Middle': {'Middle': mid_mid, 'Stop': mid_stop},  # Middle likely stays in Middle, small chance to transition to Stop\n",
    "    'Stop': {'Intergenic': 1}  # Stop always transitions back to Intergenic\n",
    "}\n"
   ]
  },
  {
   "cell_type": "code",
   "execution_count": 21,
   "metadata": {
    "executionInfo": {
     "elapsed": 183,
     "status": "ok",
     "timestamp": 1731773217616,
     "user": {
      "displayName": "Céline Roget",
      "userId": "08909459524585325226"
     },
     "user_tz": 300
    },
    "id": "3DEcvW5nQ1h5"
   },
   "outputs": [],
   "source": [
    "#convert emission and transition probas into log\n",
    "log_transitions = {\n",
    "    state: {next_state: np.log(prob) if prob > 0 else -np.inf\n",
    "            for next_state, prob in trans.items()}\n",
    "    for state, trans in transitions.items()\n",
    "}\n",
    "log_emissions = {\n",
    "    state: {obs: np.log(prob) if prob > 0 else -np.inf\n",
    "            for obs, prob in obs_probs.items()}\n",
    "    for state, obs_probs in emissions.items()\n",
    "}"
   ]
  },
  {
   "cell_type": "markdown",
   "metadata": {
    "id": "kTkTO2xAdh1Y"
   },
   "source": [
    "Save all input matrices (log of emission probas and log of transition probas) in a json file"
   ]
  },
  {
   "cell_type": "code",
   "execution_count": 22,
   "metadata": {
    "colab": {
     "base_uri": "https://localhost:8080/"
    },
    "executionInfo": {
     "elapsed": 326,
     "status": "ok",
     "timestamp": 1731773252078,
     "user": {
      "displayName": "Céline Roget",
      "userId": "08909459524585325226"
     },
     "user_tz": 300
    },
    "id": "T37kJD6sePU2",
    "outputId": "8c9521bf-b34b-41c5-9e4d-daebd13fa930"
   },
   "outputs": [
    {
     "name": "stdout",
     "output_type": "stream",
     "text": [
      "/content/drive/MyDrive/ColabNotebooks/COMP561\n",
      "hmm_config.json saved\n"
     ]
    }
   ],
   "source": [
    "# save the transitions and emissions probability matrices is json file\n",
    "#change working dir to gdrive\n",
    "chdir = '/content/drive/MyDrive/ColabNotebooks/COMP561'\n",
    "import os\n",
    "os.chdir(chdir)\n",
    "print(os.getcwd())\n",
    "with open('hmm_config.json', 'w') as file:\n",
    "    json.dump({'transitions': log_transitions, 'emissions': log_emissions}, file)\n",
    "    print(\"hmm_config.json saved\")"
   ]
  },
  {
   "cell_type": "code",
   "execution_count": null,
   "metadata": {
    "id": "cZ1TW7T8dlvo"
   },
   "outputs": [],
   "source": [
    "# save input matrices in a jason file\n"
   ]
  },
  {
   "cell_type": "markdown",
   "metadata": {
    "id": "p7oqY_FNdUCZ"
   },
   "source": [
    "## Question 1b) Viterbi algorithm"
   ]
  },
  {
   "cell_type": "code",
   "execution_count": 55,
   "metadata": {
    "executionInfo": {
     "elapsed": 143,
     "status": "ok",
     "timestamp": 1731775826357,
     "user": {
      "displayName": "Céline Roget",
      "userId": "08909459524585325226"
     },
     "user_tz": 300
    },
    "id": "At6obKU09UcB"
   },
   "outputs": [],
   "source": [
    "# function to read the external parameters file\n",
    "def load_hmm_config(config_file):\n",
    "    with open(config_file, 'r') as file:\n",
    "        config = json.load(file)\n",
    "    return config['transitions'], config['emissions']\n",
    "\n",
    "#Implementation of Viterbi algo\n",
    "def viterbi(sequence, transitions, emissions):\n",
    "    n = len(sequence)\n",
    "    states = ['Intergenic', 'Start', 'Middle', 'Stop']\n",
    "    #initialize the matrix V with -infty\n",
    "    V = {state: np.full(n, -np.inf) for state in states}\n",
    "    #initialize the backtrack matrix\n",
    "    backtrack = {state: np.full(n, None) for state in states}\n",
    "\n",
    "    # Initialize the first position\n",
    "    V['Intergenic'][0] = 0  # log(1) = 0 since starting in Intergenic state\n",
    "\n",
    "    # Fill the dynamic programming table\n",
    "    for i in range(1, n):\n",
    "        nucleotide = sequence[i]\n",
    "        codon = sequence[i-3:i] if i >= 3 else None\n",
    "\n",
    "        # Calculate log probabilities for each state\n",
    "        for state in states:\n",
    "            if state == 'Intergenic':\n",
    "                max_prob, max_state = max(\n",
    "                    (V[prev_state][i-1] + transitions[prev_state].get(state, -np.inf) + emissions[state].get(nucleotide, -np.inf), prev_state)\n",
    "                    for prev_state in states\n",
    "                )\n",
    "                #update the V matrix with the max value\n",
    "                V[state][i] = max_prob\n",
    "                #update the backtrac matrix with the state leading to the max value\n",
    "                backtrack[state][i] = max_state\n",
    "\n",
    "            elif state == 'Start':\n",
    "                if i >= 3:\n",
    "                    max_prob, max_state = max(\n",
    "                        (V[prev_state][i-3] + transitions[prev_state].get(state, -np.inf) + emissions[state].get(codon, -np.inf), prev_state)\n",
    "                        for prev_state in states\n",
    "                    )\n",
    "                    #update the V matrix and backtrack matrix\n",
    "                    V[state][i] = max_prob\n",
    "                    backtrack[state][i] = max_state\n",
    "\n",
    "            elif state == 'Middle':\n",
    "                if i >= 3:\n",
    "                    max_prob, max_state = max(\n",
    "                        (V[prev_state][i-3] + transitions[prev_state].get(state, -np.inf) + emissions[state].get(codon, -np.inf), prev_state)\n",
    "                        for prev_state in states\n",
    "                    )\n",
    "                    #update the V matrix and backtrack matrix\n",
    "                    V[state][i] = max_prob\n",
    "                    backtrack[state][i] = max_state\n",
    "\n",
    "            elif state == 'Stop':\n",
    "                if i >= 3:\n",
    "                    max_prob, max_state = max(\n",
    "                        (V[prev_state][i-3] + transitions[prev_state].get(state, -np.inf) + emissions[state].get(codon, -np.inf), prev_state)\n",
    "                        for prev_state in states\n",
    "                    )\n",
    "                    #update the V matrix and backtrack matrix\n",
    "                    V[state][i] = max_prob\n",
    "                    backtrack[state][i] = max_state\n",
    "\n",
    "    # Backtrack to determine the most likely path\n",
    "    best_path = []\n",
    "    # start with the max of the last column of matrix V\n",
    "    max_final_state = max(states, key=lambda state: V[state][n-1])\n",
    "\n",
    "    current_state = max_final_state\n",
    "\n",
    "    i = n - 1\n",
    "    # Backtrack the max proba states until beginning of sequence\n",
    "    while i >= 0:\n",
    "      if current_state == 'Intergenic':\n",
    "         best_path.append((current_state, i))\n",
    "         current_state = backtrack[current_state][i]\n",
    "         i = i-1\n",
    "\n",
    "      if current_state in ['Start', 'Middle', 'Stop']:\n",
    "          for k in range(0,3):\n",
    "            # add the current state in the 3 positions of the codon:\n",
    "            best_path.append((current_state, i-k))\n",
    "          current_state = backtrack[current_state][i]\n",
    "          i = i-3\n",
    "    # reverse the path to get a path from beginning to end of sequence\n",
    "    best_path.reverse()\n",
    "    assert(n==len(best_path))\n",
    "\n",
    "    # Extract gene predictions from best_path\n",
    "    genes = []\n",
    "    gene_start = None\n",
    "\n",
    "    for state, pos in best_path:\n",
    "        if state == 'Start':\n",
    "            gene_start = pos\n",
    "        elif state == 'Stop' and gene_start is not None:\n",
    "            genes.append((gene_start -2, pos + 2))  # Adjust to 1-based indexing and include last codon\n",
    "            gene_start = None\n",
    "\n",
    "    return genes\n",
    "\n",
    "# function that predicts genes in a genome_file, and save the predicted genes in a gff3 format.\n",
    "def predict_genes(genome_file, config_file, output_file):\n",
    "    transitions, emissions = load_hmm_config(config_file)\n",
    "    # read the genome file\n",
    "    genome_record = read_genome_sequence(genome_file)\n",
    "    #sort genome_record by contig\n",
    "    genome_record = genome_record[genome_record[:, 0].argsort()]\n",
    "    #open output file:\n",
    "    with open(output_file, 'w') as out:\n",
    "    # predict genes for each contig\n",
    "      for contig_id, sequence in genome_record:\n",
    "        genes = viterbi(sequence, transitions, emissions)\n",
    "        # Write each gene prediction in GFF format\n",
    "        for start, end in genes:\n",
    "          out.write(f\"{contig_id}\\tena\\tCDS\\t{start}\\t{end}\\t.\\t+\\t0\\t.\\n\")\n"
   ]
  },
  {
   "cell_type": "code",
   "execution_count": 37,
   "metadata": {
    "executionInfo": {
     "elapsed": 79432,
     "status": "ok",
     "timestamp": 1731775202955,
     "user": {
      "displayName": "Céline Roget",
      "userId": "08909459524585325226"
     },
     "user_tz": 300
    },
    "id": "nVMKrk2Txecq"
   },
   "outputs": [],
   "source": [
    "output_file = 'predicted_genes_Vibrio_cholerae.gff3'\n",
    "predict_genes(genome_file, 'hmm_config.json', output_file)"
   ]
  },
  {
   "cell_type": "code",
   "execution_count": 38,
   "metadata": {
    "executionInfo": {
     "elapsed": 8,
     "status": "ok",
     "timestamp": 1731775202955,
     "user": {
      "displayName": "Céline Roget",
      "userId": "08909459524585325226"
     },
     "user_tz": 300
    },
    "id": "miZHutSY9v-F"
   },
   "outputs": [],
   "source": [
    "#Import the resulting annotated genome\n",
    "output_file = 'predicted_genes_Vibrio_cholerae.gff3'\n",
    "cds_predictions = parse_annotations(output_file)\n"
   ]
  },
  {
   "cell_type": "code",
   "execution_count": 31,
   "metadata": {
    "executionInfo": {
     "elapsed": 125,
     "status": "ok",
     "timestamp": 1731774972947,
     "user": {
      "displayName": "Céline Roget",
      "userId": "08909459524585325226"
     },
     "user_tz": 300
    },
    "id": "UqwHQy0q4gI9"
   },
   "outputs": [],
   "source": [
    "# analysis of perfect matches, start only matches, stop only matches and no match\n",
    "def matches(cds_predictions, cds_features):\n",
    "  perfect_matches = 0\n",
    "  start_matches = 0\n",
    "  stop_matches = 0\n",
    "  no_match = 0\n",
    "  n = len(cds_predictions)\n",
    "\n",
    "  for i in range(n):\n",
    "    contig = cds_predictions[i,0]\n",
    "    gene = cds_predictions[i,1:3]\n",
    "    annotated_genes = cds_features[cds_features[:,0]==contig][:,1:3]\n",
    "    m = len(annotated_genes)\n",
    "    for j in range(m):\n",
    "      if gene[0] == annotated_genes[j,0] and gene[1] == annotated_genes[j,1]:\n",
    "        perfect_matches += 1\n",
    "        break\n",
    "      elif gene[0] == annotated_genes[j,0]:\n",
    "        start_matches += 1\n",
    "        break\n",
    "      elif gene[1] == annotated_genes[j,1]:\n",
    "        stop_matches += 1\n",
    "        break\n",
    "    no_match = n - perfect_matches - start_matches - stop_matches\n",
    "  return perfect_matches, start_matches, stop_matches, no_match\n",
    "\n"
   ]
  },
  {
   "cell_type": "code",
   "execution_count": 32,
   "metadata": {
    "colab": {
     "base_uri": "https://localhost:8080/"
    },
    "executionInfo": {
     "elapsed": 257,
     "status": "ok",
     "timestamp": 1731774985160,
     "user": {
      "displayName": "Céline Roget",
      "userId": "08909459524585325226"
     },
     "user_tz": 300
    },
    "id": "eE7JyMlw6xXY",
    "outputId": "76ce6566-db3f-4054-fff8-476d0b2f89af"
   },
   "outputs": [
    {
     "name": "stdout",
     "output_type": "stream",
     "text": [
      "Perfect matches: 1246\n",
      "Start only matches: 0\n",
      "Stop only matches: 377\n",
      "No match: 761\n"
     ]
    }
   ],
   "source": [
    "perfect_match, start_match, stop_match, no_match = matches(cds_predictions, cds)\n",
    "print(f\"Perfect matches: {perfect_match}\")\n",
    "print(f\"Start only matches: {start_match}\")\n",
    "print(f\"Stop only matches: {stop_match}\")\n",
    "print(f\"No match: {no_match}\")"
   ]
  },
  {
   "cell_type": "code",
   "execution_count": 33,
   "metadata": {
    "colab": {
     "base_uri": "https://localhost:8080/"
    },
    "executionInfo": {
     "elapsed": 141,
     "status": "ok",
     "timestamp": 1731774987891,
     "user": {
      "displayName": "Céline Roget",
      "userId": "08909459524585325226"
     },
     "user_tz": 300
    },
    "id": "tU_tK_8X8uxt",
    "outputId": "eaea29b5-a3df-475b-b914-498227316415"
   },
   "outputs": [
    {
     "name": "stdout",
     "output_type": "stream",
     "text": [
      "Ratio of perfect matches: 52.27%\n",
      "Ratio of start only matches: 0.00%\n",
      "Ratio of stop only matches: 15.81%\n",
      "Ratio of no match: 31.92%\n"
     ]
    }
   ],
   "source": [
    "ratio_perfect_match = perfect_match/len(cds_predictions)\n",
    "ratio_start_match = start_match/len(cds_predictions)\n",
    "ratio_stop_match = stop_match/len(cds_predictions)\n",
    "ratio_no_match = no_match/len(cds_predictions)\n",
    "## Print ratios as percentages with 2 decimal places\n",
    "print(f\"Ratio of perfect matches: {ratio_perfect_match * 100:.2f}%\")\n",
    "print(f\"Ratio of start only matches: {ratio_start_match * 100:.2f}%\")\n",
    "print(f\"Ratio of stop only matches: {ratio_stop_match * 100:.2f}%\")\n",
    "print(f\"Ratio of no match: {ratio_no_match * 100:.2f}%\")"
   ]
  },
  {
   "cell_type": "code",
   "execution_count": 34,
   "metadata": {
    "colab": {
     "base_uri": "https://localhost:8080/"
    },
    "executionInfo": {
     "elapsed": 272,
     "status": "ok",
     "timestamp": 1731774994624,
     "user": {
      "displayName": "Céline Roget",
      "userId": "08909459524585325226"
     },
     "user_tz": 300
    },
    "id": "WteBJjLI8WDC",
    "outputId": "99e80120-03c0-48a9-a1c8-9fd597e17ce3"
   },
   "outputs": [
    {
     "name": "stdout",
     "output_type": "stream",
     "text": [
      "Perfect matches: 1246\n",
      "Start only matches: 0\n",
      "Stop only matches: 377\n",
      "No match: 91\n"
     ]
    }
   ],
   "source": [
    "perfect_match, start_match, stop_match, no_match = matches(cds,cds_predictions)\n",
    "print(f\"Perfect matches: {perfect_match}\")\n",
    "print(f\"Start only matches: {start_match}\")\n",
    "print(f\"Stop only matches: {stop_match}\")\n",
    "print(f\"No match: {no_match}\")"
   ]
  },
  {
   "cell_type": "code",
   "execution_count": 35,
   "metadata": {
    "colab": {
     "base_uri": "https://localhost:8080/"
    },
    "executionInfo": {
     "elapsed": 128,
     "status": "ok",
     "timestamp": 1731774997096,
     "user": {
      "displayName": "Céline Roget",
      "userId": "08909459524585325226"
     },
     "user_tz": 300
    },
    "id": "ULIKrgA-8hQ3",
    "outputId": "6fc38173-15ea-4d2d-efd9-31ed06883c6c"
   },
   "outputs": [
    {
     "name": "stdout",
     "output_type": "stream",
     "text": [
      "Ratio of perfect matches: 72.70%\n",
      "Ratio of start only matches: 0.00%\n",
      "Ratio of stop only matches: 22.00%\n",
      "Ratio of no match: 5.31%\n"
     ]
    }
   ],
   "source": [
    "ratio_perfect_match = perfect_match/len(cds)\n",
    "ratio_start_match = start_match/len(cds)\n",
    "ratio_stop_match = stop_match/len(cds)\n",
    "ratio_no_match = no_match/len(cds)\n",
    "# Print ratios as percentages with 2 decimal places\n",
    "print(f\"Ratio of perfect matches: {ratio_perfect_match * 100:.2f}%\")\n",
    "print(f\"Ratio of start only matches: {ratio_start_match * 100:.2f}%\")\n",
    "print(f\"Ratio of stop only matches: {ratio_stop_match * 100:.2f}%\")\n",
    "print(f\"Ratio of no match: {ratio_no_match * 100:.2f}%\")"
   ]
  },
  {
   "cell_type": "markdown",
   "metadata": {
    "id": "4T5SvUdVLXH4"
   },
   "source": [
    "## Question 1c) Test the model on a genome (Vibrio Vulnificus)"
   ]
  },
  {
   "cell_type": "code",
   "execution_count": 56,
   "metadata": {
    "executionInfo": {
     "elapsed": 99373,
     "status": "ok",
     "timestamp": 1731775949922,
     "user": {
      "displayName": "Céline Roget",
      "userId": "08909459524585325226"
     },
     "user_tz": 300
    },
    "id": "pT25vBDMLbN-"
   },
   "outputs": [],
   "source": [
    "genome_file = '/content/drive/MyDrive/ColabNotebooks/COMP561/Vibrio_vulnificus.ASM74310v1.dna.toplevel.fa.gz'\n",
    "#predict genes\n",
    "output_file = 'predicted_genes_vibrio_vulnificus.gff3'\n",
    "predict_genes(genome_file, 'hmm_config.json', output_file)\n"
   ]
  },
  {
   "cell_type": "markdown",
   "metadata": {
    "id": "PMNesBF-2hZ9"
   },
   "source": [
    "## Question 1d) Accuracy of predicted genes"
   ]
  },
  {
   "cell_type": "code",
   "execution_count": 40,
   "metadata": {
    "executionInfo": {
     "elapsed": 1269,
     "status": "ok",
     "timestamp": 1731775303568,
     "user": {
      "displayName": "Céline Roget",
      "userId": "08909459524585325226"
     },
     "user_tz": 300
    },
    "id": "Z5UPkSnWZJMn"
   },
   "outputs": [],
   "source": [
    "annotation_file = '/content/drive/MyDrive/ColabNotebooks/COMP561/Vibrio_vulnificus.ASM74310v1.37.gff3.gz'\n",
    "cds_features = parse_annotations(annotation_file)\n",
    "#cds without overlap\n",
    "cds = remove_overlap(cds_features)\n",
    "cds_predictions = parse_annotations(output_file)\n"
   ]
  },
  {
   "cell_type": "code",
   "execution_count": 41,
   "metadata": {
    "colab": {
     "base_uri": "https://localhost:8080/"
    },
    "executionInfo": {
     "elapsed": 189,
     "status": "ok",
     "timestamp": 1731775303753,
     "user": {
      "displayName": "Céline Roget",
      "userId": "08909459524585325226"
     },
     "user_tz": 300
    },
    "id": "A-sY_bpSOrwH",
    "outputId": "78d64735-7caf-4a3f-cbce-f541e173f600"
   },
   "outputs": [
    {
     "name": "stdout",
     "output_type": "stream",
     "text": [
      "Perfect matches: 1469\n",
      "Start only matches: 0\n",
      "Stop only matches: 478\n",
      "No match: 1035\n"
     ]
    }
   ],
   "source": [
    "#compare predicted genes to annotated genes\n",
    "perfect_match, start_match, stop_match, no_match = matches(cds_predictions, cds)\n",
    "\n",
    "print(f\"Perfect matches: {perfect_match}\")\n",
    "print(f\"Start only matches: {start_match}\")\n",
    "print(f\"Stop only matches: {stop_match}\")\n",
    "print(f\"No match: {no_match}\")"
   ]
  },
  {
   "cell_type": "code",
   "execution_count": 42,
   "metadata": {
    "colab": {
     "base_uri": "https://localhost:8080/"
    },
    "executionInfo": {
     "elapsed": 140,
     "status": "ok",
     "timestamp": 1731775389321,
     "user": {
      "displayName": "Céline Roget",
      "userId": "08909459524585325226"
     },
     "user_tz": 300
    },
    "id": "aoWmj0ox_jMB",
    "outputId": "dce480c9-c5f2-4386-e986-b84db925e273"
   },
   "outputs": [
    {
     "name": "stdout",
     "output_type": "stream",
     "text": [
      "Ratio of perfect matches: 49.26%\n",
      "Ratio of start only matches: 0.00%\n",
      "Ratio of stop only matches: 16.03%\n",
      "Ratio of no match: 34.71%\n"
     ]
    }
   ],
   "source": [
    "n= len(cds_predictions)\n",
    "ratio_perfect_match = perfect_match/n\n",
    "ratio_start_match = start_match/n\n",
    "ratio_stop_match = stop_match/n\n",
    "ratio_no_match = no_match/n\n",
    "## Print ratios as percentages with 2 decimal places\n",
    "print(f\"Ratio of perfect matches: {ratio_perfect_match * 100:.2f}%\")\n",
    "print(f\"Ratio of start only matches: {ratio_start_match * 100:.2f}%\")\n",
    "print(f\"Ratio of stop only matches: {ratio_stop_match * 100:.2f}%\")\n",
    "print(f\"Ratio of no match: {ratio_no_match * 100:.2f}%\")"
   ]
  },
  {
   "cell_type": "code",
   "execution_count": 43,
   "metadata": {
    "colab": {
     "base_uri": "https://localhost:8080/"
    },
    "executionInfo": {
     "elapsed": 303,
     "status": "ok",
     "timestamp": 1731775395518,
     "user": {
      "displayName": "Céline Roget",
      "userId": "08909459524585325226"
     },
     "user_tz": 300
    },
    "id": "kFJ3dvdi_LH8",
    "outputId": "d228ab45-a21f-48ac-c6ee-6ae9a7012631"
   },
   "outputs": [
    {
     "name": "stdout",
     "output_type": "stream",
     "text": [
      "Perfect matches: 1469\n",
      "Start only matches: 0\n",
      "Stop only matches: 478\n",
      "No match: 266\n"
     ]
    }
   ],
   "source": [
    "#compare predicted genes to annotated genes\n",
    "perfect_match, start_match, stop_match, no_match = matches(cds, cds_predictions)\n",
    "\n",
    "print(f\"Perfect matches: {perfect_match}\")\n",
    "print(f\"Start only matches: {start_match}\")\n",
    "print(f\"Stop only matches: {stop_match}\")\n",
    "print(f\"No match: {no_match}\")"
   ]
  },
  {
   "cell_type": "code",
   "execution_count": 44,
   "metadata": {
    "colab": {
     "base_uri": "https://localhost:8080/"
    },
    "executionInfo": {
     "elapsed": 141,
     "status": "ok",
     "timestamp": 1731775397371,
     "user": {
      "displayName": "Céline Roget",
      "userId": "08909459524585325226"
     },
     "user_tz": 300
    },
    "id": "x4DTLpGt_dhS",
    "outputId": "9d1b7b59-6296-4f9e-da06-cecea8cb99c1"
   },
   "outputs": [
    {
     "name": "stdout",
     "output_type": "stream",
     "text": [
      "Ratio of perfect matches: 66.38%\n",
      "Ratio of start only matches: 0.00%\n",
      "Ratio of stop only matches: 21.60%\n",
      "Ratio of no match: 12.02%\n"
     ]
    }
   ],
   "source": [
    "n = len(cds)\n",
    "ratio_perfect_match = perfect_match/n\n",
    "ratio_start_match = start_match/n\n",
    "ratio_stop_match = stop_match/n\n",
    "ratio_no_match = no_match/n\n",
    "## Print ratios as percentages with 2 decimal places\n",
    "print(f\"Ratio of perfect matches: {ratio_perfect_match * 100:.2f}%\")\n",
    "print(f\"Ratio of start only matches: {ratio_start_match * 100:.2f}%\")\n",
    "print(f\"Ratio of stop only matches: {ratio_stop_match * 100:.2f}%\")\n",
    "print(f\"Ratio of no match: {ratio_no_match * 100:.2f}%\")"
   ]
  },
  {
   "cell_type": "code",
   "execution_count": 45,
   "metadata": {
    "colab": {
     "base_uri": "https://localhost:8080/"
    },
    "executionInfo": {
     "elapsed": 167,
     "status": "ok",
     "timestamp": 1731775403717,
     "user": {
      "displayName": "Céline Roget",
      "userId": "08909459524585325226"
     },
     "user_tz": 300
    },
    "id": "jh_yo8SV_1nl",
    "outputId": "31e55955-01bc-4898-c07c-9644ac1a0310"
   },
   "outputs": [
    {
     "name": "stdout",
     "output_type": "stream",
     "text": [
      "Number of predicted genes: 2982\n",
      "Number of annotated genes: 2213\n"
     ]
    }
   ],
   "source": [
    "#number of predicted genes\n",
    "print(f\"Number of predicted genes: {len(cds_predictions)}\")\n",
    "#number of annotated genes\n",
    "print(f\"Number of annotated genes: {len(cds)}\")"
   ]
  },
  {
   "cell_type": "markdown",
   "metadata": {
    "id": "LEjVUN8RBsPE"
   },
   "source": [
    "##Question 1e) Undetected genes"
   ]
  },
  {
   "cell_type": "code",
   "execution_count": 46,
   "metadata": {
    "executionInfo": {
     "elapsed": 824,
     "status": "ok",
     "timestamp": 1731775410608,
     "user": {
      "displayName": "Céline Roget",
      "userId": "08909459524585325226"
     },
     "user_tz": 300
    },
    "id": "16GiKXImA_Ml"
   },
   "outputs": [],
   "source": [
    "# read genome\n",
    "genome_file = '/content/drive/MyDrive/ColabNotebooks/COMP561/Vibrio_vulnificus.ASM74310v1.dna.toplevel.fa.gz'\n",
    "genome_record = read_genome_sequence(genome_file)\n",
    "#save genome_record in txt file\n",
    "with open('genome_record_Vibrio_Vulnificus.txt', 'w') as file:\n",
    "    for record in genome_record:\n",
    "        file.write(f\"{record[0]}\\t{record[1]}\\n\")"
   ]
  },
  {
   "cell_type": "code",
   "execution_count": 47,
   "metadata": {
    "colab": {
     "base_uri": "https://localhost:8080/"
    },
    "executionInfo": {
     "elapsed": 1458,
     "status": "ok",
     "timestamp": 1731775423989,
     "user": {
      "displayName": "Céline Roget",
      "userId": "08909459524585325226"
     },
     "user_tz": 300
    },
    "id": "O8jEQb3aW3TS",
    "outputId": "eb724757-bd06-4dee-dcbf-acc7301ca643"
   },
   "outputs": [
    {
     "name": "stdout",
     "output_type": "stream",
     "text": [
      "Start codon not in ATG, GTG, TTG: CTA\n",
      "contig_32 3 236\n",
      "Start codon not in ATG, GTG, TTG: ATA\n",
      "contig_32 47600 48322\n",
      "Start codon not in ATG, GTG, TTG: CTA\n",
      "contig_17 2 235\n",
      "Start codon not in ATG, GTG, TTG: GTC\n",
      "contig_9 1 237\n",
      "Start codon not in ATG, GTG, TTG: ATT\n",
      "contig_25 26916 27113\n",
      "Start codon not in ATG, GTG, TTG: CAA\n",
      "contig_33 2 232\n",
      "Start codon not in ATG, GTG, TTG: ATA\n",
      "contig_33 4131 5648\n",
      "Start codon not in ATG, GTG, TTG: AAT\n",
      "contig_30 1 231\n",
      "Start codon not in ATG, GTG, TTG: CTA\n",
      "contig_4 1 234\n",
      "Start codon not in ATG, GTG, TTG: CTA\n",
      "contig_36 2 235\n",
      "Start codon not in ATG, GTG, TTG: ATA\n",
      "contig_60 79710 80237\n",
      "Start codon not in ATG, GTG, TTG: CTA\n",
      "contig_15 3 236\n",
      "Start codon not in ATG, GTG, TTG: AAT\n",
      "contig_14 3 233\n",
      "Start codon not in ATG, GTG, TTG: AAT\n",
      "contig_5 1 231\n",
      "Start codon not in ATG, GTG, TTG: TTC\n",
      "contig_76 1 237\n",
      "Start codon not in ATG, GTG, TTG: ATT\n",
      "contig_76 24462 25946\n",
      "Start codon not in ATG, GTG, TTG: CTA\n",
      "contig_18 1 234\n",
      "Start codon not in ATG, GTG, TTG: GTC\n",
      "contig_27 1 237\n",
      "Start codon not in ATG, GTG, TTG: CTT\n",
      "contig_6 1 222\n",
      "Start codon not in ATG, GTG, TTG: AAT\n",
      "contig_35 3 233\n",
      "Start codon not in ATG, GTG, TTG: CTA\n",
      "contig_56 3 236\n",
      "Start codon not in ATG, GTG, TTG: GTC\n",
      "contig_98 2 238\n",
      "Start codon not in ATG, GTG, TTG: CTA\n",
      "contig_117 1 234\n",
      "Start codon not in ATG, GTG, TTG: CTA\n",
      "contig_80 3 236\n",
      "Start codon not in ATG, GTG, TTG: GTC\n",
      "contig_138 1 237\n",
      "Start codon not in ATG, GTG, TTG: CTA\n",
      "contig_34 1 234\n",
      "Start codon not in ATG, GTG, TTG: GTC\n",
      "contig_75 1 237\n",
      "Start codon not in ATG, GTG, TTG: GAA\n",
      "contig_3 2 226\n",
      "Start codon not in ATG, GTG, TTG: CTA\n",
      "contig_118 2 235\n",
      "Start codon not in ATG, GTG, TTG: CTA\n",
      "contig_68 1 234\n",
      "Start codon not in ATG, GTG, TTG: CTG\n",
      "contig_68 4992 5816\n",
      "Start codon not in ATG, GTG, TTG: CTA\n",
      "contig_57 1 234\n",
      "Start codon not in ATG, GTG, TTG: CTA\n",
      "contig_87 2 235\n",
      "Start codon not in ATG, GTG, TTG: AAT\n",
      "contig_13 3 233\n",
      "Start codon not in ATG, GTG, TTG: CTA\n",
      "contig_74 2 235\n",
      "Start codon not in ATG, GTG, TTG: GTC\n",
      "contig_12 2 238\n",
      "Start codon not in ATG, GTG, TTG: CTA\n",
      "contig_122 1 234\n",
      "Start codon not in ATG, GTG, TTG: GTC\n",
      "contig_77 2 238\n",
      "Start codon not in ATG, GTG, TTG: ATT\n",
      "contig_88 19867 20865\n",
      "Start codon not in ATG, GTG, TTG: GTC\n",
      "contig_120 3 239\n",
      "Start codon not in ATG, GTG, TTG: ATA\n",
      "contig_120 246 1418\n",
      "Start codon not in ATG, GTG, TTG: CTT\n",
      "contig_69 2 223\n",
      "Start codon not in ATG, GTG, TTG: CTA\n",
      "contig_109 1 234\n",
      "Start codon not in ATG, GTG, TTG: ATC\n",
      "contig_58 223 750\n",
      "Start codon not in ATG, GTG, TTG: ATA\n",
      "contig_28 4127 5047\n",
      "Start codon not in ATG, GTG, TTG: CTA\n",
      "contig_163 1 234\n",
      "Start codon not in ATG, GTG, TTG: GTC\n",
      "contig_103 1 237\n",
      "Start codon not in ATG, GTG, TTG: CTA\n",
      "contig_92 1 234\n",
      "Start codon not in ATG, GTG, TTG: CTG\n",
      "contig_92 1201 2085\n",
      "Start codon not in ATG, GTG, TTG: CTA\n",
      "contig_151 2 235\n",
      "Start codon not in ATG, GTG, TTG: CTG\n",
      "contig_161 766 1095\n",
      "Start codon not in ATG, GTG, TTG: TTC\n",
      "contig_95 1 237\n",
      "Start codon not in ATG, GTG, TTG: GAA\n",
      "contig_105 1 225\n",
      "Start codon not in ATG, GTG, TTG: CTA\n",
      "contig_129 1 234\n",
      "Start codon not in ATG, GTG, TTG: AAT\n",
      "contig_119 2 232\n",
      "Start codon not in ATG, GTG, TTG: TAC\n",
      "contig_145 2 205\n",
      "Start codon not in ATG, GTG, TTG: CTA\n",
      "contig_65 2 235\n",
      "Start codon not in ATG, GTG, TTG: CTA\n",
      "contig_94 3 236\n",
      "Start codon not in ATG, GTG, TTG: CTA\n",
      "contig_64 1 234\n",
      "Start codon not in ATG, GTG, TTG: CTA\n",
      "contig_113 2 235\n",
      "Start codon not in ATG, GTG, TTG: CTA\n",
      "contig_185 1 234\n",
      "Start codon not in ATG, GTG, TTG: CTA\n",
      "contig_123 1 234\n",
      "Start codon not in ATG, GTG, TTG: CTA\n",
      "contig_38 1 234\n",
      "Start codon not in ATG, GTG, TTG: ATA\n",
      "contig_201 2054 2605\n",
      "Start codon not in ATG, GTG, TTG: ATC\n",
      "contig_198 3 230\n",
      "Start codon not in ATG, GTG, TTG: AAT\n",
      "contig_180 3 233\n",
      "Start codon not in ATG, GTG, TTG: ATT\n",
      "contig_24 243 1286\n",
      "Start codon not in ATG, GTG, TTG: CTA\n",
      "contig_192 2 235\n",
      "Start codon not in ATG, GTG, TTG: CCC\n",
      "contig_287 2 460\n",
      "Start codon not in ATG, GTG, TTG: TTA\n",
      "contig_318 1 387\n",
      "Start codon not in ATG, GTG, TTG: CTG\n",
      "contig_252 2 667\n",
      "Start codon not in ATG, GTG, TTG: GAA\n",
      "contig_366 3 622\n",
      "Start codon not in ATG, GTG, TTG: AAA\n",
      "contig_299 1 237\n",
      "Start codon not in ATG, GTG, TTG: TGT\n",
      "contig_364 2 602\n",
      "Start codon not in ATG, GTG, TTG: CAA\n",
      "contig_259 2 595\n",
      "Start codon not in ATG, GTG, TTG: GAC\n",
      "contig_373 2 490\n",
      "Start codon not in ATG, GTG, TTG: GAA\n",
      "contig_271 2 505\n",
      "Start codon not in ATG, GTG, TTG: AAT\n",
      "contig_245 3 488\n",
      "Start codon not in ATG, GTG, TTG: TAC\n",
      "contig_261 1 562\n",
      "Start codon not in ATG, GTG, TTG: ATC\n",
      "contig_248 1 561\n",
      "Start codon not in ATG, GTG, TTG: TGG\n",
      "contig_224 1 192\n",
      "Start codon not in ATG, GTG, TTG: TCT\n",
      "contig_368 3 514\n",
      "Start codon not in ATG, GTG, TTG: GTC\n",
      "contig_305 3 499\n",
      "Start codon not in ATG, GTG, TTG: CTG\n",
      "contig_293 22 411\n",
      "Start codon not in ATG, GTG, TTG: TTC\n",
      "contig_232 3 484\n",
      "Start codon not in ATG, GTG, TTG: GAG\n",
      "contig_321 2 400\n",
      "Start codon not in ATG, GTG, TTG: ATC\n",
      "contig_355 1 216\n",
      "Start codon not in ATG, GTG, TTG: CAA\n",
      "contig_357 3 450\n",
      "Start codon not in ATG, GTG, TTG: GCG\n",
      "contig_202 3 425\n",
      "Start codon not in ATG, GTG, TTG: ATT\n",
      "contig_265 128 421\n",
      "Start codon not in ATG, GTG, TTG: AAA\n",
      "contig_228 3 419\n",
      "Start codon not in ATG, GTG, TTG: GTA\n",
      "contig_291 3 408\n",
      "Start codon not in ATG, GTG, TTG: AAT\n",
      "contig_352 3 387\n",
      "Start codon not in ATG, GTG, TTG: GTT\n",
      "contig_362 1 380\n",
      "Start codon not in ATG, GTG, TTG: GAT\n",
      "contig_251 3 349\n",
      "Start codon not in ATG, GTG, TTG: ATA\n",
      "contig_377 1 321\n",
      "Start codon not in ATG, GTG, TTG: CAA\n",
      "contig_254 2 317\n",
      "Start codon not in ATG, GTG, TTG: TAT\n",
      "contig_218 2 292\n",
      "Start codon not in ATG, GTG, TTG: GCA\n",
      "contig_378 2 278\n",
      "Start codon not in ATG, GTG, TTG: ACG\n",
      "contig_277 3 270\n",
      "Start codon not in ATG, GTG, TTG: ATC\n",
      "contig_278 2 251\n",
      "Start codon not in ATG, GTG, TTG: GGG\n",
      "contig_189 1 240\n",
      "Average intergenic length: 1349.3639630390144\n",
      "Average CDS length: 912.8585630366019\n",
      "Nucleotide counts: {'T': 724439, 'C': 614239, 'G': 596643, 'A': 693240}\n",
      "Codon counts: {'AAA': 24445, 'AAC': 15095, 'AAG': 10805, 'AAT': 12443, 'ACA': 6451, 'ACC': 12453, 'ACG': 8453, 'ACT': 7554, 'AGA': 2630, 'AGC': 9263, 'AGG': 874, 'AGT': 7840, 'ATA': 2942, 'ATC': 17498, 'ATG': 16243, 'ATT': 20540, 'CAA': 21153, 'CAC': 7468, 'CAG': 11007, 'CAT': 7805, 'CCA': 9397, 'CCC': 3101, 'CCG': 5470, 'CCT': 7372, 'CGA': 4209, 'CGC': 9941, 'CGG': 1088, 'CGT': 12540, 'CTA': 7558, 'CTC': 8825, 'CTG': 14330, 'CTT': 10992, 'GAA': 27053, 'GAC': 13053, 'GAG': 16686, 'GAT': 22806, 'GCA': 14905, 'GCC': 12787, 'GCG': 19411, 'GCT': 12646, 'GGA': 4567, 'GGC': 16539, 'GGG': 5599, 'GGT': 18656, 'GTA': 7044, 'GTC': 9101, 'GTG': 18576, 'GTT': 13507, 'TAC': 10627, 'TAT': 9760, 'TCA': 7195, 'TCC': 3844, 'TCG': 6725, 'TCT': 9087, 'TGC': 2732, 'TGG': 8428, 'TGT': 4068, 'TTA': 11057, 'TTC': 10265, 'TTG': 16907, 'TTT': 17577}\n",
      "Start Codon counts: {'CTA': 29, 'ATG': 1888, 'GTG': 149, 'ATA': 7, 'TTG': 74, 'GTC': 10, 'ATT': 5, 'CAA': 4, 'AAT': 9, 'TTC': 3, 'CTT': 2, 'GAA': 4, 'CTG': 5, 'ATC': 5, 'TAC': 2, 'CCC': 1, 'TTA': 1, 'AAA': 2, 'TGT': 1, 'GAC': 1, 'TGG': 1, 'TCT': 1, 'GAG': 1, 'GCG': 1, 'GTA': 1, 'GTT': 1, 'GAT': 1, 'TAT': 1, 'GCA': 1, 'ACG': 1, 'GGG': 1}\n",
      "Stop Codon counts: {'TGA': 408, 'TAA': 1329, 'TAG': 390, 'GCG': 5, 'ACT': 10, 'GAC': 4, 'TAT': 6, 'CTA': 5, 'AGC': 2, 'CTC': 1, 'ATG': 10, 'CGA': 3, 'CGT': 2, 'TCA': 2, 'CAG': 2, 'CCT': 2, 'GTT': 3, 'ATC': 2, 'TGT': 1, 'AAA': 3, 'CAA': 1, 'CTT': 2, 'GTA': 1, 'ATA': 1, 'GCA': 1, 'TTA': 1, 'TAC': 1, 'ACC': 2, 'AAC': 1, 'CAC': 1, 'ATT': 2, 'ACG': 1, 'TCT': 1, 'GTC': 1, 'AAG': 1, 'GGC': 1, 'TGC': 1, 'GCC': 1, 'TTG': 1, 'AGG': 1}\n",
      "Total intergenic length: 2628561\n",
      "Total CDS length: 2020156\n",
      "Total number of nucleotides in intergenic regions: 2628561\n",
      "Total number of nucleotides in CDS: 2006979\n",
      "Difference between total intergenic length and nucleotides counts: 0\n",
      "Difference between total CDS length and codons counts: -101\n",
      "Total number of start codons: 2213\n",
      "Total number of stop codons: 2213\n"
     ]
    }
   ],
   "source": [
    "#compute average intergenic length\n",
    "intergenic_lengths, cds_lengths, nucl_count, codon_counts, codon_start, codon_stop = compute_length(genome_record, cds)\n",
    "#sort codon_counts by alphabetic order\n",
    "codon_counts = dict(sorted(codon_counts.items()))\n",
    "print(f\"Average intergenic length: {intergenic_lengths.mean()}\")\n",
    "print(f\"Average CDS length: {cds_lengths.mean()}\")\n",
    "print(f\"Nucleotide counts: {nucl_count}\")\n",
    "print(f\"Codon counts: {codon_counts}\")\n",
    "print(f\"Start Codon counts: {codon_start}\")\n",
    "print(f\"Stop Codon counts: {codon_stop}\")\n",
    "\n",
    "print(f\"Total intergenic length: {intergenic_lengths.sum()}\")\n",
    "print(f\"Total CDS length: {cds_lengths.sum()}\")\n",
    "#validate total number of nucleotides\n",
    "print(f\"Total number of nucleotides in intergenic regions: {sum(nucl_count.values())}\")\n",
    "#validate total number of codons in CDS\n",
    "print(f\"Total number of nucleotides in CDS: {sum(codon_counts.values())*3}\")\n",
    "#difference between total intergenic length and nucleotides counts\n",
    "print(f\"Difference between total intergenic length and nucleotides counts: {intergenic_lengths.sum() - sum(nucl_count.values())}\")\n",
    "#difference between total CDS length and codons counts\n",
    "print(f\"Difference between total CDS length and codons counts: {cds_lengths.sum() - (sum(codon_counts.values())+sum(codon_start.values())+sum(codon_stop.values()))*3}\")\n",
    "print(f\"Total number of start codons: {sum(codon_start.values())}\")\n",
    "print(f\"Total number of stop codons: {sum(codon_stop.values())}\")\n"
   ]
  },
  {
   "cell_type": "code",
   "execution_count": 48,
   "metadata": {
    "executionInfo": {
     "elapsed": 152,
     "status": "ok",
     "timestamp": 1731775435741,
     "user": {
      "displayName": "Céline Roget",
      "userId": "08909459524585325226"
     },
     "user_tz": 300
    },
    "id": "1pujLENzTt58"
   },
   "outputs": [],
   "source": [
    "#function that find the different types of matches and retrieve the corresponding genes\n",
    "def find_matches(cds_predictions, cds_features, genome):\n",
    "  perfect_matches = []\n",
    "  start_matches = []\n",
    "  stop_matches = []\n",
    "  no_match = []\n",
    "  n = len(cds_predictions)\n",
    "  #sort cds_features by contig and by start position\n",
    "  cds_features = cds_features[cds_features[:,0].argsort()]\n",
    "  cds_features = cds_features[cds_features[:,1].argsort()]\n",
    "\n",
    "  #print(n)\n",
    "  for i in range(n):\n",
    "    contig = cds_predictions[i,0]\n",
    "    gene = cds_predictions[i,1:3]\n",
    "    st= gene[0]\n",
    "    end = gene[1]\n",
    "    seq = genome[np.where(genome[:, 0] == contig)][0,1][st-1:end]\n",
    "   # print(st,end, seq)\n",
    "    annotated_genes = cds_features[cds_features[:,0]==contig][:,1:3]\n",
    "    m = len(annotated_genes)\n",
    "    status = 0\n",
    "    min_st = 0\n",
    "    min_end =0\n",
    "    for j in range(m):\n",
    "      an_st = annotated_genes[j,0]\n",
    "      an_end = annotated_genes[j,1]\n",
    "      if j<m-1:\n",
    "        next_st = annotated_genes[j+1,0]\n",
    "        next_end = annotated_genes[j+1,1]\n",
    "      if j == 0:\n",
    "        min_st = an_st\n",
    "        min_end = an_end\n",
    "      elif an_st < st:\n",
    "        min_st = an_st\n",
    "        min_end = an_end\n",
    "      elif end < an_end:\n",
    "        break\n",
    "    #  print(an_st, an_end)\n",
    "      if st == an_st and end == an_end:\n",
    "        perfect_matches.append((contig, st, end, an_st, an_end, seq))\n",
    "        status = 1\n",
    "        break\n",
    "      elif st == an_st:\n",
    "        start_matches.append((contig, st, end, an_st, an_end, seq))\n",
    "        status = 1\n",
    "        break\n",
    "      elif end == an_end:\n",
    "        stop_matches.append((contig, st, end, an_st, an_end, seq))\n",
    "        status = 1\n",
    "        break\n",
    "    if status == 0:\n",
    "      no_match.append((contig, st, end, min_st, min_end, next_st, next_end, seq))\n",
    "  return np.array(perfect_matches), np.array(start_matches), np.array(stop_matches), np.array(no_match)\n"
   ]
  },
  {
   "cell_type": "code",
   "execution_count": 49,
   "metadata": {
    "executionInfo": {
     "elapsed": 1834,
     "status": "ok",
     "timestamp": 1731775445799,
     "user": {
      "displayName": "Céline Roget",
      "userId": "08909459524585325226"
     },
     "user_tz": 300
    },
    "id": "Z3S03CI5WnrQ"
   },
   "outputs": [],
   "source": [
    "perfect_matches, start_matches, stop_matches, no_match = find_matches(cds_predictions, cds, genome_record)"
   ]
  },
  {
   "cell_type": "code",
   "execution_count": 50,
   "metadata": {
    "colab": {
     "base_uri": "https://localhost:8080/"
    },
    "executionInfo": {
     "elapsed": 137,
     "status": "ok",
     "timestamp": 1731775448488,
     "user": {
      "displayName": "Céline Roget",
      "userId": "08909459524585325226"
     },
     "user_tz": 300
    },
    "id": "MRTkV9VCWwIc",
    "outputId": "53a70edd-ee66-4cf6-bb11-dafba0d5a66d"
   },
   "outputs": [
    {
     "name": "stdout",
     "output_type": "stream",
     "text": [
      "Number of perfect matches: 1469\n",
      "Number of start matches: 0\n",
      "Number of stop matches: 478\n",
      "Number of no match: 1035\n"
     ]
    }
   ],
   "source": [
    "print(f\"Number of perfect matches: {len(perfect_matches)}\")\n",
    "print(f\"Number of start matches: {len(start_matches)}\")\n",
    "print(f\"Number of stop matches: {len(stop_matches)}\")\n",
    "print(f\"Number of no match: {len(no_match)}\")"
   ]
  },
  {
   "cell_type": "code",
   "execution_count": 51,
   "metadata": {
    "colab": {
     "base_uri": "https://localhost:8080/"
    },
    "executionInfo": {
     "elapsed": 143,
     "status": "ok",
     "timestamp": 1731775451159,
     "user": {
      "displayName": "Céline Roget",
      "userId": "08909459524585325226"
     },
     "user_tz": 300
    },
    "id": "UQf8hNndYvPf",
    "outputId": "4c51b1da-daff-450e-e3c3-6ed0b4f8ee81"
   },
   "outputs": [
    {
     "name": "stdout",
     "output_type": "stream",
     "text": [
      "predicted genes - no match in annotated genome: \n",
      "[['contig_1' '242' '1327' '1317' '1838' '7266' '7907'\n",
      "  'GTGCTCGCGTTTTTGACCTTCGGTTTCAGTGTTCTCGGCACTTTTATTGTCCGCTCGGGGATTTTGACATCGGTCCATGCGTTTGCCGTGGATCCAACCAAAGGTATTGTGCTTTTGCTGGTCATGGCGTTCATTTTTTTACTCACTTTTGCGTTATTGATCCTCAAAAGCGATAGCATTCCCGCTAAAGCCATTACCCATTGGCTAAGTCGCCAATACCTTACGGTGGTGGCGATGGGACTGTTACTGATCGCAACCAGTACCGTGTTCCTTGGCACCTTCTACCCAATGATTTATGAGCTGTTGCGGCTTGGAAGCATCTCTGTGGGTGCACCGTATTTCAATACGATGATTGCGCCATTAAGCCTCTTAGGGCTGCTAGCAATGGGGTGGGGGCCGTTACTAAAATGGCAGCAAGGACTGTTTCAGAGCCGCAAACGCGTTTTGATGGAGTTTGTGCTGTCAGCGGTACTCGGTGCCATGCTCTATTTGCTGCAAGTGCAGGTATGGGCGCCAATGACTTTGTTGTTCTGGTGTATTACGACCTGGGTGATCGTCAGTCACCTTCGGCTATTATTTGTGATGCCACCGACAAAGAGGCGCCAAAAACTGCCAATGGTGCTTTCTCATATTGGTATTGCATTGGTGTGCCTCGGTGCGATGATGAATGCCCAACATTCGTTTGAACGAAATGTTCGTGTGGAACCTAACTCGTACCATCAGTTCGATGGCTTTTCCATTCGTTATCAAGGAATTGACTGGTCCATTGGACCAAACTACACCGCGGAGCGAGCGTCGGTCTCACTTATCCTTGCCGATAGACAATTTAAATTGTTACCCGAAAGACGGCATTACCCGGTGAGGGTCATGAACATGACAGAGCCCGCAATCAAGTCTTTTTGGCATGGGGATTACTACCTGACTCTGGGTGAGAAAGTCGGGCCTAAAGCCTATGCGTTGAAGATCCAATACCGTGCTTACATTTGGTGGATCTGGCTAGGTGGTTTGATGGTTGTTGCTGCGGTGTTCACTGCATTACAGCCAGTTCAGCAACGCGTTAAGGTGGAGCGCTACTGTGAACAATAA']\n",
      " ['contig_1' '5536' '5712' '1317' '1838' '7266' '7907'\n",
      "  'ATGCGTGCTGTGATAGTTATCGAAACTAATATCAAAGCCAGCGAAATCTTTTTGGTGCTCGATGCTCACCGCAGCAATCATCTCTTCTGGAGACATACCCATCTGTTGCGCTTTAAGCATAATTGGCGTGCCGTGAGCGTCGTCAGCACAGATGAAGTTTACAATGTTGCCGCGTAG']\n",
      " ['contig_1' '25910' '26884' '25068' '25871' '29682' '31112'\n",
      "  'ATGATAGGCGTTGCTACTTTTTGGGCATATTCGCAAACCAAAACCTACGTTAACCAACCGCTCAAACTCGAGGGCAGTGAGATCATCACCATTCCTTCAGGAAGTGGCTTTGGCCGCACATTGGCCATACTGACAGAGAAAGGCTGGATTGATGAACCCACACCTCTGGTGCGCTTAATTCCCAAACTCTACCCAGAAATTACTCGAATAAAAGCAGGTACCTACCAAATCCAATCAGAGATGTCGCTTTATCAAGCTTTGGAAGTGTTCAATCTTGGCAAAGAACATCAATTTACCATCACATTTGTCGAGGGAAGTCGTTTCCAAGAGTGGATGGTGCAGATGGCACAAGACCCTTATTTGGTTCATGAATTGGCAGGTTTGAGCGAAGCAGAAATTGCCAAGCGACTGGAGATACCCTATGAAAAGCTTGAAGGCCTTTTTCTTGCGGAAACCTATCACTATACCTACGGCACTTCTGATGTTGAGTTACTCAAACGCGCACATGAGAAGTTAAATCGAGTGCTGGATAAACATTGGCAGCAGCGTCAAGATAAGTTGCCGCTAAAAAACAGTTATGAAGCGCTAATTCTAGCTTCCATTATTGAGAAAGAAACCGCTATTGATGAAGAAAGAGAGCGAGTTGCGTCTGTATTTGTGAACCGCTTAAATAAGCGAATGCGCTTGCAAACGGACCCTACGGTGATCTATGGCATGGGGGAGGCCTACGATGGCAACATTCGCAAGAAAGATCTTCGCACGCCAACGCCATACAATACTTACGTGATTAACGGATTGCCACCGACGCCGATTGCGATGGCGGGAGAAGCCTCTATCGCTGCCGCATTAAATCCAGAGAACAGCAGCTATCTTTACTTTGTCGCTAGCGGTAAGGGGGGGCATGTGTTCTCAAAAACATTAGCTGAACATAATAGAGCAGTAAGAGCATATCTGCGGGAATTGAAGAAAAGATGA']\n",
      " ['contig_1' '26953' '27519' '25068' '25871' '29682' '31112'\n",
      "  'TTGGACACATTACGCCAAGCAGGGATTAATGAGATTGCACAAACGCGTGAACCGGGTGGCACACCTTTGGCGGAAAAGATGCGAGCTCTGGTGAAGGAAGAGCATCCTGGCGAGCATTTGCATGACATGACGGAGCTGCTACTGCTCTACGCGGCACGAGTTCAGTTAGTTGAGAATGTCATTAAGCCTGCGCTACACGAAGGAAAGTGGGTGGTGGGTGATCGTCATGATCTCTCTTCCCAAGCGTACCAAGGCGGTGGTCGTCAAATTGATGCGACACTAATGAAAAATCTGCGTGAAACGGCATTAGGAGAGTTTAAGCCAGCCTTTACTCTGTATATGGATATCGATCCTAAAGTGGGCTTGGAGAGAGCGAGAGGGCGAGGAGAGCTCGATCGCATCGAAAAAATGGACATCAGCTTTTTCGAAAGAACACGTCAGCGTTATTTGGAGTTAGCGAAGAGCGATGCGTCTATCGTTACGATTAACGCAGAGCAAAGCATTGAGCAGGTCGCAAACGACATTCGATCTGCGCTCAACCTTTGGCTAGAACAGTTACAGGATTAA']\n",
      " ['contig_1' '28504' '29238' '27524' '28480' '31482' '31883'\n",
      "  'TTGAATTACGATGATCTGCACATAGATGTTGCTGACGTGATCAACAAAGCCAAGCAGGTAAATGTGGAGCAATTGCTGTCTGTCGGTGTGACATTGGATTCTTTTCCAAAAATGCTTGAGCTCATTGAGCCTTTTGACAACGTACACGCCTCTTGTGGAGTGCACCCATTAGACGTGGAAAGTCCCTTTTGCTTGGACAAAATGAAAGCCTATGCCTCGCATTCTAAAGTTGTGGCTATTGGTGAAACGGGTCTTGATTATCACTATAAGCCAGAGACGCAAGCATTGCAGCGTGAACGTTTTGAACAGCAAGTTGCACTCGCGGTTGAGCTGAATAAGCCACTGATTATCCATACGAGGCAAGCGAGAGAAGATACCTTAGCCATTCTTCACAATGGGGGGGCAGACAAATGCGGTGGCGTGATTCACTGTTTTACCGAAGATCTTGCTTTTGCTGAAGCGGCAATGGCGCTCGGTTTTTACATCTCTATCTCTGGAATTGTCACGTTCAGACAAGCAACGGAGCTTAAAGAGGTTGTAAAACACATTCCTTTGGAACGGTTGTTGATCGAAACCGATTCTCCGTACTTGGCACCTGTACCTCATAGGGGCAAAGAGAATCAACCCGCCTATGTTATCGAAGTTGCTGCATATATCGCACAGCTTAAAAACATTTCCTTAGCAAGTGTTGGTGAAAAAACCACCCAAAACTTTAAAAATCTTTTTTTGCGATAG']\n",
      " ['contig_1' '42697' '42837' '39119' '40060' '47555' '48235'\n",
      "  'ATGTTTGGCAGTGGTGAAGGTAATGCTCATCATCATGGTGAAGATGGCGTTGTAAGCCAAGCCAAAGACGTGATTGTTGATAACGAGAAAGCCATGTTGCCCATTGTTCATCACTCATTTGCCCTGTCGGAAGCCAGATGA']\n",
      " ['contig_10' '1820' '1999' '4361' '4912' '14808' '15281'\n",
      "  'ATGTCTATTCGCAATTTAAAAGATGGATCTCAAAAATCTTGGTTATGTGAGTGTTACCCGCAAGGCCGCGCTGGTAAACGTGTTCGTAAATGCTTCACTACCAAAGGCGATGCGACTGCGTATGAACTCCACTTAATGGAAGAGGTGGATGAAGAACCGTGGATGGGGGAACAAACCTGA']\n",
      " ['contig_10' '8927' '9217' '4361' '4912' '14808' '15281'\n",
      "  'GTGCACTTTGACCGTCGATTCAGAGATAAACAATCGGTCTGCGATCTGCTTGTTGCGAAAACCACGCGCCACTTCTTGCAAGATCTGACGCTCACGATCGGTCAGTTCATCGAAGACATCTGTATTTTCTTCACGTTGAAGCAGATATTTCGCGACAACGCTGCTGTAGGCTTTGTCGCCCAAATGCGCTTTCTCAAGCAACTCCACCAGCTCATCGGGCTCGGTATCTTTCAAAAGGTAACCATCCGCACCGGCTTTTACGATGGCTTCGATGTCAGCGGGGCTATCTGA']\n",
      " ['contig_10' '10426' '10695' '4361' '4912' '14808' '15281'\n",
      "  'ATGGTACAGCACCTGAAGAGACTGATTGGCGTGTTGCAGTTTGTGCGTCTTCTCATTCACCGCTTGTTCCAAACCTCGGTAGAGTTTACCCAGGTCAGCTGCCATATTGTTGAAGGTTCTGGTGAGGATACCCATTTCATTATCACTGGTGACATTAAGGGAAACATCAAACGAGCGCGATTGAATTTGCTCACTGGCCGTGACCATCGCCTTGAGTGGCGTAACCACTTCACGACGCACAAAGTGAACAACAAAAATGCTCACCAATAA']\n",
      " ['contig_10' '12246' '14729' '11938' '12243' '15312' '15887'\n",
      "  'ATGACAAGACGTGCGTTTGTGAAAGCAAACGCAGCTGCATCAGCGGCGGCAGTAGCTGGCATTACACTGCCTGCTTCAGCAGCAAACCTGATCGCTAGCTCAGACCAAACCAAAATCACATGGGACAAGGCTCCTTGTCGTTTCTGTGGTACAGGCTGTTCTGTACTCGTAGGTACTCAGAACGGTAAAGTCGTTGCAACACAAGGTGACCCTGAAGCACCAGTAAACAAAGGCTTGAACTGTATCAAAGGTTACTTCCTATCGAAGATCATGTACGGTCAGGACCGTCTGACTCAGCCACTTTTACGTATGAAAGATGGCAAATACGACAAAGAAGGTGACTTCACACCAGTGTCTTGGGATGTGGCATTCGACACCATGGCTGAGAAGTGGAAAGCTTCTCTGGCGAAGAAAGGCCCAACAAGCATCGGTATGTTTGGTTCTGGCCAGTGGACGGTAATGGAAGGTTACGCGGCGGCGAAAATGATGAAAGCGGGTTTCCGCTCGAACAACATCGACCCGAACGCTCGTCACTGTATGGCATCTGCAGTGGTCGGTTTTATGCGTACCTTTGGTATCGATGAACCAATGGGTTGTTACGATGACTTCGAACACGCAGATTCTTTCGTGCTTTGGGGTTCGAACATGGCAGAAATGCACCCTGTTCTTTGGACTCGTATCACTGACCGCCGACTAAGCCACCCGCATGTCAAAGTAAACGTACTTTCTACTTACTACCACCGTTCTTTTGAACTGGCTGACAGCGGTTACATTTTCAAGCCTCAATCTGATTTGGCGATCGCAAACTTCATCGCAAACTACATCATCCAAAACGATGCCGTAAATTGGGATTTCGTTAATAAACACACCAACTTCAAACAAGCGACTACCGATATCGGTTACGGCTTGCGTGACGATGATCCGCTGCAGAAACAAGCGAAAAACCCGAACTCGGGCAATATGACCTCCATTTCGTTTGAAGAGTACAAAAAATCGGTTGCACCATACACAGTTGAAAAAGCCTCAGAGATGTCTGGCGTTGCGCAAGACAAGCTGATTGAACTTGCAAAACAGTATGCGGATCCGAACACCAAAGTGATGTCACTTTGGACAATGGGTATGAACCAACATACTCGTGGTGTGTGGATGAACAGCCTTGTTTACAACATCCACCTACTAACCGGAAAAATCGCAACTCCGGGTAACAGCCCATTCTCATTGACTGGCCAGCCATCTGCTTGTGGTACAGCTCGTGAAGTAGGTACATTTGCACACCGTCTGCCTGCAGACATGGTCGTTGCGAACCCGAAACACCGTGCGATTGCTGAGAAAATTTGGAAACTGCCTGAAGGCACTATTCCACCAAAACCAGGCTTCCACGCAGTTCTTCAAGACCGCATGCTGCACGATGGTGTACTGAACTGTTACTGGGTTCAGTGTAACAACAACATGCAAGCTGGCCCGAACATCAATGGTGAACGTCTACCAGGTTACCGTAACCCTGAAAACTTCATCGTCGTGTCTGACCCATACCCAACGGCGACAGCGCAAGCGGCTGACCTAATCCTTCCTACAGCAATGTGGATCGAAAAAGAAGGCGCTTACGGTAACGCAGAGCGTCGTACTCAAGCTTGGTACCAACAAGTTGGTACAGTAGGCCAAGCGAAGTCTGACTTGTGGCAAGTGATGGAGTTCTCTAAACGCTTCAAGATGGAAGAAGTGTGGCCAGAAGAGCTTCTAGCGAAAGCGCCTCAGTACCGTGGTAAAACCATGTACGACATGTTGTTCGCTAACGGACAAGTGGATAAATTCCCACTGTCAGAAGCTCGCCAGCTTAACGACGATTCACACCACTTTGGTTTCTACGTACAGAAAGGTCTGTTCGAAGAGTATGCTGAGTTTGGCCGCGGCCATGGGCACGACCTAGCACCATACGATGTTTACCACACTGTTCGCGGTTTACGTTGGCCAGTGGTTGACGGCAAAGAAACACTTTGGCGTTACAAAGAAGGCTCGGATCCCTATGCGAAGAAAGGCTCTGGCTGGGACTTCTACGGCAAACCTGATGGCAAAGCACTGATCATCTCAGCCCCTTACGAGGCGCCACCTGAGTCTCCAGATGCTGAATACGACATGTGGCTATGTACTGGCCGTGTTCTTGAACACTGGCATACCGGCACCATGACTCGTCGTGTTCCTGAGCTTTACAAAGCGGTTCCAGACGCGGTGTGTTACATCCACCCAGAAGATGCGAAAGCACGCGGTCTACGCCGTGGTGATGAGGTTCTTATCTCGAACAAACGTGGTGAAGTACGTGTTCGTGTCGAAACTCGTGGCCGTAACCGTCCACCTCAAGGCTTGGTATTCGTACCATTCTTTGATGCACGAATTCTGATTAACAAGTTGATCCTTGATGCGACTGACCCGCTGTCTAAACAGACAGACTTCAAGAAATGTCCAGTTAAGATCACCAAAGTTGCCTAA']]\n"
     ]
    }
   ],
   "source": [
    "#analysis predicted genes that are not in annotated genome\n",
    "print(\"predicted genes - no match in annotated genome: \")\n",
    "print(no_match[:10])"
   ]
  },
  {
   "cell_type": "markdown",
   "metadata": {
    "id": "JYA5v9KSdqTi"
   },
   "source": [
    "Predicted genes that do not have match in the annotated genome tend to occur in long intergenic regions of the genome, that contains false Start codons. For instance, in contig_32, intergenic region [25793: 33513] contains several 'ATG', 'GTG', 'TTG' codons, that are mistaken for START codons in our Viterbi algo - as well as several pseudo STOP codons 'TGA' 'TAA' TAG'. therefore, the Viterbi algo identifies 5 genes in this intergenic region:\n",
    "* positions [26108: 26332],\n",
    "* positions [27923,28081],\n",
    "* positions [28772,28894],\n",
    "* positions [30392,30670],\n",
    "* positions [32924,33502]."
   ]
  },
  {
   "cell_type": "markdown",
   "metadata": {
    "id": "Yy6UtcDbgJOA"
   },
   "source": [
    "Analysis of annotated genes not found by the Viterbi algo"
   ]
  },
  {
   "cell_type": "code",
   "execution_count": 52,
   "metadata": {
    "executionInfo": {
     "elapsed": 1461,
     "status": "ok",
     "timestamp": 1731775466645,
     "user": {
      "displayName": "Céline Roget",
      "userId": "08909459524585325226"
     },
     "user_tz": 300
    },
    "id": "Hwj-ghWNgT6R"
   },
   "outputs": [],
   "source": [
    "perfect_matches, start_matches, stop_matches, no_match = find_matches( cds, cds_predictions, genome_record)"
   ]
  },
  {
   "cell_type": "code",
   "execution_count": 53,
   "metadata": {
    "colab": {
     "base_uri": "https://localhost:8080/"
    },
    "executionInfo": {
     "elapsed": 153,
     "status": "ok",
     "timestamp": 1731775468300,
     "user": {
      "displayName": "Céline Roget",
      "userId": "08909459524585325226"
     },
     "user_tz": 300
    },
    "id": "wI1BtuFGgeAm",
    "outputId": "e26e61c6-c077-491b-8580-c5c91667c6aa"
   },
   "outputs": [
    {
     "name": "stdout",
     "output_type": "stream",
     "text": [
      "Number of perfect matches: 1469\n",
      "Number of start matches: 0\n",
      "Number of stop matches: 478\n",
      "Number of no match: 266\n"
     ]
    }
   ],
   "source": [
    "print(f\"Number of perfect matches: {len(perfect_matches)}\")\n",
    "print(f\"Number of start matches: {len(start_matches)}\")\n",
    "print(f\"Number of stop matches: {len(stop_matches)}\")\n",
    "print(f\"Number of no match: {len(no_match)}\")"
   ]
  },
  {
   "cell_type": "code",
   "execution_count": 54,
   "metadata": {
    "colab": {
     "base_uri": "https://localhost:8080/"
    },
    "executionInfo": {
     "elapsed": 153,
     "status": "ok",
     "timestamp": 1731775479268,
     "user": {
      "displayName": "Céline Roget",
      "userId": "08909459524585325226"
     },
     "user_tz": 300
    },
    "id": "lgIu4lDggeQy",
    "outputId": "ee5d25b9-edd1-4add-f2d4-e8ac85693210"
   },
   "outputs": [
    {
     "name": "stdout",
     "output_type": "stream",
     "text": [
      "predicted genes - no match in annotated genome: \n",
      "[['contig_27' '1' '237' '305' '1051' '2246' '3178'\n",
      "  'GTCCTAAATATCGAACTTTATTATCTGCCACCTTACAGTCCAAACCTCAACCCAATAGAGCGGTTATGGAAAGTAATGAATGAGAAGTCGAGGAACAATGTTTACTTCAAAAGTAAACGGGACTTCAAGGTGGCAATAGACCATTTTTTTGCTGTGACTCTTCCAGAGATCGCAGGCTCTTTGACATCTCGAATTAACGATAATTTTCAGGTTCTCAAGCCTGCATCTTCAAGTTGA']\n",
      " ['contig_362' '1' '380' '0' '0' '2246' '3178'\n",
      "  'GTTGAAAAATATATTGCTCAAATAGCGGCTACAGTTGGTAATCAGCCCCACGGGAGAGCGATGCGAGATGGTTTTATCGAGGACATGCCATTTATTTTTGTTGGTAGTTTTATTTTAATTTTTGCTTTTACACCTTTTTCAGAAGGTACCACTAATACTTTTGGTCGAGTGTGGTTACATTTTGCTACTAAGCACTTCGATACCATTATGATGCACTTCAATATGTTGATGGGGATCATGACGATTTTTGTCTCGTTGGGGGTCGATTACAGTTTGGCGAAAGCTTACAAAATGGATGGCATCTCGAGTGCTGTGTTATCACTGATGTGCTTTTTGTTGGTGGCAGCACCAGCTAAGGAAGGCGCTTTATCGATGGCTCT']\n",
      " ['contig_95' '1' '237' '304' '783' '2974' '3882'\n",
      "  'TTCCTAAATATCGAACTTTATTATCTGCCACCTTACAGTCCAAACCTCAACCCAATAGAGCGGTTATGGAAAGTAATGAATGAGAAGTCGAGGAACAATGTTTACTTCAAAAGTAAACGGGACTTCAAGGTGGCAATAGACCATTTTTTTGCTGTGACTCTTCCAGAGATCGCAGGCTCTTTGACATCTCGAATTAACGATAATTTTCAGGTTCTCAAGCCTGCATCTTCAAGTTGA']\n",
      " ['contig_109' '1' '234' '1045' '2415' '5278' '5379'\n",
      "  'CTAAATATCGAACTTTATTATCTGCCACCTTACAGTCCAAACCTCAACCCAATAGAGCGGTTATGGAAAGTAATGAATGAGAAGTCGAGGAACAATGTTTACTTCAAAAGTAAACGGGACTTCAAGGTGGCAATAGACCATTTTTTTGCTGTGACTCTTCCAGAGATCGCAGGCTCTTTGACATCTCGAATTAACGATAATTTTCAGGTTCTCAAGCCTGCATCTTCAAGTTGA']\n",
      " ['contig_64' '1' '234' '1422' '1487' '3834' '4013'\n",
      "  'CTAAATATCGAACTTTATTATCTGCCACCTTACAGTCCAAACCTCAACCCAATAGAGCGGTTATGGAAAGTAATGAATGAGAAGTCGAGGAACAATGTTTACTTCAAAAGTAAACGGGACTTCAAGGTGGCAATAGACCATTTTTTTGCTGTGACTCTTCCAGAGATCGCAGGCTCTTTGACATCTCGAATTAACGATAATTTTCAGGTTCTCAAGCCTGCATCTTCAAGTTGA']\n",
      " ['contig_163' '1' '234' '1605' '1757' '3641' '4015'\n",
      "  'CTAAATATCGAACTTTATTATCTGCCACCTTACAGTCCAAACCTCAACCCAATAGAGCGGTTATGGAAAGTAATGAATGAGAAGTCGAGGAACAATGTTTACTTCAAAAGTAAACGGGACTTCAAGGTGGCAATAGACCATTTTTTTGCTGTGACTCTTCCAGAGATCGCAGGCTCTTTGACATCTCGAATTAACGATAATTTTCAGGTTCTCAAGCCTGCATCTTCAAGTTGA']\n",
      " ['contig_117' '1' '234' '499' '2223' '3348' '3836'\n",
      "  'CTAAATATCGAACTTTATTATCTGCCACCTTACAGTCCAAACCTCAACCCAATAGAGCGGTTATGGAAAGTAATGAATGAGAAGTCGAGGAACAATGTTTACTTCAAAAGTAAACGGGACTTCAAGGTGGCAATAGACCATTTTTTTGCTGTGACTCTTCCAGAGATCGCAGGCTCTTTGACATCTCGAATTAACGATAATTTTCAGGTTCTCAAGCCTGCATCTTCAAGTTGA']\n",
      " ['contig_92' '1' '234' '1177' '2085' '3855' '4136'\n",
      "  'CTAAATATCGAACTTTATTATCTGCCACCTTACAGTCCAAACCTCAACCCAATAGAGCGGTTATGGAAAGTAATGAATGAGAAGTCGAGGAACAATGTTTACTTCAAAAGTAAACGGGACTTCAAGGTGGCAATAGACCATTTTTTTGCTGTGACTCTTCCAGAGATCGCAGGCTCTTTGACATCTCGAATTAACGATAATTTTCAGGTTCTCAAGCCTGCATCTTCAAGTTGA']\n",
      " ['contig_9' '1' '237' '14363' '14659' '16833' '18260'\n",
      "  'GTCCTAAATATCGAACTTTATTATCTGCCACCTTACAGTCCAAACCTCAACCCAATAGAGCGGTTATGGAAAGTAATGAATGAGAAGTCGAGGAACAATGTTTACTTCAAAAGTAAACGGGACTTCAAGGTGGCAATAGACCATTTTTTTGCTGTGACTCTTCCAGAGATCGCAGGCTCTTTGACATCTCGAATTAACGATAATTTTCAGGTTCTCAAGCCTGCATCTTCAAGTTGA']\n",
      " ['contig_189' '1' '240' '0' '0' '16833' '18260'\n",
      "  'GGGCCAACGCTGAGGTTTGTTGACCTCAGCCAAAAAATTGAAAAGGGCGACTGGGTGATGGTCTCTTCTCTCCCAACCGCCGATGCGGGATACAAAGTTCTGTCGGTCGTGAAGTTTGATGATCCCGCTCTTGTTGACCATGTTGAAATCGAAGGTCGCATCAACAGCCTCGATGCCAACAGCGGTACATTTAAATTGGGCGCTGGCATTACAGTAAATTACGACAATGGTACCGTTATT']]\n"
     ]
    }
   ],
   "source": [
    "#analysis annotated genes that are not found by the algo\n",
    "print(\"predicted genes - no match in annotated genome: \")\n",
    "print(no_match[:10])"
   ]
  },
  {
   "cell_type": "markdown",
   "metadata": {
    "id": "z3cW97mAhfSA"
   },
   "source": [
    "Undetected genes seem to begin with unsual START Codons: 'GTC' 'GTT' 'TTC' 'CTA' 'GGG'. Because the Viterbi algo was calibrated based on only 3 start codons: 'ATG', 'GTG', 'TTG', it cannot detect these genes."
   ]
  }
 ],
 "metadata": {
  "colab": {
   "authorship_tag": "ABX9TyPWNnqGZG3vVYx9xmMji8la",
   "provenance": [
    {
     "file_id": "1S0gzRdHnRjyHIOhRmW_ljGY4bUpvGUpV",
     "timestamp": 1731282655846
    },
    {
     "file_id": "1wJ6C5uIXWk2FJIS3bllqIkIA0SFBx1Lb",
     "timestamp": 1731166539429
    },
    {
     "file_id": "1bwZvjrm0dZnTODUfYrfEbzQqjINmrDLT",
     "timestamp": 1730820821358
    }
   ],
   "toc_visible": true
  },
  "kernelspec": {
   "display_name": "Python 3",
   "name": "python3"
  },
  "language_info": {
   "name": "python"
  }
 },
 "nbformat": 4,
 "nbformat_minor": 0
}
