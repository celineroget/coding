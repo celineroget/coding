{
 "cells": [
  {
   "cell_type": "markdown",
   "metadata": {
    "id": "34pVeIUwbVpL"
   },
   "source": [
    "# **COMP561 - Fall 2024  - Homework#1**\n"
   ]
  },
  {
   "cell_type": "markdown",
   "metadata": {
    "id": "l7siIMLzdQpw"
   },
   "source": [
    "# Question #1 - Global pairwise sequence alignment, with splippage-aware scoring"
   ]
  },
  {
   "cell_type": "markdown",
   "metadata": {
    "id": "yTT6znMzbJHE"
   },
   "source": [
    "In this question, we implement a version of the Needleman-Wunsch algorithm, modified to take into account the splippage-aware scoring: Score(A) = same as standard linear gap penalty scoring scheme, except that:\n",
    "\n",
    "1. if A[1,i] = ‘-‘, the score assigned to column i is:\n",
    "cs if A[2,i]=A[2,i-1]\n",
    "cn otherwise\n",
    "\n",
    "2. if A[2,i] = ‘-‘, the score assigned to column i is:\n",
    "cs if A[1,i]=A[1,i-1]\n",
    "cn otherwise"
   ]
  },
  {
   "cell_type": "markdown",
   "metadata": {
    "id": "oowr3rJm0aIe"
   },
   "source": [
    "# I - Needleman-Wunsch algorithm, with splipage aware penalty"
   ]
  },
  {
   "cell_type": "markdown",
   "metadata": {
    "id": "i3EaSidVktom"
   },
   "source": [
    "\n",
    "\n",
    "To take into account this specific splippage-aware gap penalty, we need to bring the following changes to the Needleman-Wunsch algorithm:\n",
    "\n",
    "1 - initialization:\n",
    "X[0, 0] = 0\n",
    "X[0, 1] = cn\n",
    "For i>1, X[0, i] = X[0, i-1] + cs if A[2,i] = A[2,i-1], X[0, i-1] + cn otherwise\n",
    "Similarly, X[1, 0] = cn\n",
    "For j>1, X[j, 0] = X[j-1, 0] + cs if A[1,j] = A[1,j-1], X[j-1, 0] + cn otherwise\n",
    "\n",
    "2 - Filling the score matrix:\n",
    "similarly to N-W algorithm, there are always 3 cases to consider:\n",
    "\n",
    "case1: alignment of the 2 elements (i, j): Score(i,j) = Score(i-1, j-1) + match or mismatch cost (same as N-W algo)\n",
    "case2: gap in sequence1: Score(i,j) = Score(i-1, j) + gap penalty (with splippage)\n",
    "case2: gap in sequence2: Score(i,j) = Score(i, j-1) + gap penalty(with splippage)\n",
    "\n",
    "The only difference is on the calculation of the gap penalty with splippage, where we need to consider the previous 2 consecutive elements in the other sequence to determine which gap penalty (with splippage or without splippage) to apply.\n"
   ]
  },
  {
   "cell_type": "code",
   "execution_count": 1,
   "metadata": {
    "executionInfo": {
     "elapsed": 175,
     "status": "ok",
     "timestamp": 1727724583971,
     "user": {
      "displayName": "Céline Roget",
      "userId": "08909459524585325226"
     },
     "user_tz": 240
    },
    "id": "ieKbwfmWu7qJ"
   },
   "outputs": [],
   "source": [
    "import numpy as np\n",
    "\n",
    "# Inputs\n",
    "MATCH_SCORE = 1\n",
    "MISMATCH_SCORE = -1\n",
    "CS = -1  # Slippage gap penalty\n",
    "CN = -2  # Non-slippage gap penalty\n"
   ]
  },
  {
   "cell_type": "markdown",
   "metadata": {
    "id": "x2PUiAnwu857"
   },
   "source": [
    "## step1: Populate Score and Traceback Matrices"
   ]
  },
  {
   "cell_type": "code",
   "execution_count": 2,
   "metadata": {
    "executionInfo": {
     "elapsed": 9,
     "status": "ok",
     "timestamp": 1727724584133,
     "user": {
      "displayName": "Céline Roget",
      "userId": "08909459524585325226"
     },
     "user_tz": 240
    },
    "id": "9XakolpxMt8V"
   },
   "outputs": [],
   "source": [
    "\n",
    "\n",
    "# function that computes the score matrix and trace_back matrix from input data and 2 sequences\n",
    "\n",
    "\n",
    "def needleman_wunsch_slippage(seq1, seq2, match_score=MATCH_SCORE, mismatch_score=MISMATCH_SCORE, cs=CS, cn=CN):\n",
    "\n",
    "    # Initialize a score matrix of size (seq1 + 1 )* (seq2 + 1) with zeros\n",
    "    n1 = len(seq1)\n",
    "    n2 = len(seq2)\n",
    "    score_matrix = np.zeros((n1 + 1, n2 + 1))\n",
    "    # Initialize a traceback_matrix with zeros\n",
    "    traceback_matrix = np.zeros((n1 + 1, n2 + 1))\n",
    "\n",
    "    # Initialization: Fill the score matrix first row and first column with initial gap penalties (with splippage)\n",
    "    score_matrix[1, 0] = cn\n",
    "    score_matrix[0, 1] = cn\n",
    "    traceback_matrix[1, 0] = 2  # (gap in seq2)\n",
    "    traceback_matrix[0, 1] = 3  # (gap in seq1)\n",
    "\n",
    "    for i in range(2, n1 + 1):\n",
    "        traceback_matrix[i, 0] = 2  # (gap in seq2)\n",
    "        if seq1[i - 1] == seq1[i - 2]:\n",
    "            score_matrix[i, 0] = score_matrix[i - 1, 0] + cs  # Slippage gap penalty\n",
    "        else:\n",
    "            score_matrix[i, 0] = score_matrix[i - 1, 0] + cn  # Non-slippage gap penalty\n",
    "    for j in range(2, n2 + 1):\n",
    "        traceback_matrix[0, j] = 3 #(gap in seq1)\n",
    "        if seq2[j - 1] == seq2[j - 2]:\n",
    "            score_matrix[0, j] = score_matrix[0, j - 1] + cs  # Slippage gap penalty\n",
    "        else:\n",
    "            score_matrix[0, j] = score_matrix[0, j - 1] + cn  # Non-slippage gap penalty\n",
    "\n",
    "\n",
    "\n",
    "    # Populate the score matrix (same algo as Needleman-Wunsch, except for the calculation of the penalty)\n",
    "    for i in range(1, n1 + 1):\n",
    "        for j in range(1, n2 + 1):\n",
    "            # 3 cases:\n",
    "            #Case # 1 : align position i in seq 1 and position j:\n",
    "            align = score_matrix[i - 1, j - 1] + (match_score if seq1[i-1] == seq2[j-1] else mismatch_score)\n",
    "            #Case2: align seq1 position i with a gap\n",
    "            gap1 = score_matrix[i - 1, j] + cn  # Default non-slippage gap penalty\n",
    "            #Case3: align seq2 position j with a gap\n",
    "            gap2 = score_matrix[i, j - 1] + cn  # Default non-slippage gap penalty\n",
    "\n",
    "            if i > 1 and seq1[i - 2] == seq1[i - 1]:\n",
    "                gap1 = score_matrix[i - 1, j] + cs  # Slippage gap penalty\n",
    "            if j > 1 and seq2[j - 2] == seq2[j - 1]:\n",
    "                gap2 = score_matrix[i, j - 1] + cs  # Slippage gap penalty\n",
    "\n",
    "            score_matrix[i, j] = max(align, gap1, gap2)\n",
    "\n",
    "              # Track the optimal choice for traceback\n",
    "            if score_matrix[i, j] == align:\n",
    "                traceback_matrix[i, j] = 1  # Diagonal (match/mismatch)\n",
    "            elif score_matrix[i, j] == gap1:\n",
    "                traceback_matrix[i, j] = 2  # Up (gap in seq2)\n",
    "            else:\n",
    "                traceback_matrix[i, j] = 3  # Left (gap in seq1)\n",
    "    return score_matrix, traceback_matrix\n",
    "\n",
    "\n",
    "\n"
   ]
  },
  {
   "cell_type": "markdown",
   "metadata": {
    "id": "ggk9RiB9uwh_"
   },
   "source": [
    "## step2 : Retrieve optimal alignment from traceback matrix"
   ]
  },
  {
   "cell_type": "code",
   "execution_count": 3,
   "metadata": {
    "executionInfo": {
     "elapsed": 8,
     "status": "ok",
     "timestamp": 1727724584134,
     "user": {
      "displayName": "Céline Roget",
      "userId": "08909459524585325226"
     },
     "user_tz": 240
    },
    "id": "23q71JKcu2Cc"
   },
   "outputs": [],
   "source": [
    "# Function to find optimal alignments from the traceback matrix\n",
    "def traceback(score_matrix, traceback_matrix, seq1, seq2):\n",
    "    n1 = len(seq1)\n",
    "    n2 = len(seq2)\n",
    "    # Traceback process to create the aligned sequences\n",
    "    # start with empty strings for align1 and align2\n",
    "    align1, align2 = '', ''\n",
    "    #start to read the traceback matrix at the end (rightest and bottom position), i.e. position (i,j) = (n1, n2)\n",
    "    i, j = n1, n2\n",
    "\n",
    "    while i > 0 or j > 0:\n",
    "        if traceback_matrix[i, j] == 1:  # Diagonal (match/mismatch)\n",
    "            align1 += seq1[i - 1]\n",
    "            align2 += seq2[j - 1]\n",
    "            i -= 1\n",
    "            j -= 1\n",
    "\n",
    "        elif traceback_matrix[i, j] == 2:  # Up (gap in seq2)\n",
    "            align1 += seq1[i - 1]\n",
    "            align2 += '-'\n",
    "            i -= 1\n",
    "\n",
    "        else:  # Left (gap in seq1)\n",
    "            align1 += '-'\n",
    "            align2 += seq2[j - 1]\n",
    "            j -= 1\n",
    "\n",
    "    # Reverse the aligned sequences as they were built backwards\n",
    "    align1 = align1[::-1]\n",
    "    align2 = align2[::-1]\n",
    "\n",
    "    return align1, align2, score_matrix[n1, n2]"
   ]
  },
  {
   "cell_type": "code",
   "execution_count": 4,
   "metadata": {
    "executionInfo": {
     "elapsed": 7,
     "status": "ok",
     "timestamp": 1727724584134,
     "user": {
      "displayName": "Céline Roget",
      "userId": "08909459524585325226"
     },
     "user_tz": 240
    },
    "id": "APDMHoDZbBey"
   },
   "outputs": [],
   "source": [
    "\n",
    "def traceback(score_matrix, traceback_matrix, seq1, seq2):\n",
    "    n1 = len(seq1)\n",
    "    n2 = len(seq2)\n",
    "\n",
    "    # Initialize an empty alignment matrix with 2 rows (number of columns will be the length of alignment, not known initially)\n",
    "    A = [[], []]  # Row 1 :seq1 alignment, Row 2: seq2 alignment\n",
    "\n",
    "    # Start to read the traceback matrix at the end (position (i,j) = (n1, n2))\n",
    "    i, j = n1, n2\n",
    "\n",
    "    while i > 0 or j > 0:\n",
    "        if traceback_matrix[i, j] == 1:  # Diagonal (match/mismatch)\n",
    "            A[0].append(seq1[i - 1])\n",
    "            A[1].append(seq2[j - 1])\n",
    "            i -= 1\n",
    "            j -= 1\n",
    "\n",
    "        elif traceback_matrix[i, j] == 2:  # Up (gap in seq2)\n",
    "            A[0].append(seq1[i - 1])\n",
    "            A[1].append('-')\n",
    "            i -= 1\n",
    "\n",
    "        else:  # Left (gap in seq1)\n",
    "            A[0].append('-')\n",
    "            A[1].append(seq2[j - 1])\n",
    "            j -= 1\n",
    "\n",
    "    # Reverse each row since the traceback process builds the alignment backwards\n",
    "    A[0][::-1]\n",
    "    A[1][::-1]\n",
    "\n",
    "    return A, score_matrix[n1, n2]\n"
   ]
  },
  {
   "cell_type": "markdown",
   "metadata": {
    "id": "eOaDcInHvM6i"
   },
   "source": [
    "# II - Helper functions to read input data\n"
   ]
  },
  {
   "cell_type": "markdown",
   "metadata": {
    "id": "DhDI4xSE0gvT"
   },
   "source": [
    "## step1: retrieve the fasta files from the url addresses"
   ]
  },
  {
   "cell_type": "markdown",
   "metadata": {
    "id": "EYHgr3DdvVjJ"
   },
   "source": [
    "We'll first retrieve the 2 fasta files from the url listed in the homework."
   ]
  },
  {
   "cell_type": "code",
   "execution_count": 5,
   "metadata": {
    "colab": {
     "base_uri": "https://localhost:8080/"
    },
    "executionInfo": {
     "elapsed": 600,
     "status": "ok",
     "timestamp": 1727724584728,
     "user": {
      "displayName": "Céline Roget",
      "userId": "08909459524585325226"
     },
     "user_tz": 240
    },
    "id": "jc37BIeGvj17",
    "outputId": "e8033134-a577-4bef-d43d-05791815f836"
   },
   "outputs": [
    {
     "data": {
      "text/plain": [
       "('hw1_brca1_3utr_full.fasta', <http.client.HTTPMessage at 0x7a9e1e32dcf0>)"
      ]
     },
     "execution_count": 5,
     "metadata": {},
     "output_type": "execute_result"
    }
   ],
   "source": [
    "#Import the urlretrieve function\n",
    "from urllib.request import urlretrieve\n",
    "\n",
    "#url addresses of the 2 fasta files\n",
    "url1 = 'http://www.cs.mcgill.ca/~blanchem/561/hw1_brca1_3utr_small.fa'\n",
    "url2 = 'http://www.cs.mcgill.ca/~blanchem/561/hw1_brca1_3utr_full.fa'\n",
    "\n",
    "#Name of the files to save the data\n",
    "filename1 = 'hw1_brca1_3utr_small.fasta'\n",
    "filename2 = 'hw1_brca1_3utr_full.fasta'\n",
    "\n",
    "\n",
    "\n",
    "#Download the data\n",
    "urlretrieve(url1, filename1)\n",
    "urlretrieve(url2, filename2)\n",
    "\n"
   ]
  },
  {
   "cell_type": "markdown",
   "metadata": {
    "id": "YEr5VJ480pvU"
   },
   "source": [
    "## step 2: parse the fasta files"
   ]
  },
  {
   "cell_type": "markdown",
   "metadata": {
    "id": "FFiTbCCVwnpf"
   },
   "source": [
    "Then, we'll parse the fasta files to extract the information in a dictionary"
   ]
  },
  {
   "cell_type": "code",
   "execution_count": 6,
   "metadata": {
    "executionInfo": {
     "elapsed": 6,
     "status": "ok",
     "timestamp": 1727724584729,
     "user": {
      "displayName": "Céline Roget",
      "userId": "08909459524585325226"
     },
     "user_tz": 240
    },
    "id": "Xux_EsXvwao6"
   },
   "outputs": [],
   "source": [
    "# Function that extracts the data from an input fasta file into a dictionary\n",
    "def parse_fasta_file(input_file):\n",
    "    \"\"\"Return a dict of {id:gene_seq} pairs based on the sequences in the input FASTA file\n",
    "    input_file -- input fasta file\n",
    "    \"\"\"\n",
    "    parsed_seqs = {}\n",
    "    curr_seq_id = None\n",
    "    curr_seq = []\n",
    "    f = open(input_file)\n",
    "# read the file line by line and\n",
    "    for line in f:\n",
    "        line = line.strip()\n",
    "        # for each new indicator of new sequence id:\n",
    "        if line.startswith(\">\"):\n",
    "            if curr_seq_id is not None:\n",
    "                parsed_seqs[curr_seq_id] = ''.join(curr_seq)\n",
    "\n",
    "            curr_seq_id = line[1:]\n",
    "            curr_seq = []\n",
    "            continue\n",
    "\n",
    "        curr_seq.append(line)\n",
    "\n",
    "    #Add the final sequence to the dict\n",
    "    parsed_seqs[curr_seq_id] = ''.join(curr_seq)\n",
    "    return parsed_seqs"
   ]
  },
  {
   "cell_type": "markdown",
   "metadata": {
    "id": "ieCrHXuKkCXp"
   },
   "source": [
    "This parsing function will be used to test the alignment algorithm on  the 2 DNA sequences provided in each Fasta files (see next Section III)."
   ]
  },
  {
   "cell_type": "markdown",
   "metadata": {
    "id": "bPcyJmgL4S9t"
   },
   "source": [
    "# III - Test the algorithm"
   ]
  },
  {
   "cell_type": "markdown",
   "metadata": {
    "id": "dvrtHyVsPEkZ"
   },
   "source": [
    "Putting every pieces together: let's define a function that takes the five following arguments: \\\\\n",
    "(1) File containing the two sequences to be aligned (FASTA format). \\\\\n",
    "\n",
    "(2) The score for matches; \\\\\n",
    "\n",
    "(3) The score for mismatches (assuming that all mismatches are\n",
    "scored identically); \\\\\n",
    "\n",
    "(4) The slippage gap penalty cs; \\\\\n",
    "\n",
    "(5) The non-slippage gap penalty cn. \\\\\n",
    "and prints out the optimal alignment score, and the optimal alignment\n",
    "itself."
   ]
  },
  {
   "cell_type": "code",
   "execution_count": 7,
   "metadata": {
    "executionInfo": {
     "elapsed": 5,
     "status": "ok",
     "timestamp": 1727724584729,
     "user": {
      "displayName": "Céline Roget",
      "userId": "08909459524585325226"
     },
     "user_tz": 240
    },
    "id": "fzYo8F9OPGMX"
   },
   "outputs": [],
   "source": [
    "import os\n",
    "def align_sequences(input_file, match_score, mismatch_score, cs, cn):\n",
    "  # parse the fasta file\n",
    "  f = open(input_file)\n",
    "  parsed_seqs = parse_fasta_file(input_file)\n",
    "  key1 = list(parsed_seqs.keys())[0]\n",
    "  key2 = list(parsed_seqs.keys())[1]\n",
    "  # save the sequences in string variables seq1, seq2\n",
    "  seq1 = parsed_seqs[key1]\n",
    "  seq2 = parsed_seqs[key2]\n",
    "\n",
    "  #compute the Needleman-Wunsch score and traceback matrices\n",
    "  score_matrix, traceback_matrix = needleman_wunsch_slippage(seq1, seq2, match_score, mismatch_score, cs, cn)\n",
    "\n",
    "  #find the optimal alignment, based on the traceback matrix\n",
    "  alignment, score = traceback(score_matrix, traceback_matrix, seq1, seq2)\n",
    "  # Convert matrix rows to strings for output\n",
    "  align1 = ''.join(alignment[0])  # First row for Sequence 1\n",
    "  align2 = ''.join(alignment[1])  # Second row for Sequence 2\n",
    "\n",
    "  # Print the alignment and its score\n",
    "  print(f\"Alignment score: {score}\")\n",
    "  print(f\"\\nOptimal Alignment :\")\n",
    "  print(f\"{key1}: {align1}\")  # Print key1 and align1 on a new line\n",
    "  print(f\"{key2}: {align2}\")  # Print key2 and align2 on a new line\n",
    "\n",
    "  # Save the alignment and its score in a text file\n",
    "  base_file_name = os.path.splitext(os.path.basename(input_file))[0] + \".txt\"\n",
    "\n",
    "    # Define output file name\n",
    "  output_file = \"alignment_output_\" + base_file_name\n",
    "  with open(output_file, 'w') as f_out:\n",
    "        f_out.write(f\"Alignment score: {score}\\n\")\n",
    "        f_out.write(f\"\\nOptimal Alignment :\\n\")\n",
    "        f_out.write(f\"{key1}: {align1}\\n\")\n",
    "        f_out.write(f\"{key2}: {align2}\\n\")\n",
    "\n",
    "  print(f\"\\nAlignment saved in: {output_file}\")"
   ]
  },
  {
   "cell_type": "markdown",
   "metadata": {
    "id": "0gkMFOZO4R9m"
   },
   "source": [
    "## Test1: first DNA sequences (FASTA file : hw1_brca1_3utr_small.fa)"
   ]
  },
  {
   "cell_type": "code",
   "execution_count": 8,
   "metadata": {
    "colab": {
     "base_uri": "https://localhost:8080/"
    },
    "executionInfo": {
     "elapsed": 182,
     "status": "ok",
     "timestamp": 1727724584906,
     "user": {
      "displayName": "Céline Roget",
      "userId": "08909459524585325226"
     },
     "user_tz": 240
    },
    "id": "8v6V4vdVTcfi",
    "outputId": "3f28c7ae-0760-4632-f279-76a3a511a7fd"
   },
   "outputs": [
    {
     "name": "stdout",
     "output_type": "stream",
     "text": [
      "Alignment score: 119.0\n",
      "\n",
      "Optimal Alignment :\n",
      "human_BRCA1_3UTR: CTTCACAAACGATGGTTCAAATAAACGTCACAATTGTCGTGTTGTAAATGTTTTGCATAAAACATGTTAGTTCAGAAGTGACGGGAACGTGTGACCCCCC-CGATCCCTTCTGGATCAGGAAGGTTGTCGATATTTGTCAGGACCTATTACCCAAATACTTTTTGTGAAAAAGAAGGAAGTCGTTCGTTTTAATAAATAC-T---\n",
      "mouse_BRCA1_3UTR: ----ACAAACGATAAATCAAATAAACGTCATAATTGTCGTGTCGTAAATATT-TGTATGAAATATATTAGTCCAGAGGTAACGGGAACGTATGACCCCCCCCGGTCTCTTCTGGATGAGGGGGGTTATAGATATTTGTCAGGTTCTAATACTCAAGTACTTTTTATACAAGAGAAGGAAGTCGTTCGTTTTAATAAATACTTCAT\n",
      "\n",
      "Alignment saved in: alignment_output_hw1_brca1_3utr_small.txt\n"
     ]
    }
   ],
   "source": [
    "align_sequences(filename1, match_score= 1, mismatch_score=-1, cs=-1, cn=-2)"
   ]
  },
  {
   "cell_type": "markdown",
   "metadata": {
    "id": "1pLvhC4JfTTi"
   },
   "source": [
    "## Test2: second DNA sequences (FASTA file : hw1_brca1_3utr_full.fa)"
   ]
  },
  {
   "cell_type": "code",
   "execution_count": 9,
   "metadata": {
    "colab": {
     "base_uri": "https://localhost:8080/"
    },
    "executionInfo": {
     "elapsed": 5358,
     "status": "ok",
     "timestamp": 1727724590261,
     "user": {
      "displayName": "Céline Roget",
      "userId": "08909459524585325226"
     },
     "user_tz": 240
    },
    "id": "FAPe_o8AfcKE",
    "outputId": "86c4f23e-e49f-44b1-91b5-c1a538a79b1c"
   },
   "outputs": [
    {
     "name": "stdout",
     "output_type": "stream",
     "text": [
      "Alignment score: 215.0\n",
      "\n",
      "Optimal Alignment :\n",
      "human_BRCA1_3UTR: CTTCACAAACGATGGTTCAAATAAACGTCACAATTGTCGTGTTGTAAATGTTTTGCATAAAACATGTTAGTTCAGAAGTGACGGGAACGTGTGACCCCCC-CGATCCCTTCTGGATCAGGAAGGTTGTCGATATTTGTCAGGACCTATTACCCAAATACTTTTTGTGAAAAAGAAGGAAGTCGTTCGTTTTAATAAATACTTCGACATACCAAAGTCGTTGTCCCTCGTT-TCCTTTTTTTAGTGGAGTTTCTTTCGTTGTCGAAGGA-AGGACCACCCTAGACAGTAAAATATCTATACTTTATAAGTACGGTCTCCA-GAATATAAAATTCTCCTTACCTAATATATGGTCT-CGATGTTGT-TATTTGTAAAATGAATAAT-GATTACTCCTTAATCTTCTGACAGAAACCTTTGGCCAAGAACTTTTAGAAGACGACAAAATCTTGTGTAAGAAATCTTTAGATCGTTTATATAGAGTCTGAAAATCTTTAGAGAAGATCAAAGTAAAAGGAAAAAAAAAAAAAAAAAAACTCGGTGTCAGAGTGACAGTGGGTCCGACCTCACGGCACCATACTAGAACCGAGTGACGTTGGAGG-TGGAGGGCCCGACTTCACTAAGAGGACGGAATCGGTGGACTCATCGACCCTAATGTCCACAGGTGGTGGTACTGGCCGATTAAAGACATAAAAATCATCTCTACCCCAAAGTGGTACAACCGGTCCGACCA-AAGCTTGAGGAC-TG--GAGGTCACTAGACGGGTGGA-ACCGGAGGGTTTCACGACCCTAATGTCCGCACTCGGTGGTACGGGTCCAAAGTTCAAA-GGAAAAGTAAAGATTATGGACGGA-G-TCTTAAAGGAGG-GGT-TACAAGGT-G-AGGTTG-TAA--A--CTCT-T-GA-CGGGTTC-C---TGATAAGACTGAAATTCAGTGTATTAGCTAGGGTTCGTGAGAGGAAGG---T--AACTTCCCAGACTGAGAGACGGAAACA-CTTGTGTCCCAAAATCTCTTCATTTGAATCCCTT-TG-GTCGATAAGA-GA-A-CTCCG--GT-TCGGTGAGA-CACGAAGGTCGGGATTCGGTTGTTGTC-GGACTT\n",
      "mouse_BRCA1_3UTR: ----ACAAACGATAAATCAAATAAACGTCATAATTGTCGTGTCGTAAATATT-TGTATGAAATATATTAGTCCAGAGGTAACGGGAACGTATGACCCCCCCCGGTCTCTTCTGGATGAGGGGGGTTATAGATATTTGTCAGGTTCTAATACTCAAGTACTTTTTATACAAGAGAAGGAAGTCGTTCGTTTTAATAAATACTTCATCATACGG-AGTCGTTGTCCCTCGTTTTCCCTTCTTTAATGAAGTTTCTTTCGTTGTTG-AGGAAAGGACCACCTTAGGTAGTAACATGTCTGTACTTTATAAGTATAGTCT-CAGGCACATAAATTTCTTCTTACCCAATGAAT-CTCGACGATGTTGTCTA--TGTG--ACGAGTATTCGA-TACCCCTTAATCTTCCGAGAGGAA-CTGTGACCGTGAACTTTTTGGAGT-GT-AA-GTGTAGTTTATGT-AT---TAGACCGA-GACTTAAAG---GA--GTC---ACAG--GA-CG-TGTTT-GGGATAAGACCCACAACAA--AC-C-ACGACCGA-TGATT-T--G---GACCTC--GGAA-C-TCCTCG-T--GACTAAAATT-CAGTTTGGTG-TCTAGAGTTCGGT-AGAGGAA-C-TTC-CTGAACTGAGA-ACCGGAAA-T--AC---T--T-GTAC--G----TTAAA-ATAT----TCCTTGTTTAGTCC----TGGTG-AT-CGAT-AAACAAGAAG--TCAGTATATGTTGA-GTG-CTGTACGGGTAGAGAAAGGTG-GTTT-ACGACACTAATATCCGTTCATGGTGGTACGGGTCG--AGTCTAGTCGGTTCGGTG-AGATGACAGA--GAGGTTCTTGCTATACGTTGTCTA-ATCGTAGAACG-AGTTAACCACCCTATTTCGAAAGAGTCCACTTTTGAAAA-ACACAAGTTCTGTCTG-AAGTTTC-C-CCCTGA-ACCAATCTTTTGGAAATTCCGTGGGTGGGAGT-GTATCCATCTTC-GACCAAAAAGGTCCGCCTACGTACTTTTTATGAATCATTCATCCCACACCTTCGTGGTTTCTGACTCTCCACGAGGGGCCCG-TAC-CTTCTGGTAAAGAA-T\n",
      "\n",
      "Alignment saved in: alignment_output_hw1_brca1_3utr_full.txt\n"
     ]
    }
   ],
   "source": [
    "align_sequences(filename2, match_score= 1, mismatch_score=-1, cs=-1, cn=-2)"
   ]
  }
 ],
 "metadata": {
  "colab": {
   "authorship_tag": "ABX9TyOViU/QzvitOeYsPsHGHJAL",
   "provenance": [
    {
     "file_id": "1FAITxmGYzYooEn1GN-xVJCWfHrACKaDW",
     "timestamp": 1727707707653
    },
    {
     "file_id": "1GLR1oLYfbIrKv_vcjKD4-NdEZqpgO9SP",
     "timestamp": 1726667873990
    }
   ],
   "toc_visible": true
  },
  "kernelspec": {
   "display_name": "Python 3",
   "name": "python3"
  },
  "language_info": {
   "name": "python"
  }
 },
 "nbformat": 4,
 "nbformat_minor": 0
}
